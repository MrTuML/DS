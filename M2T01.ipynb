{
  "cells": [
    {
      "cell_type": "markdown",
      "metadata": {
        "id": "IXL22xsNkgo7"
      },
      "source": [
        "#Exercicis d'estructures de dades amb Python.\n",
        "#Ejercicios de estructuras de datos con Python.\n",
        "#Data structures exercises with Python."
      ]
    },
    {
      "attachments": {},
      "cell_type": "markdown",
      "metadata": {
        "id": "si1f0J4Tkxoq"
      },
      "source": [
        "- Ejercicio 1\n",
        "\n",
        "Crea una lista que agrupe los meses del año en trimestres (1T: enero, febrero y marzo; 2T: abril, mayo, junio...), es decir, una lista con 4 listas dentro.\n",
        "\n",
        "- Exercici 1\n",
        "\n",
        "Crea una llista que agrupi els mesos de l’any en trimestres (1T: gener, febrer i març; 2T: abril, maig, juny...), és a dir, una llista amb 4 llistes dins.\n",
        "\n",
        "- Exercise 1\n",
        "\n",
        "Create a list that groups the months of the year into quarters (Q1: January, February and March; Q2: April, May, June...), that is, a list with 4 lists inside."
      ]
    },
    {
      "cell_type": "code",
      "execution_count": 2,
      "metadata": {
        "colab": {
          "base_uri": "https://localhost:8080/"
        },
        "id": "AnqO4qJ_kVDh",
        "outputId": "b618e356-f5a4-4d30-f16c-ad196ebe6e25"
      },
      "outputs": [
        {
          "name": "stdout",
          "output_type": "stream",
          "text": [
            "[['gener', 'febrer', 'març'], ['abril', 'maig', 'juny'], ['juliol', 'agost', 'setembre'], ['octubre', 'novembre', 'desembre']]\n"
          ]
        }
      ],
      "source": [
        "mesos = [\n",
        "    ['gener', 'febrer', 'març'],     # 1T\n",
        "    ['abril', 'maig', 'juny'],        # 2T\n",
        "    ['juliol', 'agost', 'setembre'],  # 3T\n",
        "    ['octubre', 'novembre', 'desembre']  # 4T\n",
        "]\n",
        "\n",
        "print(mesos)\n"
      ]
    },
    {
      "cell_type": "markdown",
      "metadata": {
        "id": "lD5ECCBLlo22"
      },
      "source": [
        "- Exercici 2\n",
        "\n",
        "Crea un codi que et permeti accedir a:\n",
        "\n",
        "    El segon mes del primer trimestre.\n",
        "    Els mesos del primer trimestre.\n",
        "    Setembre i octubre.\n",
        "\n",
        "\n",
        "- Ejercicio 2\n",
        "\n",
        "Crea un código que te permita acceder a:\n",
        "\n",
        "    El segundo mes del primer trimestre.\n",
        "    Los meses del primer trimestre.\n",
        "    Septiembre y octubre.\n",
        "    \n",
        "\n",
        "- Exercise 2\n",
        "\n",
        "Create a code that gives you access to:\n",
        "\n",
        "    The second month of the first trimester.\n",
        "    The months of the first quarter.\n",
        "    September and October."
      ]
    },
    {
      "cell_type": "code",
      "execution_count": 3,
      "metadata": {
        "colab": {
          "base_uri": "https://localhost:8080/"
        },
        "id": "K3sFUykgmNaS",
        "outputId": "3aaed370-7893-41e8-8b22-a7f6cdf99cfb"
      },
      "outputs": [
        {
          "name": "stdout",
          "output_type": "stream",
          "text": [
            "Segon mes del primer trimestre: febrer\n",
            "Mesos del primer trimestre: ['gener', 'febrer', 'març']\n",
            "Setembre i octubre: ['setembre', 'octubre']\n"
          ]
        }
      ],
      "source": [
        "print(\"Segon mes del primer trimestre:\", mesos[0][1])\n",
        "print(\"Mesos del primer trimestre:\", mesos[0])\n",
        "print(\"Setembre i octubre:\", [mesos[2][2], mesos[3][0]])"
      ]
    },
    {
      "cell_type": "markdown",
      "metadata": {
        "id": "vN2rIqo-mmLD"
      },
      "source": [
        "- Exercici 3\n",
        "\n",
        "Crea una llista amb nombres desordenats i respon a les següents preguntes:\n",
        "Exercicis d'estructures de dades amb Python.\n",
        "\n",
        "- Exercici 1\n",
        "\n",
        "Crea una llista que agrupi els mesos de l’any en trimestres (1T: gener, febrer i març; 2T: abril, maig, juny...), és a dir, una llista amb 4 llistes dins.\n",
        "\n",
        "\n",
        "- Exercici 2\n",
        "\n",
        "Crea un codi que et permeti accedir a:\n",
        "\n",
        "    El segon mes del primer trimestre.\n",
        "    Els mesos del primer trimestre.\n",
        "    Setembre i octubre.\n",
        "\n",
        "\n",
        "- Exercici 3\n",
        "\n",
        "Crea una llista amb nombres desordenats i respon a les següents preguntes:\n",
        "\n",
        "    Quants números hi ha?\n",
        "    Quantes vegades apareix el número 3.\n",
        "    Quantes vegades apareixen els nombres 3 i 4?\n",
        "    Quin és el número més gran?\n",
        "    Quins són els 3 números més petits?\n",
        "    Quin és el rang d’aquesta llista?\n",
        "    \n",
        "\n",
        "- Ejercicio 3\n",
        "\n",
        "Crea una lista con números desordenados y responde a las siguientes preguntas:\n",
        "\n",
        "    ¿Cuántos números hay?\n",
        "    Cuántas veces aparece el número 3.\n",
        "    ¿Cuántas veces aparecen los números 3 y 4?\n",
        "    ¿Cuál es el mayor número?\n",
        "    ¿Cuáles son los 3 números más pequeños?\n",
        "    ¿Cuál es el rango de esa lista?\n",
        "\n",
        "\n",
        "- Exercise 3\n",
        "\n",
        "Create a list with unordered numbers and answer the following questions:\n",
        "\n",
        "    How many numbers are there?\n",
        "    How many times does the number 3 appear.\n",
        "    How many times do the numbers 3 and 4 appear?\n",
        "    What is the biggest number?\n",
        "    What are the 3 smallest numbers?\n",
        "    What is the rank of this list?"
      ]
    },
    {
      "cell_type": "code",
      "execution_count": 4,
      "metadata": {
        "colab": {
          "base_uri": "https://localhost:8080/"
        },
        "id": "Gv3RoK8knU2p",
        "outputId": "1171219c-1b05-4e87-8346-da0b8ba556e1"
      },
      "outputs": [
        {
          "name": "stdout",
          "output_type": "stream",
          "text": [
            "Quants números hi ha? 12\n",
            "Quantes vegades apareix el número 3? 3\n",
            "Quantes vegades apareixen els nombres 3 i 4? 3 + 2 = 5\n",
            "Quin és el número més gran? 9\n",
            "Quins són els 3 números més petits? [1, 2, 3]\n",
            "Quin és el rang d'aquesta llista? 8\n"
          ]
        }
      ],
      "source": [
        "numeros = [5, 3, 8, 2, 4, 9, 3, 7, 1, 4, 6, 3]\n",
        "\n",
        "# Quants números hi ha?\n",
        "nombre_de_numeros = len(numeros)\n",
        "\n",
        "# Quantes vegades apareix el número 3?\n",
        "nombre_d_aparicions_3 = numeros.count(3)\n",
        "\n",
        "# Quantes vegades apareixen els nombres 3 i 4?\n",
        "nombre_d_aparicions_3_i_4 = numeros.count(3) , numeros.count(4)\n",
        "\n",
        "# Quin és el número més gran?\n",
        "numero_mes_gran = max(numeros)\n",
        "\n",
        "# Quins són els 3 números més petits?\n",
        "tres_numeros_mes_petits = sorted(numeros)[:3]\n",
        "\n",
        "# Quin és el rang d'aquesta llista?\n",
        "rang = max(numeros) - min(numeros)\n",
        "\n",
        "print(\"Quants números hi ha?\", nombre_de_numeros)\n",
        "print(\"Quantes vegades apareix el número 3?\", nombre_d_aparicions_3)\n",
        "print(\"Quantes vegades apareixen els nombres 3 i 4?\", nombre_d_aparicions_3_i_4[0],\"+\",nombre_d_aparicions_3_i_4[1],\"=\",sum(nombre_d_aparicions_3_i_4))\n",
        "print(\"Quin és el número més gran?\", numero_mes_gran)\n",
        "print(\"Quins són els 3 números més petits?\", tres_numeros_mes_petits)\n",
        "print(\"Quin és el rang d'aquesta llista?\", rang)\n"
      ]
    },
    {
      "cell_type": "markdown",
      "metadata": {
        "id": "nl5flOt9o48Z"
      },
      "source": [
        "- Exercici 4\n",
        "\n",
        "Crea un diccionari de la següent forma i respon a les preguntes:\n",
        "compra = { \"Pomes\" : {\"Qty\": 5, \"€\": 0.42}, \"Peres\" : {\"Qty\": 3, \"€\": 0.66} }\n",
        "\n",
        "    Afegeix alguna fruita més\n",
        "    Quant han costat les peres en total?\n",
        "    Quantes fruites hem comprat en total?\n",
        "    Quina és la fruita més cara?\n",
        "\n",
        "\n",
        "- Ejercicio 4\n",
        "\n",
        "Crea un diccionario de la siguiente forma y responde a las preguntas:\n",
        "compra = { \"Manzanas\" : {\"Qty\": 5, \"€\": 0.42}, \"Peras\" : {\"Qty\": 3, \"€\": 0.66} }\n",
        "\n",
        "    Añade alguna fruta más\n",
        "    ¿Cuánto han costado las peras en total?\n",
        "    ¿Cuántas frutas hemos comprado en total?\n",
        "    ¿Cuál es la fruta más cara?\n",
        "\n",
        "- Exercise 4\n",
        "\n",
        "Create a dictionary in the following form and answer the questions:\n",
        "buy = { \"Apples\" : {\"Qty\": 5, \"€\": 0.42}, \"Pears\" : {\"Qty\": 3, \"€\": 0.66} }\n",
        "\n",
        "    Add some more fruit\n",
        "    How much did the pears cost in total?\n",
        "    How many fruits did we buy in total?\n",
        "    What is the most expensive fruit?\n",
        "\n",
        "\n",
        "\n"
      ]
    },
    {
      "cell_type": "code",
      "execution_count": 5,
      "metadata": {
        "colab": {
          "base_uri": "https://localhost:8080/"
        },
        "id": "0Ne2Y77Wo4Rp",
        "outputId": "272f6723-9f9c-4d93-9ab5-84a26f3bfb58"
      },
      "outputs": [
        {
          "name": "stdout",
          "output_type": "stream",
          "text": [
            "Diccionari de compres actualitzat: {'Pomes': {'Qty': 5, '€': 0.42}, 'Peres': {'Qty': 3, '€': 0.66}, 'Taronges': {'Qty': 4, '€': 0.58}}\n",
            "Cost total de les peres: 1.98\n",
            "Total de fruites comprades: 12\n",
            "Fruita més cara: Peres\n"
          ]
        }
      ],
      "source": [
        "compra = {\"Pomes\": {\"Qty\": 5, \"€\": 0.42}, \"Peres\": {\"Qty\": 3, \"€\": 0.66}}\n",
        "\n",
        "# Afegeix alguna fruita més\n",
        "compra[\"Taronges\"] = {\"Qty\": 4, \"€\": 0.58}\n",
        "\n",
        "# Quant han costat les peres en total?\n",
        "cost_peres_total = compra[\"Peres\"][\"Qty\"] * compra[\"Peres\"][\"€\"]\n",
        "\n",
        "# Quantes fruites hem comprat en total?\n",
        "total_fruites_comprades = sum(fruita[\"Qty\"] for fruita in compra.values())\n",
        "\n",
        "# Quina és la fruita més cara?\n",
        "fruita_mes_cara = max(compra, key=lambda x: compra[x][\"€\"])\n",
        "\n",
        "print(\"Diccionari de compres actualitzat:\", compra)\n",
        "print(\"Cost total de les peres:\", cost_peres_total)\n",
        "print(\"Total de fruites comprades:\", total_fruites_comprades)\n",
        "print(\"Fruita més cara:\", fruita_mes_cara)\n"
      ]
    }
  ],
  "metadata": {
    "colab": {
      "provenance": []
    },
    "kernelspec": {
      "display_name": "Python 3",
      "language": "python",
      "name": "python3"
    },
    "language_info": {
      "codemirror_mode": {
        "name": "ipython",
        "version": 3
      },
      "file_extension": ".py",
      "mimetype": "text/x-python",
      "name": "python",
      "nbconvert_exporter": "python",
      "pygments_lexer": "ipython3"
    },
    "vscode": {
      "interpreter": {
        "hash": "af153e239d61b5c0d363f35fe8a0509d492506f382d017c98fa3fb49fce70a72"
      }
    }
  },
  "nbformat": 4,
  "nbformat_minor": 0
}
