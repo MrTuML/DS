{
  "nbformat": 4,
  "nbformat_minor": 0,
  "metadata": {
    "colab": {
      "provenance": []
    },
    "kernelspec": {
      "name": "python3",
      "display_name": "Python 3"
    },
    "language_info": {
      "name": "python"
    }
  },
  "cells": [
    {
      "cell_type": "markdown",
      "source": [
        "# Exercicis per practicar amb regressions.\n",
        "# Ejercicios por practicar con regresiones.\n",
        "# Exercises to practice with regressions."
      ],
      "metadata": {
        "id": "vq1YqjhM_E4L"
      }
    },
    {
      "cell_type": "markdown",
      "source": [
        "- Exercici 1\n",
        "\n",
        "Crea almenys dos models de regressió diferents per intentar predir el millor possible el preu de les vivendes (MEDV) de l'arxiu adjunt.\n",
        "\n",
        "- Ejercicio 1\n",
        "\n",
        "Crea al menos dos modelos de regresión distintos para intentar predecir lo mejor posible el precio de las viviendas (MEDV) del archivo adjunto.\n",
        "\n",
        "- Exercise 1\n",
        "\n",
        "Create at least two different regression models to try to best predict the house price (MEDV) in the attached file."
      ],
      "metadata": {
        "id": "9yO40GKu_enV"
      }
    },
    {
      "cell_type": "code",
      "execution_count": 1,
      "metadata": {
        "colab": {
          "base_uri": "https://localhost:8080/"
        },
        "id": "gRYqyP4P-59R",
        "outputId": "0f65abde-450b-4b19-ed8f-1d9e1404ae08"
      },
      "outputs": [
        {
          "output_type": "stream",
          "name": "stdout",
          "text": [
            "Mounted at /content/gdrive\n"
          ]
        }
      ],
      "source": [
        "from google.colab import drive\n",
        "drive.mount('/content/gdrive')"
      ]
    },
    {
      "cell_type": "code",
      "source": [
        "import pandas as pd\n",
        "import numpy as np\n",
        "import matplotlib.pyplot as plt\n",
        "import seaborn as sns\n",
        "import scipy"
      ],
      "metadata": {
        "id": "mloCtr3nCwCR"
      },
      "execution_count": 2,
      "outputs": []
    },
    {
      "cell_type": "markdown",
      "source": [
        "1. Title: Boston Housing Data\n",
        "\n",
        "2. Sources:\n",
        "   (a) Origin:  This dataset was taken from the StatLib library which is maintained at Carnegie Mellon University.\n",
        "   (b) Creator:  Harrison, D. and Rubinfeld, D.L. 'Hedonic prices and the demand for clean air', J. Environ. Economics & Management, vol.5, 81-102, 1978.\n",
        "   (c) Date: July 7, 1993\n",
        "\n",
        "3. Past Usage:\n",
        "   -   Used in Belsley, Kuh & Welsch, 'Regression diagnostics ...', Wiley, 1980.   N.B. Various transformations are used in the table on pages 244-261.\n",
        "  -  Quinlan,R. (1993). Combining Instance-Based and Model-Based Learning. In Proceedings on the Tenth International Conference of Machine Learning, 236-243, University of Massachusetts, Amherst. Morgan Kaufmann.\n",
        "\n",
        "4. Relevant Information:\n",
        "Concerns housing values in suburbs of Boston.\n",
        "\n",
        "5. Number of Instances: 506\n",
        "\n",
        "6. Number of Attributes:\n",
        "13 continuous attributes (including \"class\" attribute \"MEDV\"), 1 binary-valued attribute.\n",
        "\n",
        "7. Attribute Information:"
      ],
      "metadata": {
        "id": "khOvByBsGUgK"
      }
    },
    {
      "cell_type": "code",
      "source": [
        "df = pd.read_csv('/content/gdrive/MyDrive/DS/S6.Algoritmes d’aprenentatge supervisat Regressió/housing data.csv', sep=',',header=None)"
      ],
      "metadata": {
        "id": "fxQdAsxsDJaa"
      },
      "execution_count": 3,
      "outputs": []
    },
    {
      "cell_type": "code",
      "source": [
        "df.head(3)"
      ],
      "metadata": {
        "colab": {
          "base_uri": "https://localhost:8080/",
          "height": 143
        },
        "id": "yddgd48xGGOX",
        "outputId": "0fa1a32e-890b-4ac9-fb5f-5702e4e20fad"
      },
      "execution_count": null,
      "outputs": [
        {
          "output_type": "execute_result",
          "data": {
            "text/plain": [
              "        0     1     2   3      4      5     6       7   8      9     10  \\\n",
              "0  0.00632  18.0  2.31   0  0.538  6.575  65.2  4.0900   1  296.0  15.3   \n",
              "1  0.02731   0.0  7.07   0  0.469  6.421  78.9  4.9671   2  242.0  17.8   \n",
              "2  0.02729   0.0  7.07   0  0.469  7.185  61.1  4.9671   2  242.0  17.8   \n",
              "\n",
              "       11    12    13  \n",
              "0  396.90  4.98  24.0  \n",
              "1  396.90  9.14  21.6  \n",
              "2  392.83  4.03  34.7  "
            ],
            "text/html": [
              "\n",
              "\n",
              "  <div id=\"df-e3acd34c-3e7d-42e2-85f0-9062bed933e8\">\n",
              "    <div class=\"colab-df-container\">\n",
              "      <div>\n",
              "<style scoped>\n",
              "    .dataframe tbody tr th:only-of-type {\n",
              "        vertical-align: middle;\n",
              "    }\n",
              "\n",
              "    .dataframe tbody tr th {\n",
              "        vertical-align: top;\n",
              "    }\n",
              "\n",
              "    .dataframe thead th {\n",
              "        text-align: right;\n",
              "    }\n",
              "</style>\n",
              "<table border=\"1\" class=\"dataframe\">\n",
              "  <thead>\n",
              "    <tr style=\"text-align: right;\">\n",
              "      <th></th>\n",
              "      <th>0</th>\n",
              "      <th>1</th>\n",
              "      <th>2</th>\n",
              "      <th>3</th>\n",
              "      <th>4</th>\n",
              "      <th>5</th>\n",
              "      <th>6</th>\n",
              "      <th>7</th>\n",
              "      <th>8</th>\n",
              "      <th>9</th>\n",
              "      <th>10</th>\n",
              "      <th>11</th>\n",
              "      <th>12</th>\n",
              "      <th>13</th>\n",
              "    </tr>\n",
              "  </thead>\n",
              "  <tbody>\n",
              "    <tr>\n",
              "      <th>0</th>\n",
              "      <td>0.00632</td>\n",
              "      <td>18.0</td>\n",
              "      <td>2.31</td>\n",
              "      <td>0</td>\n",
              "      <td>0.538</td>\n",
              "      <td>6.575</td>\n",
              "      <td>65.2</td>\n",
              "      <td>4.0900</td>\n",
              "      <td>1</td>\n",
              "      <td>296.0</td>\n",
              "      <td>15.3</td>\n",
              "      <td>396.90</td>\n",
              "      <td>4.98</td>\n",
              "      <td>24.0</td>\n",
              "    </tr>\n",
              "    <tr>\n",
              "      <th>1</th>\n",
              "      <td>0.02731</td>\n",
              "      <td>0.0</td>\n",
              "      <td>7.07</td>\n",
              "      <td>0</td>\n",
              "      <td>0.469</td>\n",
              "      <td>6.421</td>\n",
              "      <td>78.9</td>\n",
              "      <td>4.9671</td>\n",
              "      <td>2</td>\n",
              "      <td>242.0</td>\n",
              "      <td>17.8</td>\n",
              "      <td>396.90</td>\n",
              "      <td>9.14</td>\n",
              "      <td>21.6</td>\n",
              "    </tr>\n",
              "    <tr>\n",
              "      <th>2</th>\n",
              "      <td>0.02729</td>\n",
              "      <td>0.0</td>\n",
              "      <td>7.07</td>\n",
              "      <td>0</td>\n",
              "      <td>0.469</td>\n",
              "      <td>7.185</td>\n",
              "      <td>61.1</td>\n",
              "      <td>4.9671</td>\n",
              "      <td>2</td>\n",
              "      <td>242.0</td>\n",
              "      <td>17.8</td>\n",
              "      <td>392.83</td>\n",
              "      <td>4.03</td>\n",
              "      <td>34.7</td>\n",
              "    </tr>\n",
              "  </tbody>\n",
              "</table>\n",
              "</div>\n",
              "      <button class=\"colab-df-convert\" onclick=\"convertToInteractive('df-e3acd34c-3e7d-42e2-85f0-9062bed933e8')\"\n",
              "              title=\"Convert this dataframe to an interactive table.\"\n",
              "              style=\"display:none;\">\n",
              "\n",
              "  <svg xmlns=\"http://www.w3.org/2000/svg\" height=\"24px\"viewBox=\"0 0 24 24\"\n",
              "       width=\"24px\">\n",
              "    <path d=\"M0 0h24v24H0V0z\" fill=\"none\"/>\n",
              "    <path d=\"M18.56 5.44l.94 2.06.94-2.06 2.06-.94-2.06-.94-.94-2.06-.94 2.06-2.06.94zm-11 1L8.5 8.5l.94-2.06 2.06-.94-2.06-.94L8.5 2.5l-.94 2.06-2.06.94zm10 10l.94 2.06.94-2.06 2.06-.94-2.06-.94-.94-2.06-.94 2.06-2.06.94z\"/><path d=\"M17.41 7.96l-1.37-1.37c-.4-.4-.92-.59-1.43-.59-.52 0-1.04.2-1.43.59L10.3 9.45l-7.72 7.72c-.78.78-.78 2.05 0 2.83L4 21.41c.39.39.9.59 1.41.59.51 0 1.02-.2 1.41-.59l7.78-7.78 2.81-2.81c.8-.78.8-2.07 0-2.86zM5.41 20L4 18.59l7.72-7.72 1.47 1.35L5.41 20z\"/>\n",
              "  </svg>\n",
              "      </button>\n",
              "\n",
              "\n",
              "\n",
              "    <div id=\"df-aaed008d-f9fd-4ab3-8086-5dcd93619cd9\">\n",
              "      <button class=\"colab-df-quickchart\" onclick=\"quickchart('df-aaed008d-f9fd-4ab3-8086-5dcd93619cd9')\"\n",
              "              title=\"Suggest charts.\"\n",
              "              style=\"display:none;\">\n",
              "\n",
              "<svg xmlns=\"http://www.w3.org/2000/svg\" height=\"24px\"viewBox=\"0 0 24 24\"\n",
              "     width=\"24px\">\n",
              "    <g>\n",
              "        <path d=\"M19 3H5c-1.1 0-2 .9-2 2v14c0 1.1.9 2 2 2h14c1.1 0 2-.9 2-2V5c0-1.1-.9-2-2-2zM9 17H7v-7h2v7zm4 0h-2V7h2v10zm4 0h-2v-4h2v4z\"/>\n",
              "    </g>\n",
              "</svg>\n",
              "      </button>\n",
              "    </div>\n",
              "\n",
              "<style>\n",
              "  .colab-df-quickchart {\n",
              "    background-color: #E8F0FE;\n",
              "    border: none;\n",
              "    border-radius: 50%;\n",
              "    cursor: pointer;\n",
              "    display: none;\n",
              "    fill: #1967D2;\n",
              "    height: 32px;\n",
              "    padding: 0 0 0 0;\n",
              "    width: 32px;\n",
              "  }\n",
              "\n",
              "  .colab-df-quickchart:hover {\n",
              "    background-color: #E2EBFA;\n",
              "    box-shadow: 0px 1px 2px rgba(60, 64, 67, 0.3), 0px 1px 3px 1px rgba(60, 64, 67, 0.15);\n",
              "    fill: #174EA6;\n",
              "  }\n",
              "\n",
              "  [theme=dark] .colab-df-quickchart {\n",
              "    background-color: #3B4455;\n",
              "    fill: #D2E3FC;\n",
              "  }\n",
              "\n",
              "  [theme=dark] .colab-df-quickchart:hover {\n",
              "    background-color: #434B5C;\n",
              "    box-shadow: 0px 1px 3px 1px rgba(0, 0, 0, 0.15);\n",
              "    filter: drop-shadow(0px 1px 2px rgba(0, 0, 0, 0.3));\n",
              "    fill: #FFFFFF;\n",
              "  }\n",
              "</style>\n",
              "\n",
              "    <script>\n",
              "      async function quickchart(key) {\n",
              "        const containerElement = document.querySelector('#' + key);\n",
              "        const charts = await google.colab.kernel.invokeFunction(\n",
              "            'suggestCharts', [key], {});\n",
              "      }\n",
              "    </script>\n",
              "\n",
              "      <script>\n",
              "\n",
              "function displayQuickchartButton(domScope) {\n",
              "  let quickchartButtonEl =\n",
              "    domScope.querySelector('#df-aaed008d-f9fd-4ab3-8086-5dcd93619cd9 button.colab-df-quickchart');\n",
              "  quickchartButtonEl.style.display =\n",
              "    google.colab.kernel.accessAllowed ? 'block' : 'none';\n",
              "}\n",
              "\n",
              "        displayQuickchartButton(document);\n",
              "      </script>\n",
              "      <style>\n",
              "    .colab-df-container {\n",
              "      display:flex;\n",
              "      flex-wrap:wrap;\n",
              "      gap: 12px;\n",
              "    }\n",
              "\n",
              "    .colab-df-convert {\n",
              "      background-color: #E8F0FE;\n",
              "      border: none;\n",
              "      border-radius: 50%;\n",
              "      cursor: pointer;\n",
              "      display: none;\n",
              "      fill: #1967D2;\n",
              "      height: 32px;\n",
              "      padding: 0 0 0 0;\n",
              "      width: 32px;\n",
              "    }\n",
              "\n",
              "    .colab-df-convert:hover {\n",
              "      background-color: #E2EBFA;\n",
              "      box-shadow: 0px 1px 2px rgba(60, 64, 67, 0.3), 0px 1px 3px 1px rgba(60, 64, 67, 0.15);\n",
              "      fill: #174EA6;\n",
              "    }\n",
              "\n",
              "    [theme=dark] .colab-df-convert {\n",
              "      background-color: #3B4455;\n",
              "      fill: #D2E3FC;\n",
              "    }\n",
              "\n",
              "    [theme=dark] .colab-df-convert:hover {\n",
              "      background-color: #434B5C;\n",
              "      box-shadow: 0px 1px 3px 1px rgba(0, 0, 0, 0.15);\n",
              "      filter: drop-shadow(0px 1px 2px rgba(0, 0, 0, 0.3));\n",
              "      fill: #FFFFFF;\n",
              "    }\n",
              "  </style>\n",
              "\n",
              "      <script>\n",
              "        const buttonEl =\n",
              "          document.querySelector('#df-e3acd34c-3e7d-42e2-85f0-9062bed933e8 button.colab-df-convert');\n",
              "        buttonEl.style.display =\n",
              "          google.colab.kernel.accessAllowed ? 'block' : 'none';\n",
              "\n",
              "        async function convertToInteractive(key) {\n",
              "          const element = document.querySelector('#df-e3acd34c-3e7d-42e2-85f0-9062bed933e8');\n",
              "          const dataTable =\n",
              "            await google.colab.kernel.invokeFunction('convertToInteractive',\n",
              "                                                     [key], {});\n",
              "          if (!dataTable) return;\n",
              "\n",
              "          const docLinkHtml = 'Like what you see? Visit the ' +\n",
              "            '<a target=\"_blank\" href=https://colab.research.google.com/notebooks/data_table.ipynb>data table notebook</a>'\n",
              "            + ' to learn more about interactive tables.';\n",
              "          element.innerHTML = '';\n",
              "          dataTable['output_type'] = 'display_data';\n",
              "          await google.colab.output.renderOutput(dataTable, element);\n",
              "          const docLink = document.createElement('div');\n",
              "          docLink.innerHTML = docLinkHtml;\n",
              "          element.appendChild(docLink);\n",
              "        }\n",
              "      </script>\n",
              "    </div>\n",
              "  </div>\n"
            ]
          },
          "metadata": {},
          "execution_count": 6
        }
      ]
    },
    {
      "cell_type": "code",
      "source": [
        "cols = ['CRIM', 'ZN', 'INDUS', 'CHAS', 'NOX', 'RM', 'AGE', 'DIS', 'RAD', 'TAX', 'PTRATIO', 'B', 'LSTAT', 'MEDV']\n",
        "df.columns = cols\n",
        "df.head(3)"
      ],
      "metadata": {
        "colab": {
          "base_uri": "https://localhost:8080/",
          "height": 143
        },
        "id": "BrOUfnNIGuxG",
        "outputId": "08975554-9bcd-428f-b3e8-07b4fb4075f7"
      },
      "execution_count": 9,
      "outputs": [
        {
          "output_type": "execute_result",
          "data": {
            "text/plain": [
              "      CRIM    ZN  INDUS  CHAS    NOX     RM   AGE     DIS  RAD    TAX  \\\n",
              "0  0.00632  18.0   2.31     0  0.538  6.575  65.2  4.0900    1  296.0   \n",
              "1  0.02731   0.0   7.07     0  0.469  6.421  78.9  4.9671    2  242.0   \n",
              "2  0.02729   0.0   7.07     0  0.469  7.185  61.1  4.9671    2  242.0   \n",
              "\n",
              "   PTRATIO       B  LSTAT  MEDV  \n",
              "0     15.3  396.90   4.98  24.0  \n",
              "1     17.8  396.90   9.14  21.6  \n",
              "2     17.8  392.83   4.03  34.7  "
            ],
            "text/html": [
              "\n",
              "\n",
              "  <div id=\"df-4102d76b-445e-49df-94d8-ef314f152429\">\n",
              "    <div class=\"colab-df-container\">\n",
              "      <div>\n",
              "<style scoped>\n",
              "    .dataframe tbody tr th:only-of-type {\n",
              "        vertical-align: middle;\n",
              "    }\n",
              "\n",
              "    .dataframe tbody tr th {\n",
              "        vertical-align: top;\n",
              "    }\n",
              "\n",
              "    .dataframe thead th {\n",
              "        text-align: right;\n",
              "    }\n",
              "</style>\n",
              "<table border=\"1\" class=\"dataframe\">\n",
              "  <thead>\n",
              "    <tr style=\"text-align: right;\">\n",
              "      <th></th>\n",
              "      <th>CRIM</th>\n",
              "      <th>ZN</th>\n",
              "      <th>INDUS</th>\n",
              "      <th>CHAS</th>\n",
              "      <th>NOX</th>\n",
              "      <th>RM</th>\n",
              "      <th>AGE</th>\n",
              "      <th>DIS</th>\n",
              "      <th>RAD</th>\n",
              "      <th>TAX</th>\n",
              "      <th>PTRATIO</th>\n",
              "      <th>B</th>\n",
              "      <th>LSTAT</th>\n",
              "      <th>MEDV</th>\n",
              "    </tr>\n",
              "  </thead>\n",
              "  <tbody>\n",
              "    <tr>\n",
              "      <th>0</th>\n",
              "      <td>0.00632</td>\n",
              "      <td>18.0</td>\n",
              "      <td>2.31</td>\n",
              "      <td>0</td>\n",
              "      <td>0.538</td>\n",
              "      <td>6.575</td>\n",
              "      <td>65.2</td>\n",
              "      <td>4.0900</td>\n",
              "      <td>1</td>\n",
              "      <td>296.0</td>\n",
              "      <td>15.3</td>\n",
              "      <td>396.90</td>\n",
              "      <td>4.98</td>\n",
              "      <td>24.0</td>\n",
              "    </tr>\n",
              "    <tr>\n",
              "      <th>1</th>\n",
              "      <td>0.02731</td>\n",
              "      <td>0.0</td>\n",
              "      <td>7.07</td>\n",
              "      <td>0</td>\n",
              "      <td>0.469</td>\n",
              "      <td>6.421</td>\n",
              "      <td>78.9</td>\n",
              "      <td>4.9671</td>\n",
              "      <td>2</td>\n",
              "      <td>242.0</td>\n",
              "      <td>17.8</td>\n",
              "      <td>396.90</td>\n",
              "      <td>9.14</td>\n",
              "      <td>21.6</td>\n",
              "    </tr>\n",
              "    <tr>\n",
              "      <th>2</th>\n",
              "      <td>0.02729</td>\n",
              "      <td>0.0</td>\n",
              "      <td>7.07</td>\n",
              "      <td>0</td>\n",
              "      <td>0.469</td>\n",
              "      <td>7.185</td>\n",
              "      <td>61.1</td>\n",
              "      <td>4.9671</td>\n",
              "      <td>2</td>\n",
              "      <td>242.0</td>\n",
              "      <td>17.8</td>\n",
              "      <td>392.83</td>\n",
              "      <td>4.03</td>\n",
              "      <td>34.7</td>\n",
              "    </tr>\n",
              "  </tbody>\n",
              "</table>\n",
              "</div>\n",
              "      <button class=\"colab-df-convert\" onclick=\"convertToInteractive('df-4102d76b-445e-49df-94d8-ef314f152429')\"\n",
              "              title=\"Convert this dataframe to an interactive table.\"\n",
              "              style=\"display:none;\">\n",
              "\n",
              "  <svg xmlns=\"http://www.w3.org/2000/svg\" height=\"24px\"viewBox=\"0 0 24 24\"\n",
              "       width=\"24px\">\n",
              "    <path d=\"M0 0h24v24H0V0z\" fill=\"none\"/>\n",
              "    <path d=\"M18.56 5.44l.94 2.06.94-2.06 2.06-.94-2.06-.94-.94-2.06-.94 2.06-2.06.94zm-11 1L8.5 8.5l.94-2.06 2.06-.94-2.06-.94L8.5 2.5l-.94 2.06-2.06.94zm10 10l.94 2.06.94-2.06 2.06-.94-2.06-.94-.94-2.06-.94 2.06-2.06.94z\"/><path d=\"M17.41 7.96l-1.37-1.37c-.4-.4-.92-.59-1.43-.59-.52 0-1.04.2-1.43.59L10.3 9.45l-7.72 7.72c-.78.78-.78 2.05 0 2.83L4 21.41c.39.39.9.59 1.41.59.51 0 1.02-.2 1.41-.59l7.78-7.78 2.81-2.81c.8-.78.8-2.07 0-2.86zM5.41 20L4 18.59l7.72-7.72 1.47 1.35L5.41 20z\"/>\n",
              "  </svg>\n",
              "      </button>\n",
              "\n",
              "\n",
              "\n",
              "    <div id=\"df-f0aa0a21-6ec2-4250-8bed-513aacf6eb65\">\n",
              "      <button class=\"colab-df-quickchart\" onclick=\"quickchart('df-f0aa0a21-6ec2-4250-8bed-513aacf6eb65')\"\n",
              "              title=\"Suggest charts.\"\n",
              "              style=\"display:none;\">\n",
              "\n",
              "<svg xmlns=\"http://www.w3.org/2000/svg\" height=\"24px\"viewBox=\"0 0 24 24\"\n",
              "     width=\"24px\">\n",
              "    <g>\n",
              "        <path d=\"M19 3H5c-1.1 0-2 .9-2 2v14c0 1.1.9 2 2 2h14c1.1 0 2-.9 2-2V5c0-1.1-.9-2-2-2zM9 17H7v-7h2v7zm4 0h-2V7h2v10zm4 0h-2v-4h2v4z\"/>\n",
              "    </g>\n",
              "</svg>\n",
              "      </button>\n",
              "    </div>\n",
              "\n",
              "<style>\n",
              "  .colab-df-quickchart {\n",
              "    background-color: #E8F0FE;\n",
              "    border: none;\n",
              "    border-radius: 50%;\n",
              "    cursor: pointer;\n",
              "    display: none;\n",
              "    fill: #1967D2;\n",
              "    height: 32px;\n",
              "    padding: 0 0 0 0;\n",
              "    width: 32px;\n",
              "  }\n",
              "\n",
              "  .colab-df-quickchart:hover {\n",
              "    background-color: #E2EBFA;\n",
              "    box-shadow: 0px 1px 2px rgba(60, 64, 67, 0.3), 0px 1px 3px 1px rgba(60, 64, 67, 0.15);\n",
              "    fill: #174EA6;\n",
              "  }\n",
              "\n",
              "  [theme=dark] .colab-df-quickchart {\n",
              "    background-color: #3B4455;\n",
              "    fill: #D2E3FC;\n",
              "  }\n",
              "\n",
              "  [theme=dark] .colab-df-quickchart:hover {\n",
              "    background-color: #434B5C;\n",
              "    box-shadow: 0px 1px 3px 1px rgba(0, 0, 0, 0.15);\n",
              "    filter: drop-shadow(0px 1px 2px rgba(0, 0, 0, 0.3));\n",
              "    fill: #FFFFFF;\n",
              "  }\n",
              "</style>\n",
              "\n",
              "    <script>\n",
              "      async function quickchart(key) {\n",
              "        const containerElement = document.querySelector('#' + key);\n",
              "        const charts = await google.colab.kernel.invokeFunction(\n",
              "            'suggestCharts', [key], {});\n",
              "      }\n",
              "    </script>\n",
              "\n",
              "\n",
              "      <script>\n",
              "\n",
              "function displayQuickchartButton(domScope) {\n",
              "  let quickchartButtonEl =\n",
              "    domScope.querySelector('#df-f0aa0a21-6ec2-4250-8bed-513aacf6eb65 button.colab-df-quickchart');\n",
              "  quickchartButtonEl.style.display =\n",
              "    google.colab.kernel.accessAllowed ? 'block' : 'none';\n",
              "}\n",
              "\n",
              "        displayQuickchartButton(document);\n",
              "      </script>\n",
              "      <style>\n",
              "    .colab-df-container {\n",
              "      display:flex;\n",
              "      flex-wrap:wrap;\n",
              "      gap: 12px;\n",
              "    }\n",
              "\n",
              "    .colab-df-convert {\n",
              "      background-color: #E8F0FE;\n",
              "      border: none;\n",
              "      border-radius: 50%;\n",
              "      cursor: pointer;\n",
              "      display: none;\n",
              "      fill: #1967D2;\n",
              "      height: 32px;\n",
              "      padding: 0 0 0 0;\n",
              "      width: 32px;\n",
              "    }\n",
              "\n",
              "    .colab-df-convert:hover {\n",
              "      background-color: #E2EBFA;\n",
              "      box-shadow: 0px 1px 2px rgba(60, 64, 67, 0.3), 0px 1px 3px 1px rgba(60, 64, 67, 0.15);\n",
              "      fill: #174EA6;\n",
              "    }\n",
              "\n",
              "    [theme=dark] .colab-df-convert {\n",
              "      background-color: #3B4455;\n",
              "      fill: #D2E3FC;\n",
              "    }\n",
              "\n",
              "    [theme=dark] .colab-df-convert:hover {\n",
              "      background-color: #434B5C;\n",
              "      box-shadow: 0px 1px 3px 1px rgba(0, 0, 0, 0.15);\n",
              "      filter: drop-shadow(0px 1px 2px rgba(0, 0, 0, 0.3));\n",
              "      fill: #FFFFFF;\n",
              "    }\n",
              "  </style>\n",
              "\n",
              "      <script>\n",
              "        const buttonEl =\n",
              "          document.querySelector('#df-4102d76b-445e-49df-94d8-ef314f152429 button.colab-df-convert');\n",
              "        buttonEl.style.display =\n",
              "          google.colab.kernel.accessAllowed ? 'block' : 'none';\n",
              "\n",
              "        async function convertToInteractive(key) {\n",
              "          const element = document.querySelector('#df-4102d76b-445e-49df-94d8-ef314f152429');\n",
              "          const dataTable =\n",
              "            await google.colab.kernel.invokeFunction('convertToInteractive',\n",
              "                                                     [key], {});\n",
              "          if (!dataTable) return;\n",
              "\n",
              "          const docLinkHtml = 'Like what you see? Visit the ' +\n",
              "            '<a target=\"_blank\" href=https://colab.research.google.com/notebooks/data_table.ipynb>data table notebook</a>'\n",
              "            + ' to learn more about interactive tables.';\n",
              "          element.innerHTML = '';\n",
              "          dataTable['output_type'] = 'display_data';\n",
              "          await google.colab.output.renderOutput(dataTable, element);\n",
              "          const docLink = document.createElement('div');\n",
              "          docLink.innerHTML = docLinkHtml;\n",
              "          element.appendChild(docLink);\n",
              "        }\n",
              "      </script>\n",
              "    </div>\n",
              "  </div>\n"
            ]
          },
          "metadata": {},
          "execution_count": 9
        }
      ]
    },
    {
      "cell_type": "code",
      "source": [
        "import sklearn\n",
        "from sklearn.model_selection import train_test_split"
      ],
      "metadata": {
        "id": "QaRpmdUjGyio"
      },
      "execution_count": 5,
      "outputs": []
    },
    {
      "cell_type": "code",
      "source": [
        "X = df.drop('MEDV', axis=1)\n",
        "y = df['MEDV']"
      ],
      "metadata": {
        "id": "L4tfaB1MOb2o"
      },
      "execution_count": 10,
      "outputs": []
    },
    {
      "cell_type": "code",
      "source": [
        "X_train, X_test, y_train, y_test = train_test_split(X, y, test_size=0.2, random_state=42)"
      ],
      "metadata": {
        "id": "s19ODQGFOiRZ"
      },
      "execution_count": 7,
      "outputs": []
    },
    {
      "cell_type": "code",
      "source": [
        "from sklearn.linear_model import LinearRegression"
      ],
      "metadata": {
        "id": "JpNgri8YOkT3"
      },
      "execution_count": 11,
      "outputs": []
    },
    {
      "cell_type": "code",
      "source": [
        "# Crear el modelo de regresión lineal\n",
        "model = LinearRegression()\n",
        "\n",
        "# Entrenar el modelo con el conjunto de entrenamiento\n",
        "model.fit(X_train, y_train)\n",
        "\n",
        "# Realizar predicciones en el conjunto de prueba\n",
        "y_pred_linear = model.predict(X_test)"
      ],
      "metadata": {
        "id": "vvy1enYrR62T"
      },
      "execution_count": 19,
      "outputs": []
    },
    {
      "cell_type": "code",
      "source": [
        "from sklearn.ensemble import RandomForestRegressor"
      ],
      "metadata": {
        "id": "Xfyrse71TmuM"
      },
      "execution_count": 14,
      "outputs": []
    },
    {
      "cell_type": "code",
      "source": [
        "# Crear y entrenar un modelo de regresión RandomForest\n",
        "model_rf = RandomForestRegressor(random_state=42)\n",
        "model_rf.fit(X_train, y_train)\n",
        "\n",
        "# Realizar predicciones con el modelo RandomForest\n",
        "y_pred_rf = model_rf.predict(X_test)\n"
      ],
      "metadata": {
        "id": "emzrVyAiTJBt"
      },
      "execution_count": 15,
      "outputs": []
    },
    {
      "cell_type": "code",
      "source": [
        "from sklearn.linear_model import Ridge"
      ],
      "metadata": {
        "id": "89IlkW7EWVjD"
      },
      "execution_count": 22,
      "outputs": []
    },
    {
      "cell_type": "code",
      "source": [
        "# Crear el modelo de regresión Ridge\n",
        "ridge_model = Ridge(alpha=1.0)\n",
        "\n",
        "# Entrenar el modelo con los datos de entrenamiento\n",
        "ridge_model.fit(X_train, y_train)\n",
        "\n",
        "# Realizar predicciones en los datos de prueba\n",
        "y_pred_ridge = ridge_model.predict(X_test)\n"
      ],
      "metadata": {
        "id": "QhVkjSdjWZSD"
      },
      "execution_count": 23,
      "outputs": []
    },
    {
      "cell_type": "markdown",
      "source": [
        "- Exercici 2\n",
        "\n",
        "Compara’ls en base al MSE i al R2.\n",
        "\n",
        "- Ejercicio 2\n",
        "\n",
        "Compárales en base al MSE y al R2.\n",
        "\n",
        "- Exercise 2\n",
        "\n",
        "Compare them based on MSE and R2.\n"
      ],
      "metadata": {
        "id": "aXb2hCbF_pQ6"
      }
    },
    {
      "cell_type": "code",
      "source": [
        "from sklearn.metrics import r2_score\n",
        "from sklearn.metrics import mean_squared_error"
      ],
      "metadata": {
        "id": "sqJG5-gh_yxr"
      },
      "execution_count": 17,
      "outputs": []
    },
    {
      "cell_type": "code",
      "source": [
        "# Calcular el MSE y R2 del modelo de regresión lineal\n",
        "mse_linear = mean_squared_error(y_test, y_pred_linear)\n",
        "r2_linear = r2_score(y_test, y_pred_linear)\n",
        "print(\"MSE (Linear Regression):\", mse_linear)\n",
        "print(\"R2 (Linear Regression):\", r2_linear)\n"
      ],
      "metadata": {
        "colab": {
          "base_uri": "https://localhost:8080/"
        },
        "id": "qoyldeDrTqiY",
        "outputId": "3e7dc5ef-ed89-408d-9891-dd3956112bd8"
      },
      "execution_count": 20,
      "outputs": [
        {
          "output_type": "stream",
          "name": "stdout",
          "text": [
            "MSE (Linear Regression): 24.291119474973478\n",
            "R2 (Linear Regression): 0.6687594935356326\n"
          ]
        }
      ]
    },
    {
      "cell_type": "markdown",
      "source": [
        "Un valor de R2 proper a 1 indica que el model és capaç d'explicar una gran proporció de la variabilitat en les dades de destí. En aquest cas, el valor de 0.67 suggereix que el model de regressió lineal explica aproximadament el 67% de la variabilitat en els preus d'habitatges (MEDV). Tanmateix, el MSE de 24.29 indica que encara hi ha un error significatiu en les prediccions del model.\n",
        "\n",
        "Un valor de R2 cercano a 1 indica que el modelo es capaz de explicar una gran proporción de la variabilidad en los datos de destino. En este caso, el valor de 0.67 sugiere que el modelo de regresión lineal explica aproximadamente el 67% de la variabilidad en los precios de viviendas (MEDV). Sin embargo, el MSE de 24.29 indica que todavía hay un error significativo en las predicciones del modelo.\n",
        "\n",
        "A value of R2 close to 1 indicates that the model is capable of explaining a large proportion of the variability in the target data. In this case, the value of 0.67 suggests that the linear regression model explains approximately 67% of the variability in housing prices (MEDV). However, the MSE of 24.29 indicates that there is still a significant error in the model's predictions."
      ],
      "metadata": {
        "id": "cjIfG5KKU2JA"
      }
    },
    {
      "cell_type": "code",
      "source": [
        "# Calcular el MSE y R2 del modelo RandomForest\n",
        "mse_rf = mean_squared_error(y_test, y_pred_rf)\n",
        "r2_rf = r2_score(y_test, y_pred_rf)\n",
        "print(\"MSE (RandomForest Regression):\", mse_rf)\n",
        "print(\"R2 (RandomForest Regression):\", r2_rf)"
      ],
      "metadata": {
        "colab": {
          "base_uri": "https://localhost:8080/"
        },
        "id": "fzNo--0SUMQ0",
        "outputId": "10766abc-f1e1-407e-bf59-ad56e8df6a13"
      },
      "execution_count": 21,
      "outputs": [
        {
          "output_type": "stream",
          "name": "stdout",
          "text": [
            "MSE (RandomForest Regression): 7.901513892156864\n",
            "R2 (RandomForest Regression): 0.8922527442109116\n"
          ]
        }
      ]
    },
    {
      "cell_type": "markdown",
      "source": [
        "En aquest cas, el valor de 0.89 suggereix que el model de regressió de Random Forest explica aproximadament el 89% de la variabilitat en els preus d'habitatges (MEDV). A més, el MSE de 7.90 és considerablement més baix que el del model de regressió lineal, la qual cosa indica que el model de Random Forest té un millor ajust a les dades i fa prediccions més precises en comparació amb el model de regressió lineal.\n",
        "\n",
        "En este caso, el valor de 0.89 sugiere que el modelo de regresión de Random Forest explica aproximadamente el 89% de la variabilidad en los precios de viviendas (MEDV). Además, el MSE de 7.90 es considerablemente más bajo que el del modelo de regresión lineal, lo que indica que el modelo de Random Forest tiene un mejor ajuste a los datos y realiza predicciones más precisas en comparación con el modelo de regresión lineal.\n",
        "\n",
        "In this case, the value of 0.89 suggests that the Random Forest regression model explains approximately 89% of the variability in housing prices (MEDV). Furthermore, the MSE of 7.90 is considerably lower than that of the linear regression model, indicating that the Random Forest model has a better fit to the data and makes more accurate predictions compared to the linear regression model."
      ],
      "metadata": {
        "id": "13meh6R8VEd2"
      }
    },
    {
      "cell_type": "code",
      "source": [
        "# Calcular el MSE y el R2\n",
        "mse_ridge = mean_squared_error(y_test, y_pred_ridge)\n",
        "r2_ridge = r2_score(y_test, y_pred_ridge)\n",
        "\n",
        "print(\"MSE (Ridge Regression):\", mse_ridge)\n",
        "print(\"R2 (Ridge Regression):\", r2_ridge)"
      ],
      "metadata": {
        "colab": {
          "base_uri": "https://localhost:8080/"
        },
        "id": "tGFdaV8hWeIr",
        "outputId": "37f4ef24-59ca-434a-f392-82f7a6274f31"
      },
      "execution_count": 24,
      "outputs": [
        {
          "output_type": "stream",
          "name": "stdout",
          "text": [
            "MSE (Ridge Regression): 24.477191227708644\n",
            "R2 (Ridge Regression): 0.6662221670168523\n"
          ]
        }
      ]
    },
    {
      "cell_type": "markdown",
      "source": [
        "El model de regressió Ridge també té un R2 similar al model de regressió lineal, indicant que explica al voltant del 66,6% de la variabilitat en els preus de les vivendes. No obstant això, l'MSE és similar al del model de regressió lineal, la qual cosa significa que les prediccions del model de regressió Ridge també tenen un error significatiu en comparació amb els valors reals.\n",
        "\n",
        "El modelo de regresión Ridge también tiene un R2 similar al modelo de regresión lineal, indicando que explica alrededor del 66.6% de la variabilidad en los precios de viviendas. Sin embargo, el MSE es similar al del modelo de regresión lineal, lo que significa que las predicciones del modelo de regresión Ridge también tienen un error significativo en comparación con los valores reales.\n",
        "\n",
        "The Ridge regression model also has a similar R2 to the linear regression model, indicating that it explains around 66.6% of the variability in housing prices. However, the MSE is similar to that of the linear regression model, which means that the predictions of the Ridge regression model also have a significant error compared to the actual values."
      ],
      "metadata": {
        "id": "BaegcKDWXL68"
      }
    },
    {
      "cell_type": "markdown",
      "source": [
        "- Exercici 3\n",
        "\n",
        "Entrena’ls utilitzant els diferents paràmetres que admeten per intentar millorar-ne la predicció.\n",
        "\n",
        "- Ejercicio 3\n",
        "\n",
        "Entrenalos utilizando los diferentes parámetros que admiten para intentar mejorar su predicción.\n",
        "\n",
        "- Exercise 3\n",
        "\n",
        "Train them using the different parameters they support to try to improve their prediction.\n"
      ],
      "metadata": {
        "id": "vEIXJC4I_zOX"
      }
    },
    {
      "cell_type": "markdown",
      "source": [
        "EX1"
      ],
      "metadata": {
        "id": "iE5KoWwpcw6c"
      }
    },
    {
      "cell_type": "markdown",
      "source": [
        "- Exercici 4\n",
        "\n",
        "Compara el seu rendiment emprant l’aproximació traint/test o emprant totes les dades (validació interna).\n",
        "\n",
        "- Ejercicio 4\n",
        "\n",
        "Compara su rendimiento utilizando la aproximación traicionando/test o utilizando todos los datos (validación interna).\n",
        "\n",
        "- Exercise 4\n",
        "\n",
        "Compare your performance using the traint/test approach or using all data (internal validation).\n",
        "\n"
      ],
      "metadata": {
        "id": "x0XJFG7r_791"
      }
    },
    {
      "cell_type": "code",
      "source": [
        "from sklearn.model_selection import cross_val_predict\n",
        "from sklearn.model_selection import cross_val_score\n",
        "\n",
        "# Crear modelos con diferentes parámetros\n",
        "lr_model = LinearRegression()\n",
        "ridge_model = Ridge(alpha=0.1)\n",
        "rf_model = RandomForestRegressor(n_estimators=100, max_depth=10, random_state=42)\n",
        "\n",
        "# Realizar validación cruzada y obtener predicciones\n",
        "y_pred_lr = cross_val_predict(lr_model, X_train, y_train, cv=5)\n",
        "y_pred_ridge = cross_val_predict(ridge_model, X_train, y_train, cv=5)\n",
        "y_pred_rf = cross_val_predict(rf_model, X_train, y_train, cv=5)\n",
        "\n",
        "# Evaluar los modelos con validación cruzada\n",
        "mse_lr_scores = cross_val_score(lr_model, X_train, y_train, cv=5, scoring='neg_mean_squared_error')\n",
        "r2_lr_scores = cross_val_score(lr_model, X_train, y_train, cv=5, scoring='r2')\n",
        "print(f\"MSE (Linear Regression): {abs(mse_lr_scores.mean())}\")\n",
        "print(f\"R2 (Linear Regression): {r2_lr_scores.mean()}\")\n",
        "\n",
        "mse_ridge_scores = cross_val_score(ridge_model, X_train, y_train, cv=5, scoring='neg_mean_squared_error')\n",
        "r2_ridge_scores = cross_val_score(ridge_model, X_train, y_train, cv=5, scoring='r2')\n",
        "print(f\"MSE (Ridge Regression): {abs(mse_ridge_scores.mean())}\")\n",
        "print(f\"R2 (Ridge Regression): {r2_ridge_scores.mean()}\")\n",
        "\n",
        "mse_rf_scores = cross_val_score(rf_model, X_train, y_train, cv=5, scoring='neg_mean_squared_error')\n",
        "r2_rf_scores = cross_val_score(rf_model, X_train, y_train, cv=5, scoring='r2')\n",
        "print(f\"MSE (Random Forest Regression): {abs(mse_rf_scores.mean())}\")\n",
        "print(f\"R2 (Random Forest Regression): {r2_rf_scores.mean()}\")\n"
      ],
      "metadata": {
        "id": "LZgVFLdrAG6h",
        "colab": {
          "base_uri": "https://localhost:8080/"
        },
        "outputId": "a5619345-42e9-405d-b2bd-9e74faf0a22c"
      },
      "execution_count": 43,
      "outputs": [
        {
          "output_type": "stream",
          "name": "stdout",
          "text": [
            "MSE (Linear Regression): 23.654418270304568\n",
            "R2 (Linear Regression): 0.7244357342240269\n",
            "MSE (Ridge Regression): 23.677776898980472\n",
            "R2 (Ridge Regression): 0.7241044173937535\n",
            "MSE (Random Forest Regression): 14.940847065407947\n",
            "R2 (Random Forest Regression): 0.8251901857728022\n"
          ]
        }
      ]
    },
    {
      "cell_type": "markdown",
      "source": [
        "En aquesta comparació, és evident que el model de Regressió Random Forest té el millor rendiment en termes tant de l'error mitjà quadràtic (MSE) com dels valors del coeficient de determinació (R2). Els valors més baixos de MSE i els valors més alts de R2 pel model Random Forest suggereixen que ofereix una millor adaptació als dades i produeix prediccions més precises en comparació amb els models de Regressió Lineal i Regressió Ridge.\n",
        "\n",
        "En esta comparación, es evidente que el modelo de Regresión Random Forest tiene el mejor rendimiento en términos tanto del error cuadrático medio (MSE) como de los valores del coeficiente de determinación (R2). Los valores más bajos de MSE y los valores más altos de R2 para el modelo Random Forest sugieren que proporciona un mejor ajuste a los datos y produce predicciones más precisas en comparación con los modelos de Regresión Lineal y Regresión Ridge.\n",
        "\n",
        "In this comparison, it's evident that the Random Forest Regression model is performing the best in terms of both MSE (Mean Squared Error) and R2 (Coefficient of Determination) scores. The lower MSE and higher R2 values for the Random Forest model suggest that it provides a better fit to the data and produces more accurate predictions compared to the Linear Regression and Ridge Regression models."
      ],
      "metadata": {
        "id": "ulDTJq2NdeEz"
      }
    },
    {
      "cell_type": "markdown",
      "source": [
        "- Exercici 5\n",
        "\n",
        "No facis servir la variable del nombre d'habitacions (RM) a l’hora de fer prediccions.\n",
        "\n",
        "- Ejercicio 5\n",
        "\n",
        "No utilices la variable del número de habitaciones (RM) a la hora de realizar predicciones.\n",
        "\n",
        "- Exercise 5\n",
        "\n",
        "Do not use the number of rooms (RM) variable when making predictions.\n"
      ],
      "metadata": {
        "id": "HugjNBNLAHRg"
      }
    },
    {
      "cell_type": "code",
      "source": [
        "# Excluir la variable 'RM'\n",
        "X = df.drop(['MEDV', 'RM'], axis=1)\n",
        "y = df['MEDV']\n",
        "\n",
        "# Dividir los datos en conjuntos de entrenamiento y prueba\n",
        "X_train, X_test, y_train, y_test = train_test_split(X, y, test_size=0.2, random_state=42)\n",
        "\n",
        "# Crear y entrenar el modelo de Regresión Lineal\n",
        "modelo_lr = LinearRegression()\n",
        "modelo_lr.fit(X_train, y_train)\n",
        "\n",
        "# Crear y entrenar el modelo de Regresión Ridge\n",
        "modelo_ridge = Ridge()\n",
        "modelo_ridge.fit(X_train, y_train)\n",
        "\n",
        "# Crear y entrenar el modelo de Regresión de Bosque Aleatorio\n",
        "modelo_rf = RandomForestRegressor()\n",
        "modelo_rf.fit(X_train, y_train)\n",
        "\n",
        "# Realizar predicciones\n",
        "predicciones_lr = modelo_lr.predict(X_test)\n",
        "predicciones_ridge = modelo_ridge.predict(X_test)\n",
        "predicciones_rf = modelo_rf.predict(X_test)\n",
        "\n",
        "# Calcular los puntajes de MSE y R2\n",
        "mse_lr = mean_squared_error(y_test, predicciones_lr)\n",
        "r2_lr = r2_score(y_test, predicciones_lr)\n",
        "\n",
        "mse_ridge = mean_squared_error(y_test, predicciones_ridge)\n",
        "r2_ridge = r2_score(y_test, predicciones_ridge)\n",
        "\n",
        "mse_rf = mean_squared_error(y_test, predicciones_rf)\n",
        "r2_rf = r2_score(y_test, predicciones_rf)\n",
        "\n",
        "# Imprimir los resultados\n",
        "print(f\"MSE (Regresión Lineal): {mse_lr}\")\n",
        "print(f\"R2 (Regresión Lineal): {r2_lr}\")\n",
        "\n",
        "print(f\"MSE (Regresión Ridge): {mse_ridge}\")\n",
        "print(f\"R2 (Regresión Ridge): {r2_ridge}\")\n",
        "\n",
        "print(f\"MSE (Regresión de Random Forest): {mse_rf}\")\n",
        "print(f\"R2 (Regresión de Random Forest): {r2_rf}\")"
      ],
      "metadata": {
        "colab": {
          "base_uri": "https://localhost:8080/"
        },
        "id": "xBSOYSIZeMu7",
        "outputId": "24054553-1e0e-445e-f814-0d14c7885eac"
      },
      "execution_count": 46,
      "outputs": [
        {
          "output_type": "stream",
          "name": "stdout",
          "text": [
            "MSE (Regresión Lineal): 22.133246888189877\n",
            "R2 (Regresión Lineal): 0.6981848483146986\n",
            "MSE (Regresión Ridge): 22.502067392105385\n",
            "R2 (Regresión Ridge): 0.6931555086567514\n",
            "MSE (Regresión de Random Forest): 12.85440306862745\n",
            "R2 (Regresión de Random Forest): 0.8247137606343717\n"
          ]
        }
      ]
    },
    {
      "cell_type": "markdown",
      "source": [
        "En aquesta comparació, és evident que el model de Regressió de Random Forest té el millor rendiment en termes de puntuacions de MSE (Error Mitjà Quadrat) i R2 (Coeficient de Determinació). Els valors més baixos de MSE i els valors més alts de R2 pel model de Bosc Aleatori suggereixen que proporciona un ajust millor als dades i genera prediccions més precises en comparació amb els models de Regressió Lineal i Regressió Ridge.\n",
        "\n",
        "En esta comparación, es evidente que el modelo de Regresión de Random Forest tiene el mejor rendimiento en términos de puntajes de MSE (Error Cuadrático Medio) y R2 (Coeficiente de Determinación). Los valores más bajos de MSE y los valores más altos de R2 para el modelo de Bosque Aleatorio sugieren que proporciona un ajuste mejor a los datos y genera predicciones más precisas en comparación con los modelos de Regresión Lineal y Regresión Ridge.\n",
        "\n",
        "In this comparison, it's evident that the Random Forest Regression model performs the best in terms of both MSE (Mean Squared Error) and R2 (Coefficient of Determination) scores. The lower MSE and higher R2 values for the Random Forest model suggest that it provides a better fit to the data and produces more accurate predictions compared to the Linear Regression and Ridge Regression models."
      ],
      "metadata": {
        "id": "bxnDmiSgfB0y"
      }
    }
  ]
}