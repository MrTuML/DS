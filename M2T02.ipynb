{
  "cells": [
    {
      "cell_type": "markdown",
      "metadata": {
        "id": "VzcfmjHbXJEY"
      },
      "source": [
        "#Exercicis d'estructures de control amb Python.\n",
        "#Ejercicios de estructuras de control con Python.\n",
        "#Exercises of control structures with Python.\n"
      ]
    },
    {
      "cell_type": "markdown",
      "metadata": {
        "id": "vqekv4cKXL9F"
      },
      "source": [
        "- Exercici 1\n",
        "\n",
        "L'exercici consisteix a crear un programa que et classifiqui una variable numèrica en funció de l’escala Suspès/Aprovat/Notable/Excel·lent.\n",
        "\n",
        "Recorda que Suspès < 5, Aprovat > 5 i < 7, Notable > 7 i < 9 i Excel·lent > 9.\n",
        "\n",
        "- Ejercicio 1\n",
        "\n",
        "El ejercicio consiste en crear un programa que te clasifique una variable numérica en función de la escala Suspendido/Aprobado/Notable/Excelente.\n",
        "\n",
        "Recuerda que Suspendido < 5, Aprobado > 5 y < 7, Notable > 7 y < 9 y Excelente > 9.\n",
        "\n",
        "- Exercise 1\n",
        "\n",
        "The exercise consists of creating a program that classifies you with a numerical variable based on the Failed/Passed/Notable/Excellent scale.\n",
        "\n",
        "Remember that Fail < 5, Pass > 5 and < 7, Notable > 7 and < 9 and Excellent > 9.\n"
      ]
    },
    {
      "cell_type": "code",
      "execution_count": 1,
      "metadata": {
        "colab": {
          "base_uri": "https://localhost:8080/"
        },
        "id": "g6iJEnwUXUHT",
        "outputId": "63ceb735-e08b-4acc-de5c-481c5ed15334"
      },
      "outputs": [
        {
          "name": "stdout",
          "output_type": "stream",
          "text": [
            "Ingresa tu nota: 9\n",
            "Tu clasificación es: Excelente\n"
          ]
        }
      ],
      "source": [
        "def clasificar_nota(nota):\n",
        "    if nota < 5:\n",
        "        return \"Suspendido\"\n",
        "    elif nota < 7:\n",
        "        return \"Aprobado\"\n",
        "    elif nota < 9:\n",
        "        return \"Notable\"\n",
        "    else:\n",
        "        return \"Excelente\"\n",
        "\n",
        "# Ejemplo de uso\n",
        "nota = float(input(\"Ingresa tu nota: \"))\n",
        "clasificacion = clasificar_nota(nota)\n",
        "print(f\"Tu clasificación es: {clasificacion}\")"
      ]
    },
    {
      "cell_type": "markdown",
      "metadata": {
        "id": "8VxI27WdXUeT"
      },
      "source": [
        "- Exercici 2\n",
        "\n",
        "Utilitzant el següent tutorial crea un programa que et pregunti dos números. T’ha de mostrar un missatge dient si el primer és més gran, el segon és més gran o són iguals.\n",
        "\n",
        "->Programiz: Python Input, Output and Import\n",
        "\n",
        "- Ejercicio 2\n",
        "\n",
        "Utilizando el siguiente tutorial, crea un programa que te pregunte dos números. Debe mostrarte un mensaje diciendo si el primero es mayor, el segundo es mayor o son iguales.\n",
        "\n",
        "->Programiz: Python Input, Output and Import\n",
        "\n",
        "- Exercise 2\n",
        "\n",
        "Using the following tutorial, create a program that prompts you for two numbers. It should show you a message saying if the first is bigger, the second is bigger or they are equal.\n",
        "\n",
        "->Programiz: Python Input, Output and Import\n"
      ]
    },
    {
      "cell_type": "code",
      "execution_count": 2,
      "metadata": {
        "colab": {
          "base_uri": "https://localhost:8080/"
        },
        "id": "QFXyvA8jXWg5",
        "outputId": "f3ad09db-e242-4ab1-961a-26e80508055d"
      },
      "outputs": [
        {
          "name": "stdout",
          "output_type": "stream",
          "text": [
            "Ingresa el primer número: 3\n",
            "Ingresa el segundo número: 5\n",
            "El segundo número es mayor.\n"
          ]
        }
      ],
      "source": [
        "num1 = float(input(\"Ingresa el primer número: \"))\n",
        "num2 = float(input(\"Ingresa el segundo número: \"))\n",
        "\n",
        "if num1 > num2:\n",
        "    print(\"El primer número es mayor.\")\n",
        "elif num2 > num1:\n",
        "    print(\"El segundo número es mayor.\")\n",
        "else:\n",
        "    print(\"Ambos números son iguales.\")"
      ]
    },
    {
      "cell_type": "markdown",
      "metadata": {
        "id": "f1R2pG4MXXbp"
      },
      "source": [
        "- Exercici 3\n",
        "\n",
        "Crea un programa que et pregunti el teu nom, i et demani un número. Si el número és 0, hauria de mostrar un missatge d’error. En cas contrari, hauria de mostrar el nom repetit tants cops com indiqui el número. Per exemple, “Joan Joan Joan”.\n",
        "\n",
        "- Ejercicio 3\n",
        "\n",
        "Crea un programa que te pregunte tu nombre y te pida un número. Si el número es 0, debería mostrar un mensaje de error. De lo contrario, debería mostrar el nombre repetido tantas veces como indique el número. Por ejemplo, \"Joan Joan Joan\".\n",
        "\n",
        "- Exercise 3\n",
        "\n",
        "Create a program that asks for your name, and asks for a number. If the number is 0, it should display an error message. Otherwise, it should show the name repeated as many times as the number. For example, \"John John John\"."
      ]
    },
    {
      "cell_type": "code",
      "execution_count": 3,
      "metadata": {
        "colab": {
          "base_uri": "https://localhost:8080/"
        },
        "id": "loJmlrQqXbmx",
        "outputId": "11bec842-15c2-48d1-cdbf-f4f53e690101"
      },
      "outputs": [
        {
          "name": "stdout",
          "output_type": "stream",
          "text": [
            "Ingresa tu nombre: mrtu\n",
            "Ingresa un número: 8\n",
            "mrtu mrtu mrtu mrtu mrtu mrtu mrtu mrtu\n"
          ]
        }
      ],
      "source": [
        "nombre = input(\"Ingresa tu nombre: \")\n",
        "numero = int(input(\"Ingresa un número: \"))\n",
        "\n",
        "if numero == 0:\n",
        "    print(\"Error: El número no puede ser cero.\")\n",
        "else:\n",
        "    nombre_repetido = (nombre + \" \") * numero\n",
        "    print(nombre_repetido.strip())  # Eliminar el espacio en blanco al final"
      ]
    },
    {
      "cell_type": "markdown",
      "metadata": {
        "id": "Abj0IupcXcBr"
      },
      "source": [
        "- Exercici 4\n",
        "\n",
        "Crea un programa que donada una llista qualsevol, et digui si és simètrica o no. Si ho és, que et digui quants elements té.\n",
        "\n",
        "- Ejercicio 4\n",
        "\n",
        "Crea un programa que dada una lista cualquiera, te diga si es simétrica o no. Si lo es, que te diga cuántos elementos tiene.\n",
        "\n",
        "- Exercise 4\n",
        "\n",
        "Create a program that, given any list, tells you whether it is symmetric or not. If it is, tell you how many elements it has."
      ]
    },
    {
      "cell_type": "code",
      "execution_count": 6,
      "metadata": {
        "colab": {
          "base_uri": "https://localhost:8080/"
        },
        "id": "paWRu7AJXinE",
        "outputId": "f7afe282-fccc-4531-d84d-f50417351566"
      },
      "outputs": [
        {
          "name": "stdout",
          "output_type": "stream",
          "text": [
            "Ingresa la lista de números separados por espacios: 1 2 3 2 1\n",
            "La lista es simétrica.\n",
            "La cantidad de elementos es: 5\n"
          ]
        }
      ],
      "source": [
        "def simetrica(lista):\n",
        "    if len(lista) == 1 or len(lista) == 2:\n",
        "        return lista[0] == lista[-1]\n",
        "    else:\n",
        "        if lista[0] != lista[-1]:\n",
        "            return False\n",
        "        else:\n",
        "            return simetrica(lista[1:-1])\n",
        "\n",
        "def contar_elementos(lista):\n",
        "    return len(lista)\n",
        "\n",
        "\n",
        "entrada = input(\"Ingresa la lista de números separados por espacios: \")\n",
        "mi_lista = [int(num) for num in entrada.split()]\n",
        "\n",
        "if es_simetrica(mi_lista):\n",
        "    print(\"La lista es simétrica.\")\n",
        "    print(f\"La cantidad de elementos es: {contar_elementos(mi_lista)}\")\n",
        "else:\n",
        "    print(\"La lista no es simétrica.\")"
      ]
    },
    {
      "cell_type": "code",
      "execution_count": 9,
      "metadata": {
        "colab": {
          "base_uri": "https://localhost:8080/"
        },
        "id": "85cVKKqAer-2",
        "outputId": "9888e84a-f2df-4b51-d20a-48d2132d07b1"
      },
      "outputs": [
        {
          "name": "stdout",
          "output_type": "stream",
          "text": [
            "Ingresa la lista de números separados por espacios: 1\n",
            "La lista es simétrica.\n",
            "La cantidad de elementos es: 1\n"
          ]
        }
      ],
      "source": [
        "\n",
        "\n",
        "def es_simetrica(lista):\n",
        "    return lista == lista[::-1]\n",
        "\n",
        "def contar_elementos(lista):\n",
        "    return len(lista)\n",
        "\n",
        "# Pedir al usuario que ingrese la lista\n",
        "entrada = input(\"Ingresa la lista de números separados por espacios: \")\n",
        "mi_lista = [int(num) for num in entrada.split()]\n",
        "\n",
        "if es_simetrica(mi_lista):\n",
        "    print(\"La lista es simétrica.\")\n",
        "    print(f\"La cantidad de elementos es: {contar_elementos(mi_lista)}\")\n",
        "else:\n",
        "    print(\"La lista no es simétrica.\")"
      ]
    },
    {
      "cell_type": "markdown",
      "metadata": {
        "id": "I1Xwv4-rXi9A"
      },
      "source": [
        "- Exercici 5\n",
        "\n",
        "Crea un programa que donada una llista, et digui quants números coincideixen amb la seva posició. Per exemple [3,4,2,0,2,3,6] el 2 i el 6 coincideixen.\n",
        "\n",
        "- Ejercicio 5\n",
        "\n",
        "Crea un programa que dada una lista, te diga cuántos números coinciden con su posición. Por ejemplo [3,4,2,0,2,3,6] el 2 y el 6 coinciden.\n",
        "\n",
        "- Exercise 5\n",
        "\n",
        "Create a program that, given a list, tells you how many numbers match its position. For example [3,4,2,0,2,3,6] 2 and 6 match.\n",
        "\n",
        "\n",
        "\n"
      ]
    },
    {
      "cell_type": "code",
      "execution_count": 1,
      "metadata": {
        "colab": {
          "base_uri": "https://localhost:8080/"
        },
        "id": "dHX_3tjgYoZ6",
        "outputId": "b0d2ba3b-aac6-4379-975c-a1cf1cea3ada"
      },
      "outputs": [
        {
          "name": "stdout",
          "output_type": "stream",
          "text": [
            "La cantidad de números que coinciden con su posición es: 2\n"
          ]
        }
      ],
      "source": [
        "def contar_coincidencias(lista):\n",
        "    count = 0\n",
        "    for i, num in enumerate(lista):\n",
        "        if num == i:\n",
        "            count += 1\n",
        "    return count\n",
        "\n",
        "# Ejemplo de uso\n",
        "mi_lista = [3, 4, 2, 0, 2, 3, 6]\n",
        "cantidad_coincidencias = contar_coincidencias(mi_lista)\n",
        "print(f\"La cantidad de números que coinciden con su posición es: {cantidad_coincidencias}\")\n"
      ]
    },
    {
      "cell_type": "code",
      "execution_count": 6,
      "metadata": {
        "id": "sPRBqKuufbj8"
      },
      "outputs": [
        {
          "name": "stdout",
          "output_type": "stream",
          "text": [
            "Los números que coinciden de : 1 1 2 2 5 5 6 6 8 8 con su posición son: 1, 2, 5, 6, 8\n"
          ]
        }
      ],
      "source": [
        "def numeros_coinciden_posicion(lista):\n",
        "    coincidencias = []\n",
        "    for i, num in enumerate(lista):\n",
        "        if num == i:\n",
        "            coincidencias.append(num)\n",
        "    return coincidencias\n",
        "\n",
        "entrada = input(\"Ingresa la lista de números separados por espacios: \")\n",
        "mi_lista = [int(num) for num in entrada.split()]\n",
        "\n",
        "numeros_coincidentes = numeros_coinciden_posicion(mi_lista)\n",
        "if numeros_coincidentes:\n",
        "    coincidencias_str = \", \".join(str(num) for num in numeros_coincidentes)\n",
        "    print(f\"Los números que coinciden de : {entrada} con su posición son: {coincidencias_str}\")\n",
        "else:\n",
        "    print(\"No hay números que coincidan con su posición en la lista.\")\n"
      ]
    }
  ],
  "metadata": {
    "colab": {
      "provenance": []
    },
    "kernelspec": {
      "display_name": "Python 3",
      "language": "python",
      "name": "python3"
    },
    "language_info": {
      "codemirror_mode": {
        "name": "ipython",
        "version": 3
      },
      "file_extension": ".py",
      "mimetype": "text/x-python",
      "name": "python",
      "nbconvert_exporter": "python",
      "pygments_lexer": "ipython3",
      "version": "3.10.1"
    },
    "vscode": {
      "interpreter": {
        "hash": "af153e239d61b5c0d363f35fe8a0509d492506f382d017c98fa3fb49fce70a72"
      }
    }
  },
  "nbformat": 4,
  "nbformat_minor": 0
}
