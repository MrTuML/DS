{
  "cells": [
    {
      "cell_type": "markdown",
      "metadata": {
        "id": "slkrw_QUBOLT"
      },
      "source": [
        "# Exercicis d'Hipotesis Testing.\n",
        "# Ejercicios de Hipotesis Testing.\n",
        "# Hypothesis Testing exercises."
      ]
    },
    {
      "cell_type": "markdown",
      "metadata": {
        "id": "OpsV9X9LBg6D"
      },
      "source": [
        "- Exercici 1\n",
        "\n",
        "Descarrega el dataset adjunt de dades oficials de la UEFA i selecciona un atribut del conjunt de dades. Calcula el p-valor i digues si rebutja la hipòtesi nul·la agafant un alfa de 5%.\n",
        "\n",
        "- Ejercicio 1\n",
        "\n",
        "Descarga el dataset adjunto de datos oficiales de la UEFA y selecciona un atributo del conjunto de datos. Calcula el p-valor y di si rechaza la hipótesis nula cogiendo un alfa de 5%.\n",
        "\n",
        "- Exercise 1\n",
        "\n",
        "Download the attached dataset of official UEFA data and select an attribute from the dataset. Calculate the p-value and say whether it rejects the null hypothesis by taking an alpha of 5%."
      ]
    },
    {
      "cell_type": "code",
      "execution_count": 20,
      "metadata": {
        "colab": {
          "base_uri": "https://localhost:8080/"
        },
        "id": "ej23B9D2BBzk",
        "outputId": "730ce391-66e6-44e0-c6b9-84b0440085c7"
      },
      "outputs": [
        {
          "output_type": "stream",
          "name": "stdout",
          "text": [
            "Drive already mounted at /content/gdrive; to attempt to forcibly remount, call drive.mount(\"/content/gdrive\", force_remount=True).\n"
          ]
        }
      ],
      "source": [
        "from google.colab import drive\n",
        "drive.mount('/content/gdrive')"
      ]
    },
    {
      "cell_type": "code",
      "execution_count": null,
      "metadata": {
        "id": "bgfW4hJ-EQi9"
      },
      "outputs": [],
      "source": [
        "import pandas as pd\n",
        "import numpy as np\n",
        "import matplotlib.pyplot as plt\n",
        "import seaborn as sns"
      ]
    },
    {
      "cell_type": "code",
      "execution_count": 21,
      "metadata": {
        "id": "OyWUhHmTDquz"
      },
      "outputs": [],
      "source": [
        "df = pd.read_csv('/content/gdrive/MyDrive/Lligues europees UEFA.csv', sep=';',encoding='latin-1')"
      ]
    },
    {
      "cell_type": "code",
      "execution_count": null,
      "metadata": {
        "colab": {
          "base_uri": "https://localhost:8080/",
          "height": 235
        },
        "id": "4FKMJ7FBFtQY",
        "outputId": "ea016446-65d9-4d06-afdb-a54a41b76cf5"
      },
      "outputs": [
        {
          "data": {
            "text/html": [
              "\n",
              "\n",
              "  <div id=\"df-0069ddc9-8b5c-49a9-8425-244c63ed4560\">\n",
              "    <div class=\"colab-df-container\">\n",
              "      <div>\n",
              "<style scoped>\n",
              "    .dataframe tbody tr th:only-of-type {\n",
              "        vertical-align: middle;\n",
              "    }\n",
              "\n",
              "    .dataframe tbody tr th {\n",
              "        vertical-align: top;\n",
              "    }\n",
              "\n",
              "    .dataframe thead th {\n",
              "        text-align: right;\n",
              "    }\n",
              "</style>\n",
              "<table border=\"1\" class=\"dataframe\">\n",
              "  <thead>\n",
              "    <tr style=\"text-align: right;\">\n",
              "      <th></th>\n",
              "      <th>Rk</th>\n",
              "      <th>Squad</th>\n",
              "      <th>Country</th>\n",
              "      <th>LgRk</th>\n",
              "      <th>MP</th>\n",
              "      <th>W</th>\n",
              "      <th>D</th>\n",
              "      <th>L</th>\n",
              "      <th>GF</th>\n",
              "      <th>GA</th>\n",
              "      <th>...</th>\n",
              "      <th>Pts</th>\n",
              "      <th>Pts/G</th>\n",
              "      <th>xG</th>\n",
              "      <th>xGA</th>\n",
              "      <th>xGD</th>\n",
              "      <th>xGD/90</th>\n",
              "      <th>Last 5</th>\n",
              "      <th>Attendance</th>\n",
              "      <th>Top Team Scorer</th>\n",
              "      <th>Goalkeeper</th>\n",
              "    </tr>\n",
              "  </thead>\n",
              "  <tbody>\n",
              "    <tr>\n",
              "      <th>0</th>\n",
              "      <td>1</td>\n",
              "      <td>Manchester City</td>\n",
              "      <td>ENG</td>\n",
              "      <td>1</td>\n",
              "      <td>37</td>\n",
              "      <td>28</td>\n",
              "      <td>6</td>\n",
              "      <td>3</td>\n",
              "      <td>96</td>\n",
              "      <td>24</td>\n",
              "      <td>...</td>\n",
              "      <td>90</td>\n",
              "      <td>2.43</td>\n",
              "      <td>86.1</td>\n",
              "      <td>26.8</td>\n",
              "      <td>59.3</td>\n",
              "      <td>1.60</td>\n",
              "      <td>W W W W D</td>\n",
              "      <td>52739</td>\n",
              "      <td>Kevin De Bruyne - 15</td>\n",
              "      <td>Ederson</td>\n",
              "    </tr>\n",
              "    <tr>\n",
              "      <th>1</th>\n",
              "      <td>2</td>\n",
              "      <td>Liverpool</td>\n",
              "      <td>ENG</td>\n",
              "      <td>2</td>\n",
              "      <td>36</td>\n",
              "      <td>26</td>\n",
              "      <td>8</td>\n",
              "      <td>2</td>\n",
              "      <td>89</td>\n",
              "      <td>24</td>\n",
              "      <td>...</td>\n",
              "      <td>86</td>\n",
              "      <td>2.39</td>\n",
              "      <td>84.6</td>\n",
              "      <td>33.1</td>\n",
              "      <td>51.4</td>\n",
              "      <td>1.43</td>\n",
              "      <td>W W W D W</td>\n",
              "      <td>53367</td>\n",
              "      <td>Mohamed Salah - 22</td>\n",
              "      <td>Alisson</td>\n",
              "    </tr>\n",
              "    <tr>\n",
              "      <th>2</th>\n",
              "      <td>3</td>\n",
              "      <td>Real Madrid</td>\n",
              "      <td>ESP</td>\n",
              "      <td>1</td>\n",
              "      <td>37</td>\n",
              "      <td>26</td>\n",
              "      <td>7</td>\n",
              "      <td>4</td>\n",
              "      <td>80</td>\n",
              "      <td>31</td>\n",
              "      <td>...</td>\n",
              "      <td>85</td>\n",
              "      <td>2.30</td>\n",
              "      <td>73.0</td>\n",
              "      <td>45.8</td>\n",
              "      <td>27.2</td>\n",
              "      <td>0.73</td>\n",
              "      <td>W W L W D</td>\n",
              "      <td>40624</td>\n",
              "      <td>Karim Benzema - 27</td>\n",
              "      <td>Thibaut Courtois</td>\n",
              "    </tr>\n",
              "    <tr>\n",
              "      <th>3</th>\n",
              "      <td>4</td>\n",
              "      <td>Bayern Munich</td>\n",
              "      <td>GER</td>\n",
              "      <td>1</td>\n",
              "      <td>34</td>\n",
              "      <td>24</td>\n",
              "      <td>5</td>\n",
              "      <td>5</td>\n",
              "      <td>97</td>\n",
              "      <td>37</td>\n",
              "      <td>...</td>\n",
              "      <td>77</td>\n",
              "      <td>2.26</td>\n",
              "      <td>88.1</td>\n",
              "      <td>37.1</td>\n",
              "      <td>51.0</td>\n",
              "      <td>1.50</td>\n",
              "      <td>W W L D D</td>\n",
              "      <td>33176</td>\n",
              "      <td>Robert Lewandowski - 35</td>\n",
              "      <td>Manuel Neuer</td>\n",
              "    </tr>\n",
              "    <tr>\n",
              "      <th>4</th>\n",
              "      <td>5</td>\n",
              "      <td>Paris S-G</td>\n",
              "      <td>FRA</td>\n",
              "      <td>1</td>\n",
              "      <td>37</td>\n",
              "      <td>25</td>\n",
              "      <td>8</td>\n",
              "      <td>4</td>\n",
              "      <td>85</td>\n",
              "      <td>36</td>\n",
              "      <td>...</td>\n",
              "      <td>83</td>\n",
              "      <td>2.24</td>\n",
              "      <td>71.6</td>\n",
              "      <td>38.1</td>\n",
              "      <td>33.4</td>\n",
              "      <td>0.90</td>\n",
              "      <td>W D D D W</td>\n",
              "      <td>41188</td>\n",
              "      <td>Kylian Mbappé - 25</td>\n",
              "      <td>Keylor Navas</td>\n",
              "    </tr>\n",
              "  </tbody>\n",
              "</table>\n",
              "<p>5 rows × 21 columns</p>\n",
              "</div>\n",
              "      <button class=\"colab-df-convert\" onclick=\"convertToInteractive('df-0069ddc9-8b5c-49a9-8425-244c63ed4560')\"\n",
              "              title=\"Convert this dataframe to an interactive table.\"\n",
              "              style=\"display:none;\">\n",
              "\n",
              "  <svg xmlns=\"http://www.w3.org/2000/svg\" height=\"24px\"viewBox=\"0 0 24 24\"\n",
              "       width=\"24px\">\n",
              "    <path d=\"M0 0h24v24H0V0z\" fill=\"none\"/>\n",
              "    <path d=\"M18.56 5.44l.94 2.06.94-2.06 2.06-.94-2.06-.94-.94-2.06-.94 2.06-2.06.94zm-11 1L8.5 8.5l.94-2.06 2.06-.94-2.06-.94L8.5 2.5l-.94 2.06-2.06.94zm10 10l.94 2.06.94-2.06 2.06-.94-2.06-.94-.94-2.06-.94 2.06-2.06.94z\"/><path d=\"M17.41 7.96l-1.37-1.37c-.4-.4-.92-.59-1.43-.59-.52 0-1.04.2-1.43.59L10.3 9.45l-7.72 7.72c-.78.78-.78 2.05 0 2.83L4 21.41c.39.39.9.59 1.41.59.51 0 1.02-.2 1.41-.59l7.78-7.78 2.81-2.81c.8-.78.8-2.07 0-2.86zM5.41 20L4 18.59l7.72-7.72 1.47 1.35L5.41 20z\"/>\n",
              "  </svg>\n",
              "      </button>\n",
              "\n",
              "\n",
              "\n",
              "    <div id=\"df-abbe4e5b-9a2d-49df-a623-d59311e88b9e\">\n",
              "      <button class=\"colab-df-quickchart\" onclick=\"quickchart('df-abbe4e5b-9a2d-49df-a623-d59311e88b9e')\"\n",
              "              title=\"Suggest charts.\"\n",
              "              style=\"display:none;\">\n",
              "\n",
              "<svg xmlns=\"http://www.w3.org/2000/svg\" height=\"24px\"viewBox=\"0 0 24 24\"\n",
              "     width=\"24px\">\n",
              "    <g>\n",
              "        <path d=\"M19 3H5c-1.1 0-2 .9-2 2v14c0 1.1.9 2 2 2h14c1.1 0 2-.9 2-2V5c0-1.1-.9-2-2-2zM9 17H7v-7h2v7zm4 0h-2V7h2v10zm4 0h-2v-4h2v4z\"/>\n",
              "    </g>\n",
              "</svg>\n",
              "      </button>\n",
              "    </div>\n",
              "\n",
              "<style>\n",
              "  .colab-df-quickchart {\n",
              "    background-color: #E8F0FE;\n",
              "    border: none;\n",
              "    border-radius: 50%;\n",
              "    cursor: pointer;\n",
              "    display: none;\n",
              "    fill: #1967D2;\n",
              "    height: 32px;\n",
              "    padding: 0 0 0 0;\n",
              "    width: 32px;\n",
              "  }\n",
              "\n",
              "  .colab-df-quickchart:hover {\n",
              "    background-color: #E2EBFA;\n",
              "    box-shadow: 0px 1px 2px rgba(60, 64, 67, 0.3), 0px 1px 3px 1px rgba(60, 64, 67, 0.15);\n",
              "    fill: #174EA6;\n",
              "  }\n",
              "\n",
              "  [theme=dark] .colab-df-quickchart {\n",
              "    background-color: #3B4455;\n",
              "    fill: #D2E3FC;\n",
              "  }\n",
              "\n",
              "  [theme=dark] .colab-df-quickchart:hover {\n",
              "    background-color: #434B5C;\n",
              "    box-shadow: 0px 1px 3px 1px rgba(0, 0, 0, 0.15);\n",
              "    filter: drop-shadow(0px 1px 2px rgba(0, 0, 0, 0.3));\n",
              "    fill: #FFFFFF;\n",
              "  }\n",
              "</style>\n",
              "\n",
              "    <script>\n",
              "      async function quickchart(key) {\n",
              "        const containerElement = document.querySelector('#' + key);\n",
              "        const charts = await google.colab.kernel.invokeFunction(\n",
              "            'suggestCharts', [key], {});\n",
              "      }\n",
              "    </script>\n",
              "\n",
              "      <script>\n",
              "\n",
              "function displayQuickchartButton(domScope) {\n",
              "  let quickchartButtonEl =\n",
              "    domScope.querySelector('#df-abbe4e5b-9a2d-49df-a623-d59311e88b9e button.colab-df-quickchart');\n",
              "  quickchartButtonEl.style.display =\n",
              "    google.colab.kernel.accessAllowed ? 'block' : 'none';\n",
              "}\n",
              "\n",
              "        displayQuickchartButton(document);\n",
              "      </script>\n",
              "      <style>\n",
              "    .colab-df-container {\n",
              "      display:flex;\n",
              "      flex-wrap:wrap;\n",
              "      gap: 12px;\n",
              "    }\n",
              "\n",
              "    .colab-df-convert {\n",
              "      background-color: #E8F0FE;\n",
              "      border: none;\n",
              "      border-radius: 50%;\n",
              "      cursor: pointer;\n",
              "      display: none;\n",
              "      fill: #1967D2;\n",
              "      height: 32px;\n",
              "      padding: 0 0 0 0;\n",
              "      width: 32px;\n",
              "    }\n",
              "\n",
              "    .colab-df-convert:hover {\n",
              "      background-color: #E2EBFA;\n",
              "      box-shadow: 0px 1px 2px rgba(60, 64, 67, 0.3), 0px 1px 3px 1px rgba(60, 64, 67, 0.15);\n",
              "      fill: #174EA6;\n",
              "    }\n",
              "\n",
              "    [theme=dark] .colab-df-convert {\n",
              "      background-color: #3B4455;\n",
              "      fill: #D2E3FC;\n",
              "    }\n",
              "\n",
              "    [theme=dark] .colab-df-convert:hover {\n",
              "      background-color: #434B5C;\n",
              "      box-shadow: 0px 1px 3px 1px rgba(0, 0, 0, 0.15);\n",
              "      filter: drop-shadow(0px 1px 2px rgba(0, 0, 0, 0.3));\n",
              "      fill: #FFFFFF;\n",
              "    }\n",
              "  </style>\n",
              "\n",
              "      <script>\n",
              "        const buttonEl =\n",
              "          document.querySelector('#df-0069ddc9-8b5c-49a9-8425-244c63ed4560 button.colab-df-convert');\n",
              "        buttonEl.style.display =\n",
              "          google.colab.kernel.accessAllowed ? 'block' : 'none';\n",
              "\n",
              "        async function convertToInteractive(key) {\n",
              "          const element = document.querySelector('#df-0069ddc9-8b5c-49a9-8425-244c63ed4560');\n",
              "          const dataTable =\n",
              "            await google.colab.kernel.invokeFunction('convertToInteractive',\n",
              "                                                     [key], {});\n",
              "          if (!dataTable) return;\n",
              "\n",
              "          const docLinkHtml = 'Like what you see? Visit the ' +\n",
              "            '<a target=\"_blank\" href=https://colab.research.google.com/notebooks/data_table.ipynb>data table notebook</a>'\n",
              "            + ' to learn more about interactive tables.';\n",
              "          element.innerHTML = '';\n",
              "          dataTable['output_type'] = 'display_data';\n",
              "          await google.colab.output.renderOutput(dataTable, element);\n",
              "          const docLink = document.createElement('div');\n",
              "          docLink.innerHTML = docLinkHtml;\n",
              "          element.appendChild(docLink);\n",
              "        }\n",
              "      </script>\n",
              "    </div>\n",
              "  </div>\n"
            ],
            "text/plain": [
              "   Rk            Squad Country  LgRk  MP   W  D  L  GF  GA  ...  Pts  Pts/G  \\\n",
              "0   1  Manchester City     ENG     1  37  28  6  3  96  24  ...   90   2.43   \n",
              "1   2        Liverpool     ENG     2  36  26  8  2  89  24  ...   86   2.39   \n",
              "2   3      Real Madrid     ESP     1  37  26  7  4  80  31  ...   85   2.30   \n",
              "3   4    Bayern Munich     GER     1  34  24  5  5  97  37  ...   77   2.26   \n",
              "4   5        Paris S-G     FRA     1  37  25  8  4  85  36  ...   83   2.24   \n",
              "\n",
              "     xG   xGA   xGD  xGD/90     Last 5 Attendance          Top Team Scorer  \\\n",
              "0  86.1  26.8  59.3    1.60  W W W W D      52739     Kevin De Bruyne - 15   \n",
              "1  84.6  33.1  51.4    1.43  W W W D W      53367       Mohamed Salah - 22   \n",
              "2  73.0  45.8  27.2    0.73  W W L W D      40624       Karim Benzema - 27   \n",
              "3  88.1  37.1  51.0    1.50  W W L D D      33176  Robert Lewandowski - 35   \n",
              "4  71.6  38.1  33.4    0.90  W D D D W      41188       Kylian Mbappé - 25   \n",
              "\n",
              "         Goalkeeper  \n",
              "0           Ederson  \n",
              "1           Alisson  \n",
              "2  Thibaut Courtois  \n",
              "3      Manuel Neuer  \n",
              "4      Keylor Navas  \n",
              "\n",
              "[5 rows x 21 columns]"
            ]
          },
          "execution_count": 4,
          "metadata": {},
          "output_type": "execute_result"
        }
      ],
      "source": [
        "df.head()"
      ]
    },
    {
      "cell_type": "code",
      "execution_count": null,
      "metadata": {
        "colab": {
          "base_uri": "https://localhost:8080/"
        },
        "id": "VJUIfrslGgxF",
        "outputId": "22529d6c-948f-4e3b-bfb1-199e9e2a749b"
      },
      "outputs": [
        {
          "data": {
            "text/plain": [
              "Index(['Rk', 'Squad', 'Country', 'LgRk', 'MP', 'W', 'D', 'L', 'GF', 'GA', 'GD',\n",
              "       'Pts', 'Pts/G', 'xG', 'xGA', 'xGD', 'xGD/90', 'Last 5', 'Attendance',\n",
              "       'Top Team Scorer', 'Goalkeeper'],\n",
              "      dtype='object')"
            ]
          },
          "execution_count": 13,
          "metadata": {},
          "output_type": "execute_result"
        }
      ],
      "source": [
        "df.columns"
      ]
    },
    {
      "cell_type": "markdown",
      "metadata": {
        "id": "UdUCTTYXypSo"
      },
      "source": [
        "1. Rk - Rànquing\n",
        "2. Squad - Nom de l'equip\n",
        "3. Country - Nom del país\n",
        "4. LgRk - Posició de l'equip en la competició\n",
        "5. MP - Partits jugats\n",
        "6. W - Victòries\n",
        "7. D - Empats\n",
        "8. L - Derrotes\n",
        "9. GF - Gols a favor\n",
        "10. GA - Gols en contra\n",
        "11. GD - Diferència de gols\n",
        "12. Pts - Punts (3 per victòria i 1 per empat)\n",
        "13. Pts/G - Punts per partit\n",
        "14. xG - Gols esperats, incloent penals (excepte tirs de penals fins que s'indiqui)\n",
        "15. xGA - Gols esperats rebuts (excepte tirs de penals fins que s'indiqui)\n",
        "16. xGD - Diferència de gols esperada (excepte tirs de penals fins que s'indiqui)\n",
        "17. xGD/90 - Diferència de gols esperada per cada 90 minuts (excepte tirs de penals fins que s'indiqui)\n",
        "18. Last 5 - Últims 5 partits ordenats cronològicament d'esquerra a dreta\n",
        "19. Attendance - Assistència per partit durant la temporada, només per a partits a casa\n",
        "20. Top Team Scorer - Màxim golejador de l'equip en els partits de lliga durant aquesta temporada\n",
        "21. Goalkeeper - Porter amb més minuts jugats a la lliga\n",
        "--------------------------------------------------\n",
        "1. Rk - Rango\n",
        "2. Squad - Nombre del equipo\n",
        "3. Country - Nombre del país\n",
        "4. LgRk - Posición del equipo en la competición\n",
        "5. MP - Partidos jugados\n",
        "6. W - Victorias\n",
        "7. D - Empates\n",
        "8. L - Derrotas\n",
        "9. GF - Goles a favor\n",
        "10. GA - Goles en contra\n",
        "11. GD - Diferencia de goles\n",
        "12. Pts - Puntos (3 por victoria y 1 por empate)\n",
        "13. Pts/G - Puntos por partido\n",
        "14. xG - Goles esperados, incluyendo penales (excluyendo tandas de penales hasta que se indique)\n",
        "15. xGA - Goles esperados recibidos (excluyendo tandas de penales hasta que se indique)\n",
        "16. xGD - Diferencia de goles esperada (excluyendo tandas de penales hasta que se indique)\n",
        "17. xGD/90 - Diferencia de goles esperada por cada 90 minutos (excluyendo tandas de penales hasta que se indique)\n",
        "18. Last 5 - Últimos 5 partidos ordenados cronológicamente de izquierda a derecha\n",
        "19. Attendance - Asistencia por partido durante la temporada, solo para partidos en casa\n",
        "20. Top Team Scorer - Máximo goleador del equipo en los partidos de liga durante esa temporada\n",
        "21. Goalkeeper - Portero con más minutos jugados en la liga\n",
        "-----------------------------------------------------------\n",
        "1.   Rk - Rank\n",
        "2.   Squad - Team Name\n",
        "3.   Country - Name of the Country\n",
        "4.   LgRk - Squad Finish In Competition\n",
        "5.   MP - Matches Played\n",
        "6.   W - Wins\n",
        "7.   D - Draws\n",
        "8.   L - Losses\n",
        "9.   GF - Goals For\n",
        "10.  GA - Goals Against\n",
        "11.  GD - Goal Difference\n",
        "12.  Pts - Points (3 for a Win and 1 for a Draw)\n",
        "13.  Pts/G - Points per Game\n",
        "14.  xG - Expected Goals inclusive of penalty kicks (not inclusive of penalty shootouts until noticed)\n",
        "15.  xGA - Expected Goals Allowed (not inclusive of penalty shootouts until noticed)\n",
        "16.  xGD - Expected Goal Difference (not inclusive of penalty shootouts until noticed)\n",
        "17.  xGD/90 - Expected Goal Difference per 90 minutes (not inclusive of penalty shootouts until noticed)\n",
        "18.  Last 5 - Last 5 matches ordered chronologically from left to right\n",
        "19. Attendance - Attendance per game during the season, only for home matches\n",
        "20.  Top Team Scorer - Inclusive of only League matches during that season\n",
        "21. Goalkeeper - Goalkeeper with the most minutes in the league play\n"
      ]
    },
    {
      "cell_type": "code",
      "execution_count": null,
      "metadata": {
        "colab": {
          "base_uri": "https://localhost:8080/"
        },
        "id": "5iApICZZGwTD",
        "outputId": "24b19e0d-81dd-4a80-8042-023ce3db34de"
      },
      "outputs": [
        {
          "name": "stdout",
          "output_type": "stream",
          "text": [
            "<class 'pandas.core.frame.DataFrame'>\n",
            "RangeIndex: 98 entries, 0 to 97\n",
            "Data columns (total 21 columns):\n",
            " #   Column           Non-Null Count  Dtype  \n",
            "---  ------           --------------  -----  \n",
            " 0   Rk               98 non-null     int64  \n",
            " 1   Squad            98 non-null     object \n",
            " 2   Country          98 non-null     object \n",
            " 3   LgRk             98 non-null     int64  \n",
            " 4   MP               98 non-null     int64  \n",
            " 5   W                98 non-null     int64  \n",
            " 6   D                98 non-null     int64  \n",
            " 7   L                98 non-null     int64  \n",
            " 8   GF               98 non-null     int64  \n",
            " 9   GA               98 non-null     int64  \n",
            " 10  GD               98 non-null     int64  \n",
            " 11  Pts              98 non-null     int64  \n",
            " 12  Pts/G            98 non-null     float64\n",
            " 13  xG               98 non-null     float64\n",
            " 14  xGA              98 non-null     float64\n",
            " 15  xGD              98 non-null     float64\n",
            " 16  xGD/90           98 non-null     float64\n",
            " 17  Last 5           98 non-null     object \n",
            " 18  Attendance       98 non-null     int64  \n",
            " 19  Top Team Scorer  98 non-null     object \n",
            " 20  Goalkeeper       98 non-null     object \n",
            "dtypes: float64(5), int64(11), object(5)\n",
            "memory usage: 16.2+ KB\n"
          ]
        }
      ],
      "source": [
        "df.info()"
      ]
    },
    {
      "cell_type": "code",
      "execution_count": null,
      "metadata": {
        "colab": {
          "base_uri": "https://localhost:8080/",
          "height": 364
        },
        "id": "COAuhz-Um0uo",
        "outputId": "7020da3e-49f1-40fc-e27e-4dec17b205ff"
      },
      "outputs": [
        {
          "data": {
            "text/html": [
              "\n",
              "\n",
              "  <div id=\"df-3cfdae0e-50ec-4352-b325-da416becd5b6\">\n",
              "    <div class=\"colab-df-container\">\n",
              "      <div>\n",
              "<style scoped>\n",
              "    .dataframe tbody tr th:only-of-type {\n",
              "        vertical-align: middle;\n",
              "    }\n",
              "\n",
              "    .dataframe tbody tr th {\n",
              "        vertical-align: top;\n",
              "    }\n",
              "\n",
              "    .dataframe thead th {\n",
              "        text-align: right;\n",
              "    }\n",
              "</style>\n",
              "<table border=\"1\" class=\"dataframe\">\n",
              "  <thead>\n",
              "    <tr style=\"text-align: right;\">\n",
              "      <th></th>\n",
              "      <th>Rk</th>\n",
              "      <th>LgRk</th>\n",
              "      <th>MP</th>\n",
              "      <th>W</th>\n",
              "      <th>D</th>\n",
              "      <th>L</th>\n",
              "      <th>GF</th>\n",
              "      <th>GA</th>\n",
              "      <th>GD</th>\n",
              "      <th>Pts</th>\n",
              "      <th>Pts/G</th>\n",
              "      <th>xG</th>\n",
              "      <th>xGA</th>\n",
              "      <th>xGD</th>\n",
              "      <th>xGD/90</th>\n",
              "      <th>Attendance</th>\n",
              "    </tr>\n",
              "  </thead>\n",
              "  <tbody>\n",
              "    <tr>\n",
              "      <th>count</th>\n",
              "      <td>98.000000</td>\n",
              "      <td>98.000000</td>\n",
              "      <td>98.000000</td>\n",
              "      <td>98.000000</td>\n",
              "      <td>98.000000</td>\n",
              "      <td>98.00000</td>\n",
              "      <td>98.000000</td>\n",
              "      <td>98.000000</td>\n",
              "      <td>98.000000</td>\n",
              "      <td>98.000000</td>\n",
              "      <td>98.000000</td>\n",
              "      <td>98.000000</td>\n",
              "      <td>98.000000</td>\n",
              "      <td>98.000000</td>\n",
              "      <td>98.000000</td>\n",
              "      <td>98.000000</td>\n",
              "    </tr>\n",
              "    <tr>\n",
              "      <th>mean</th>\n",
              "      <td>49.500000</td>\n",
              "      <td>10.316327</td>\n",
              "      <td>36.306122</td>\n",
              "      <td>13.448980</td>\n",
              "      <td>9.408163</td>\n",
              "      <td>13.44898</td>\n",
              "      <td>50.877551</td>\n",
              "      <td>50.877551</td>\n",
              "      <td>0.000000</td>\n",
              "      <td>49.734694</td>\n",
              "      <td>1.370204</td>\n",
              "      <td>48.653061</td>\n",
              "      <td>48.645918</td>\n",
              "      <td>-0.005102</td>\n",
              "      <td>0.000918</td>\n",
              "      <td>24239.857143</td>\n",
              "    </tr>\n",
              "    <tr>\n",
              "      <th>std</th>\n",
              "      <td>28.434134</td>\n",
              "      <td>5.706926</td>\n",
              "      <td>1.152390</td>\n",
              "      <td>5.747474</td>\n",
              "      <td>2.903381</td>\n",
              "      <td>5.12347</td>\n",
              "      <td>16.102933</td>\n",
              "      <td>13.634602</td>\n",
              "      <td>26.501896</td>\n",
              "      <td>16.166371</td>\n",
              "      <td>0.443903</td>\n",
              "      <td>12.453950</td>\n",
              "      <td>9.812481</td>\n",
              "      <td>19.992506</td>\n",
              "      <td>0.551414</td>\n",
              "      <td>14874.171842</td>\n",
              "    </tr>\n",
              "    <tr>\n",
              "      <th>min</th>\n",
              "      <td>1.000000</td>\n",
              "      <td>1.000000</td>\n",
              "      <td>34.000000</td>\n",
              "      <td>3.000000</td>\n",
              "      <td>3.000000</td>\n",
              "      <td>2.00000</td>\n",
              "      <td>23.000000</td>\n",
              "      <td>24.000000</td>\n",
              "      <td>-56.000000</td>\n",
              "      <td>18.000000</td>\n",
              "      <td>0.530000</td>\n",
              "      <td>28.200000</td>\n",
              "      <td>26.800000</td>\n",
              "      <td>-40.400000</td>\n",
              "      <td>-1.090000</td>\n",
              "      <td>5870.000000</td>\n",
              "    </tr>\n",
              "    <tr>\n",
              "      <th>25%</th>\n",
              "      <td>25.250000</td>\n",
              "      <td>5.250000</td>\n",
              "      <td>36.000000</td>\n",
              "      <td>9.000000</td>\n",
              "      <td>7.000000</td>\n",
              "      <td>10.00000</td>\n",
              "      <td>39.000000</td>\n",
              "      <td>40.000000</td>\n",
              "      <td>-17.750000</td>\n",
              "      <td>37.000000</td>\n",
              "      <td>1.000000</td>\n",
              "      <td>39.100000</td>\n",
              "      <td>41.300000</td>\n",
              "      <td>-13.575000</td>\n",
              "      <td>-0.365000</td>\n",
              "      <td>12355.500000</td>\n",
              "    </tr>\n",
              "    <tr>\n",
              "      <th>50%</th>\n",
              "      <td>49.500000</td>\n",
              "      <td>10.000000</td>\n",
              "      <td>37.000000</td>\n",
              "      <td>13.000000</td>\n",
              "      <td>9.000000</td>\n",
              "      <td>13.00000</td>\n",
              "      <td>47.000000</td>\n",
              "      <td>50.000000</td>\n",
              "      <td>-1.000000</td>\n",
              "      <td>46.000000</td>\n",
              "      <td>1.300000</td>\n",
              "      <td>46.450000</td>\n",
              "      <td>47.750000</td>\n",
              "      <td>-1.100000</td>\n",
              "      <td>-0.030000</td>\n",
              "      <td>20491.000000</td>\n",
              "    </tr>\n",
              "    <tr>\n",
              "      <th>75%</th>\n",
              "      <td>73.750000</td>\n",
              "      <td>15.000000</td>\n",
              "      <td>37.000000</td>\n",
              "      <td>17.000000</td>\n",
              "      <td>11.000000</td>\n",
              "      <td>17.00000</td>\n",
              "      <td>60.000000</td>\n",
              "      <td>59.000000</td>\n",
              "      <td>17.250000</td>\n",
              "      <td>61.750000</td>\n",
              "      <td>1.695000</td>\n",
              "      <td>55.550000</td>\n",
              "      <td>54.700000</td>\n",
              "      <td>12.800000</td>\n",
              "      <td>0.355000</td>\n",
              "      <td>32382.000000</td>\n",
              "    </tr>\n",
              "    <tr>\n",
              "      <th>max</th>\n",
              "      <td>98.000000</td>\n",
              "      <td>20.000000</td>\n",
              "      <td>37.000000</td>\n",
              "      <td>28.000000</td>\n",
              "      <td>16.000000</td>\n",
              "      <td>26.00000</td>\n",
              "      <td>97.000000</td>\n",
              "      <td>89.000000</td>\n",
              "      <td>72.000000</td>\n",
              "      <td>90.000000</td>\n",
              "      <td>2.430000</td>\n",
              "      <td>88.100000</td>\n",
              "      <td>73.300000</td>\n",
              "      <td>59.300000</td>\n",
              "      <td>1.600000</td>\n",
              "      <td>73150.000000</td>\n",
              "    </tr>\n",
              "  </tbody>\n",
              "</table>\n",
              "</div>\n",
              "      <button class=\"colab-df-convert\" onclick=\"convertToInteractive('df-3cfdae0e-50ec-4352-b325-da416becd5b6')\"\n",
              "              title=\"Convert this dataframe to an interactive table.\"\n",
              "              style=\"display:none;\">\n",
              "\n",
              "  <svg xmlns=\"http://www.w3.org/2000/svg\" height=\"24px\"viewBox=\"0 0 24 24\"\n",
              "       width=\"24px\">\n",
              "    <path d=\"M0 0h24v24H0V0z\" fill=\"none\"/>\n",
              "    <path d=\"M18.56 5.44l.94 2.06.94-2.06 2.06-.94-2.06-.94-.94-2.06-.94 2.06-2.06.94zm-11 1L8.5 8.5l.94-2.06 2.06-.94-2.06-.94L8.5 2.5l-.94 2.06-2.06.94zm10 10l.94 2.06.94-2.06 2.06-.94-2.06-.94-.94-2.06-.94 2.06-2.06.94z\"/><path d=\"M17.41 7.96l-1.37-1.37c-.4-.4-.92-.59-1.43-.59-.52 0-1.04.2-1.43.59L10.3 9.45l-7.72 7.72c-.78.78-.78 2.05 0 2.83L4 21.41c.39.39.9.59 1.41.59.51 0 1.02-.2 1.41-.59l7.78-7.78 2.81-2.81c.8-.78.8-2.07 0-2.86zM5.41 20L4 18.59l7.72-7.72 1.47 1.35L5.41 20z\"/>\n",
              "  </svg>\n",
              "      </button>\n",
              "\n",
              "\n",
              "\n",
              "    <div id=\"df-7f6da3b2-ef66-413d-81d7-612d269bd947\">\n",
              "      <button class=\"colab-df-quickchart\" onclick=\"quickchart('df-7f6da3b2-ef66-413d-81d7-612d269bd947')\"\n",
              "              title=\"Suggest charts.\"\n",
              "              style=\"display:none;\">\n",
              "\n",
              "<svg xmlns=\"http://www.w3.org/2000/svg\" height=\"24px\"viewBox=\"0 0 24 24\"\n",
              "     width=\"24px\">\n",
              "    <g>\n",
              "        <path d=\"M19 3H5c-1.1 0-2 .9-2 2v14c0 1.1.9 2 2 2h14c1.1 0 2-.9 2-2V5c0-1.1-.9-2-2-2zM9 17H7v-7h2v7zm4 0h-2V7h2v10zm4 0h-2v-4h2v4z\"/>\n",
              "    </g>\n",
              "</svg>\n",
              "      </button>\n",
              "    </div>\n",
              "\n",
              "<style>\n",
              "  .colab-df-quickchart {\n",
              "    background-color: #E8F0FE;\n",
              "    border: none;\n",
              "    border-radius: 50%;\n",
              "    cursor: pointer;\n",
              "    display: none;\n",
              "    fill: #1967D2;\n",
              "    height: 32px;\n",
              "    padding: 0 0 0 0;\n",
              "    width: 32px;\n",
              "  }\n",
              "\n",
              "  .colab-df-quickchart:hover {\n",
              "    background-color: #E2EBFA;\n",
              "    box-shadow: 0px 1px 2px rgba(60, 64, 67, 0.3), 0px 1px 3px 1px rgba(60, 64, 67, 0.15);\n",
              "    fill: #174EA6;\n",
              "  }\n",
              "\n",
              "  [theme=dark] .colab-df-quickchart {\n",
              "    background-color: #3B4455;\n",
              "    fill: #D2E3FC;\n",
              "  }\n",
              "\n",
              "  [theme=dark] .colab-df-quickchart:hover {\n",
              "    background-color: #434B5C;\n",
              "    box-shadow: 0px 1px 3px 1px rgba(0, 0, 0, 0.15);\n",
              "    filter: drop-shadow(0px 1px 2px rgba(0, 0, 0, 0.3));\n",
              "    fill: #FFFFFF;\n",
              "  }\n",
              "</style>\n",
              "\n",
              "    <script>\n",
              "      async function quickchart(key) {\n",
              "        const containerElement = document.querySelector('#' + key);\n",
              "        const charts = await google.colab.kernel.invokeFunction(\n",
              "            'suggestCharts', [key], {});\n",
              "      }\n",
              "    </script>\n",
              "\n",
              "      <script>\n",
              "\n",
              "function displayQuickchartButton(domScope) {\n",
              "  let quickchartButtonEl =\n",
              "    domScope.querySelector('#df-7f6da3b2-ef66-413d-81d7-612d269bd947 button.colab-df-quickchart');\n",
              "  quickchartButtonEl.style.display =\n",
              "    google.colab.kernel.accessAllowed ? 'block' : 'none';\n",
              "}\n",
              "\n",
              "        displayQuickchartButton(document);\n",
              "      </script>\n",
              "      <style>\n",
              "    .colab-df-container {\n",
              "      display:flex;\n",
              "      flex-wrap:wrap;\n",
              "      gap: 12px;\n",
              "    }\n",
              "\n",
              "    .colab-df-convert {\n",
              "      background-color: #E8F0FE;\n",
              "      border: none;\n",
              "      border-radius: 50%;\n",
              "      cursor: pointer;\n",
              "      display: none;\n",
              "      fill: #1967D2;\n",
              "      height: 32px;\n",
              "      padding: 0 0 0 0;\n",
              "      width: 32px;\n",
              "    }\n",
              "\n",
              "    .colab-df-convert:hover {\n",
              "      background-color: #E2EBFA;\n",
              "      box-shadow: 0px 1px 2px rgba(60, 64, 67, 0.3), 0px 1px 3px 1px rgba(60, 64, 67, 0.15);\n",
              "      fill: #174EA6;\n",
              "    }\n",
              "\n",
              "    [theme=dark] .colab-df-convert {\n",
              "      background-color: #3B4455;\n",
              "      fill: #D2E3FC;\n",
              "    }\n",
              "\n",
              "    [theme=dark] .colab-df-convert:hover {\n",
              "      background-color: #434B5C;\n",
              "      box-shadow: 0px 1px 3px 1px rgba(0, 0, 0, 0.15);\n",
              "      filter: drop-shadow(0px 1px 2px rgba(0, 0, 0, 0.3));\n",
              "      fill: #FFFFFF;\n",
              "    }\n",
              "  </style>\n",
              "\n",
              "      <script>\n",
              "        const buttonEl =\n",
              "          document.querySelector('#df-3cfdae0e-50ec-4352-b325-da416becd5b6 button.colab-df-convert');\n",
              "        buttonEl.style.display =\n",
              "          google.colab.kernel.accessAllowed ? 'block' : 'none';\n",
              "\n",
              "        async function convertToInteractive(key) {\n",
              "          const element = document.querySelector('#df-3cfdae0e-50ec-4352-b325-da416becd5b6');\n",
              "          const dataTable =\n",
              "            await google.colab.kernel.invokeFunction('convertToInteractive',\n",
              "                                                     [key], {});\n",
              "          if (!dataTable) return;\n",
              "\n",
              "          const docLinkHtml = 'Like what you see? Visit the ' +\n",
              "            '<a target=\"_blank\" href=https://colab.research.google.com/notebooks/data_table.ipynb>data table notebook</a>'\n",
              "            + ' to learn more about interactive tables.';\n",
              "          element.innerHTML = '';\n",
              "          dataTable['output_type'] = 'display_data';\n",
              "          await google.colab.output.renderOutput(dataTable, element);\n",
              "          const docLink = document.createElement('div');\n",
              "          docLink.innerHTML = docLinkHtml;\n",
              "          element.appendChild(docLink);\n",
              "        }\n",
              "      </script>\n",
              "    </div>\n",
              "  </div>\n"
            ],
            "text/plain": [
              "              Rk       LgRk         MP          W          D         L  \\\n",
              "count  98.000000  98.000000  98.000000  98.000000  98.000000  98.00000   \n",
              "mean   49.500000  10.316327  36.306122  13.448980   9.408163  13.44898   \n",
              "std    28.434134   5.706926   1.152390   5.747474   2.903381   5.12347   \n",
              "min     1.000000   1.000000  34.000000   3.000000   3.000000   2.00000   \n",
              "25%    25.250000   5.250000  36.000000   9.000000   7.000000  10.00000   \n",
              "50%    49.500000  10.000000  37.000000  13.000000   9.000000  13.00000   \n",
              "75%    73.750000  15.000000  37.000000  17.000000  11.000000  17.00000   \n",
              "max    98.000000  20.000000  37.000000  28.000000  16.000000  26.00000   \n",
              "\n",
              "              GF         GA         GD        Pts      Pts/G         xG  \\\n",
              "count  98.000000  98.000000  98.000000  98.000000  98.000000  98.000000   \n",
              "mean   50.877551  50.877551   0.000000  49.734694   1.370204  48.653061   \n",
              "std    16.102933  13.634602  26.501896  16.166371   0.443903  12.453950   \n",
              "min    23.000000  24.000000 -56.000000  18.000000   0.530000  28.200000   \n",
              "25%    39.000000  40.000000 -17.750000  37.000000   1.000000  39.100000   \n",
              "50%    47.000000  50.000000  -1.000000  46.000000   1.300000  46.450000   \n",
              "75%    60.000000  59.000000  17.250000  61.750000   1.695000  55.550000   \n",
              "max    97.000000  89.000000  72.000000  90.000000   2.430000  88.100000   \n",
              "\n",
              "             xGA        xGD     xGD/90    Attendance  \n",
              "count  98.000000  98.000000  98.000000     98.000000  \n",
              "mean   48.645918  -0.005102   0.000918  24239.857143  \n",
              "std     9.812481  19.992506   0.551414  14874.171842  \n",
              "min    26.800000 -40.400000  -1.090000   5870.000000  \n",
              "25%    41.300000 -13.575000  -0.365000  12355.500000  \n",
              "50%    47.750000  -1.100000  -0.030000  20491.000000  \n",
              "75%    54.700000  12.800000   0.355000  32382.000000  \n",
              "max    73.300000  59.300000   1.600000  73150.000000  "
            ]
          },
          "execution_count": 6,
          "metadata": {},
          "output_type": "execute_result"
        }
      ],
      "source": [
        "df.describe()"
      ]
    },
    {
      "cell_type": "code",
      "execution_count": null,
      "metadata": {
        "colab": {
          "base_uri": "https://localhost:8080/"
        },
        "id": "IOR6RBKR7L6l",
        "outputId": "eff43603-f870-44bd-ff83-8d44cd2d2967"
      },
      "outputs": [
        {
          "name": "stdout",
          "output_type": "stream",
          "text": [
            "stat=0.907, p=0.000\n",
            "Probably not Gaussian\n"
          ]
        }
      ],
      "source": [
        "# Example of the Shapiro-Wilk Normality Test\n",
        "from scipy.stats import shapiro\n",
        "data = df['Attendance']\n",
        "stat, p = shapiro(data)\n",
        "print('stat=%.3f, p=%.3f' % (stat, p))\n",
        "if p > 0.05:\n",
        " print('Probably Gaussian')\n",
        "else:\n",
        " print('Probably not Gaussian')"
      ]
    },
    {
      "cell_type": "markdown",
      "metadata": {
        "id": "uGuwS8aBmU6e"
      },
      "source": [
        "Per aquest test podem concloure que hi ha suficient evidència per rebutjar la hipòtesi nul·la que les dades segueixen una distribució normal. En altres paraules, les dades de la variable \"Attendance\" no s'ajusten a una distribució normal.\n",
        "\n",
        "Para este test podemos concluir que hay suficiente evidencia para rechazar la hipótesis nula de que los datos siguen una distribución normal. En otras palabras, los datos de la variable \"Attendance\" no se ajustan a una distribución normal.\n",
        "\n",
        "For this test we can conclude that there is enough evidence to reject the null hypothesis that the data follows a normal distribution. In other words, the data of the \"Attendance\" variable does not fit a normal distribution."
      ]
    },
    {
      "cell_type": "code",
      "execution_count": null,
      "metadata": {
        "colab": {
          "base_uri": "https://localhost:8080/"
        },
        "id": "EZor2kCRHXHu",
        "outputId": "c7511e25-fd98-4ef8-f7fe-d4ea65c7ea1e"
      },
      "outputs": [
        {
          "data": {
            "text/plain": [
              "98"
            ]
          },
          "execution_count": 12,
          "metadata": {},
          "output_type": "execute_result"
        }
      ],
      "source": [
        "len(df['Attendance'])"
      ]
    },
    {
      "cell_type": "markdown",
      "metadata": {
        "id": "KY-Oy2gTqsdT"
      },
      "source": [
        "Donada la mostra té una grandària de 98 (>50), el test de Shapiro pot reaccionar de manera sensible i detectar desviacions mínimes de la normalitat com a significatives. Això vol dir que el test pot indicar que les dades no segueixen una distribució normal, tot i que les diferències amb la normalitat siguin mínimes i no afectin substancialment els resultats de l'anàlisi.\n",
        "\n",
        "Dado que la muestra es de tamañao 98 (>50) el test de shapiro ya que puede reaccionar de forma sensible a detectar desviaciones mínimas de la normalidad como significativas, es decir puede el test indique que los datos no siguen una distribución normal, aunque las diferencias con la normalidad sean mínimas y no afecten sustancialmente los resultados del análisis.\n",
        "\n",
        "Since the sample size is 98 (>50), the Shapiro-Wilk test can react sensitively and detect even small deviations from normality as significant. This means that the test may indicate that the data does not follow a normal distribution, even though the differences with normality are minimal and do not substantially affect the results of the analysis."
      ]
    },
    {
      "cell_type": "code",
      "execution_count": null,
      "metadata": {
        "colab": {
          "base_uri": "https://localhost:8080/"
        },
        "id": "lwaUDaexqs90",
        "outputId": "673bee48-fc22-4064-e97e-dd466cc2e2af"
      },
      "outputs": [
        {
          "name": "stdout",
          "output_type": "stream",
          "text": [
            "stat=14.203, p=0.001\n",
            "Probably not Gaussian\n"
          ]
        }
      ],
      "source": [
        "# Example of the D'Agostino's K^2 Normality Test\n",
        "from scipy.stats import normaltest\n",
        "data = df['Attendance']\n",
        "stat, p = normaltest(data)\n",
        "print('stat=%.3f, p=%.3f' % (stat, p))\n",
        "if p > 0.05:\n",
        " print('Probably Gaussian')\n",
        "else:\n",
        " print('Probably not Gaussian')"
      ]
    },
    {
      "cell_type": "markdown",
      "source": [
        "El test D'Agostino és un test més robust, menys sensible a les possibles desviacions en les suposicions de normalitat. S'adapta millor a mostres de major grandària.\n",
        "\n",
        "El test D'agostino es un test más robusto, menos sensible a las posibles desviaciones en los supuesto de normalidad. Se adapta mejor en muestras de mayor tamaño.\n",
        "\n",
        "The D'Agostino's test is a more robust test, less sensitive to potential deviations from normality assumptions. It performs better with larger sample sizes."
      ],
      "metadata": {
        "id": "fa1zFhIZzJEz"
      }
    },
    {
      "cell_type": "code",
      "source": [
        "# Example of the Anderson-Darling Normality Test\n",
        "from scipy.stats import anderson\n",
        "data = df['Attendance']\n",
        "result = anderson(data)\n",
        "print('stat=%.3f' % (result.statistic))\n",
        "for i in range(len(result.critical_values)):\n",
        " sl, cv = result.significance_level[i], result.critical_values[i]\n",
        " if result.statistic < cv:\n",
        "  print('Probably Gaussian at the %.1f%% level' % (sl))\n",
        " else:\n",
        "  print('Probably not Gaussian at the %.1f%% level' % (sl))"
      ],
      "metadata": {
        "colab": {
          "base_uri": "https://localhost:8080/"
        },
        "id": "0ahrTBTDyIus",
        "outputId": "0ed26f7a-b8e0-4541-ccba-cce9e74c0075"
      },
      "execution_count": 23,
      "outputs": [
        {
          "output_type": "stream",
          "name": "stdout",
          "text": [
            "stat=2.749\n",
            "Probably not Gaussian at the 15.0% level\n",
            "Probably not Gaussian at the 10.0% level\n",
            "Probably not Gaussian at the 5.0% level\n",
            "Probably not Gaussian at the 2.5% level\n",
            "Probably not Gaussian at the 1.0% level\n"
          ]
        }
      ]
    },
    {
      "cell_type": "markdown",
      "source": [
        "Encara que els resultats dels tests anteriors donaven suficient evidència de no normalitat amb p-valors molt petits, farem una última prova amb el test d'Anderson-Darling que ens confirma per a diversos nivells de significació que la mostra no segueix una distribució normal.\n",
        "\n",
        "Aunque los resultados de los test anteriores daban suficiente envidencia de no normalidad con p-valores muy pequeños, haremos una última prueba con el test de Anderson Darling que nos confirma para varios niveles de significación que la muestra no sigue un distribución normal.\n",
        "\n",
        "Although the results of the previous tests provided enough evidence of non-normality with very small p-values, we will make one final test with the Anderson-Darling test, which confirms for various levels of significance that the sample does not follow a normal distribution."
      ],
      "metadata": {
        "id": "bLoAd6DazqzY"
      }
    },
    {
      "cell_type": "code",
      "source": [
        "import scipy.stats as stats\n",
        "\n",
        "# QQ plot\n",
        "plt.figure(figsize=(8, 6))\n",
        "stats.probplot(df['Attendance'], dist=\"norm\", plot=plt)\n",
        "plt.title('QQ Plot - Attendance')\n",
        "plt.xlabel('Theoretical Quantiles')\n",
        "plt.ylabel('Ordered Values')\n",
        "plt.show()\n",
        "\n",
        "# Histograma\n",
        "plt.figure(figsize=(8, 6))\n",
        "sns.histplot(df['Attendance'], kde=True, color='skyblue')\n",
        "plt.title('Histograma - Attendance')\n",
        "plt.xlabel('Attendance')\n",
        "plt.ylabel('Frecuencia')\n",
        "plt.show()"
      ],
      "metadata": {
        "colab": {
          "base_uri": "https://localhost:8080/",
          "height": 1000
        },
        "id": "aLFlSKEszxPA",
        "outputId": "b06ba568-8df8-4fc8-d622-3eca55861d9b"
      },
      "execution_count": 24,
      "outputs": [
        {
          "output_type": "display_data",
          "data": {
            "text/plain": [
              "<Figure size 800x600 with 1 Axes>"
            ],
            "image/png": "[encoded data removed]"
          },
          "metadata": {}
        },
        {
          "output_type": "display_data",
          "data": {
            "text/plain": [
              "<Figure size 800x600 with 1 Axes>"
            ],
            "image/png": "[encoded data removed]"
          },
          "metadata": {}
        }
      ]
    },
    {
      "cell_type": "markdown",
      "source": [
        "Visualment es pot observar que aquesta variable no segueix una distribució normal, a través del gràfic QQ, els valors observats no s'ajusten a la línia d'assumpció de normalitat. De la mateixa manera, passa amb l'histograma, on no s'observa una forma de campana, sinó una distribució dels valors observats decreixent asimètrica cap al màxim.\n",
        "\n",
        "Visualmente se oberva cómo esta variable no sigue una distribución normal, a través de qqplot los valores observados no se ajustan a la recta de suposición de normalidad. De la misma manera pasa con el histograma, dónde no se observa una forma forma de campana sino una distribución de los valores observados decrecientes asimétricos hacia el máximo.\n",
        "\n",
        "Visually, it can be observed that this variable does not follow a normal distribution. The QQ plot shows that the observed values do not fit the line of normality assumption. Similarly, the histogram does not exhibit a bell-shaped curve but rather a skewed distribution of observed values decreasing towards the maximum."
      ],
      "metadata": {
        "id": "g6QyvG08z6eB"
      }
    },
    {
      "cell_type": "code",
      "source": [
        "# Example of the D'Agostino's K^2 Normality Test\n",
        "from scipy.stats import normaltest\n",
        "data = df['GF']\n",
        "stat, p = normaltest(data)\n",
        "print('stat=%.3f, p=%.3f' % (stat, p))\n",
        "if p > 0.05:\n",
        " print('Probably Gaussian')\n",
        "else:\n",
        " print('Probably not Gaussian')"
      ],
      "metadata": {
        "colab": {
          "base_uri": "https://localhost:8080/"
        },
        "id": "cbxiZMyn0ROJ",
        "outputId": "480827d1-13b3-48c1-ed5b-4a9008f4ebc2"
      },
      "execution_count": 25,
      "outputs": [
        {
          "output_type": "stream",
          "name": "stdout",
          "text": [
            "stat=10.676, p=0.005\n",
            "Probably not Gaussian\n"
          ]
        }
      ]
    },
    {
      "cell_type": "code",
      "source": [
        "# Example of the Anderson-Darling Normality Test\n",
        "from scipy.stats import anderson\n",
        "data = df['GF']\n",
        "result = anderson(data)\n",
        "print('stat=%.3f' % (result.statistic))\n",
        "for i in range(len(result.critical_values)):\n",
        " sl, cv = result.significance_level[i], result.critical_values[i]\n",
        " if result.statistic < cv:\n",
        "  print('Probably Gaussian at the %.1f%% level' % (sl))\n",
        " else:\n",
        "  print('Probably not Gaussian at the %.1f%% level' % (sl))"
      ],
      "metadata": {
        "colab": {
          "base_uri": "https://localhost:8080/"
        },
        "id": "vQ4wFjAi0s9d",
        "outputId": "23899f2d-89dc-44af-a8ce-305342c0568c"
      },
      "execution_count": 26,
      "outputs": [
        {
          "output_type": "stream",
          "name": "stdout",
          "text": [
            "stat=1.639\n",
            "Probably not Gaussian at the 15.0% level\n",
            "Probably not Gaussian at the 10.0% level\n",
            "Probably not Gaussian at the 5.0% level\n",
            "Probably not Gaussian at the 2.5% level\n",
            "Probably not Gaussian at the 1.0% level\n"
          ]
        }
      ]
    },
    {
      "cell_type": "code",
      "source": [
        "# QQ plot\n",
        "plt.figure(figsize=(8, 6))\n",
        "stats.probplot(df['GF'], dist=\"norm\", plot=plt)\n",
        "plt.title('QQ Plot - Goals for')\n",
        "plt.xlabel('Theoretical Quantiles')\n",
        "plt.ylabel('Ordered Values')\n",
        "plt.show()\n",
        "\n",
        "# Histograma\n",
        "plt.figure(figsize=(8, 6))\n",
        "sns.histplot(df['GF'], kde=True, color='skyblue')\n",
        "plt.title('Histograma - Goals for')\n",
        "plt.xlabel('GF')\n",
        "plt.ylabel('Frecuencia')\n",
        "plt.show()"
      ],
      "metadata": {
        "colab": {
          "base_uri": "https://localhost:8080/",
          "height": 1000
        },
        "id": "XxShLB3k07cH",
        "outputId": "fee5d86b-f590-4717-ac7b-16acf426fdd7"
      },
      "execution_count": 27,
      "outputs": [
        {
          "output_type": "display_data",
          "data": {
            "text/plain": [
              "<Figure size 800x600 with 1 Axes>"
            ],
            "image/png": "[encoded data removed]"
          },
          "metadata": {}
        },
        {
          "output_type": "display_data",
          "data": {
            "text/plain": [
              "<Figure size 800x600 with 1 Axes>"
            ],
            "image/png": "[encoded data removed]"
          },
          "metadata": {}
        }
      ]
    },
    {
      "cell_type": "markdown",
      "source": [
        "S'han repetit els càlculs i representat de forma gràfica per a la variable GF, que són els gols a favor, obtenint un resultat similar però un grau més suau, tot i així, sense suficient evidència per a concloure que segueix una distribució normal i com també ho confirmen els gràfics.\n",
        "\n",
        "Se han repetido los cálculos y representado de forma gráfica para la variable GF, que son los goles a favor, obteniendo un resultado similar pero un grado más suave, aunque igualmente, sin suficiente evidencia para concluir que sigue una distribución normal y cómo también lo confirman los gráficos.\n",
        "\n",
        "The calculations have been repeated and graphically represented for the variable GF, which represents goals scored, obtaining a similar but smoother result. However, there is still not enough evidence to conclude that it follows a normal distribution, as also confirmed by the graphs."
      ],
      "metadata": {
        "id": "NzD-Hat70ZWi"
      }
    },
    {
      "cell_type": "markdown",
      "metadata": {
        "id": "4mYrqFWpB_-7"
      },
      "source": [
        "- Exercici 2\n",
        "\n",
        "Amb el mateix dataset selecciona dos altres atributs del conjunt de dades. Calcula els p-valors i digues si rebutgen la hipòtesi nul·la agafant un alfa de 5%.\n",
        "\n",
        "- Ejercicio 2\n",
        "\n",
        "Con el mismo dataset selecciona otros dos atributos del conjunto de datos. Calcula los p-valores y di si rechazan la hipótesis nula cogiendo un alfa de 5%.\n",
        "\n",
        "- Exercise 2\n",
        "\n",
        "With the same dataset select two other attributes from the dataset. Calculate the p-values ​​and say whether they reject the null hypothesis by taking an alpha of 5%.\n",
        "\n",
        "\n",
        "\n"
      ]
    },
    {
      "cell_type": "code",
      "execution_count": 30,
      "metadata": {
        "id": "B-5JgkRgCVAZ",
        "colab": {
          "base_uri": "https://localhost:8080/"
        },
        "outputId": "fd314579-0227-4b60-c258-1c56ddd70dde"
      },
      "outputs": [
        {
          "output_type": "stream",
          "name": "stdout",
          "text": [
            "stat=0.460, p=0.000\n",
            "Probably dependent\n"
          ]
        }
      ],
      "source": [
        "# Example of the Spearman's Rank Correlation Test\n",
        "from scipy.stats import spearmanr\n",
        "data1 = df['Attendance']\n",
        "data2 = df['GF']\n",
        "stat, p = spearmanr(data1, data2)\n",
        "print('stat=%.3f, p=%.3f' % (stat, p))\n",
        "if p > 0.05:\n",
        " print('Probably independent')\n",
        "else:\n",
        " print('Probably dependent')"
      ]
    },
    {
      "cell_type": "code",
      "source": [
        "from scipy.stats import kendalltau\n",
        "data1 = df['Attendance']\n",
        "data2 = df['GF']\n",
        "stat, p = kendalltau(data1, data2)\n",
        "print('stat=%.3f, p=%.3f' % (stat, p))\n",
        "if p > 0.05:\n",
        " print('Probably independent')\n",
        "else:\n",
        " print('Probably dependent')"
      ],
      "metadata": {
        "colab": {
          "base_uri": "https://localhost:8080/"
        },
        "id": "uy_H5sRl1jU3",
        "outputId": "927b7c02-0d3e-423c-be82-bc92cf640d90"
      },
      "execution_count": 31,
      "outputs": [
        {
          "output_type": "stream",
          "name": "stdout",
          "text": [
            "stat=0.317, p=0.000\n",
            "Probably dependent\n"
          ]
        }
      ]
    },
    {
      "cell_type": "code",
      "source": [
        "plt.figure(figsize=(8, 6))\n",
        "plt.scatter(data1, data2)\n",
        "plt.xlabel('Asistencia')\n",
        "plt.ylabel('Goles a Favor')\n",
        "plt.title('Correlación')\n",
        "\n",
        "# Añadir la recta de regresión\n",
        "m, b = np.polyfit(data1, data2, 1)\n",
        "plt.plot(data1, m*data1 + b, color='red')\n",
        "\n",
        "plt.grid(True)\n",
        "plt.show()"
      ],
      "metadata": {
        "colab": {
          "base_uri": "https://localhost:8080/",
          "height": 564
        },
        "id": "ZMGQtcWa1qy5",
        "outputId": "e584245e-2445-46f2-b6d3-c06a7686139c"
      },
      "execution_count": 32,
      "outputs": [
        {
          "output_type": "display_data",
          "data": {
            "text/plain": [
              "<Figure size 800x600 with 1 Axes>"
            ],
            "image/png": "[encoded data removed]"
          },
          "metadata": {}
        }
      ]
    },
    {
      "cell_type": "markdown",
      "source": [
        "S'han realitzat dos tests no paramètrics per a observacions que no presenten una distribució normal, obtenint com a resultat que el valor de p és menor que 0,05, la qual cosa indica que hi ha suficient evidència per rebutjar la hipòtesi nul·la d'independència entre les variables. Per tant, les dades suggereixen que les variables \"Assistència\" (Attendance) i \"Gols a Favor\" (Goals For) probablement estan relacionades, el que significa que hi ha una relació significativa entre elles. El gràfic de dispersió amb la recta de regressió recolza visualment aquesta relació.\n",
        "\n",
        "Se han realizado dos test no paramétricos para observaciones que no presentan una distribución normal, obteniendo cómo resultado el valor de p es menor que 0.05, lo que indica que hay suficiente evidencia para rechazar la hipótesis nula de independencia entre las variables. Por lo tanto, los datos sugieren que las variables \"Asistencia\" (Attendance) y \"Goles a Favor\" (Goals For) probablemente están relacionadas, lo que significa que existe una relación significativa entre ellas. El gráfico de dispersión con la recta de regresión apoya visualmente esta relación.\n",
        "\n",
        "Two non-parametric tests have been performed for observations that do not follow a normal distribution, resulting in a p-value less than 0.05, indicating sufficient evidence to reject the null hypothesis of independence between the variables. Therefore, the data suggests that the variables \"Attendance\" and \"Goals For\" are likely related, meaning there is a significant relationship between them. The scatter plot with the regression line visually supports this relationship."
      ],
      "metadata": {
        "id": "RSX64juW16nU"
      }
    },
    {
      "cell_type": "markdown",
      "metadata": {
        "id": "X7Y01GxUCVWw"
      },
      "source": [
        "- Exercici 3\n",
        "\n",
        "Continua amb el conjunt de dades adjunt i selecciona tres atributs del conjunt de dades. Calcula el p-valor i digues si rebutja la hipòtesi nul·la agafant un alfa de 5%.\n",
        "\n",
        "- Ejercicio 3\n",
        "\n",
        "Continúa con el conjunto de datos adjunto y selecciona tres atributos del conjunto de datos. Calcula el p-valor y di si rechaza la hipótesis nula cogiendo un alfa de 5%.\n",
        "\n",
        "- Exercise 3\n",
        "\n",
        "Continue with the attached dataset and select three attributes from the dataset. Calculate the p-value and say whether it rejects the null hypothesis by taking an alpha of 5%.\n",
        "\n"
      ]
    },
    {
      "cell_type": "code",
      "source": [
        "# Example of the Kruskal-Wallis H Test\n",
        "from scipy.stats import kruskal\n",
        "data1 = df['xG']\n",
        "data2 = df['GF']\n",
        "data3 = df['W']\n",
        "stat, p = kruskal(data1, data2, data3)\n",
        "print('stat=%.3f, p=%.3f' % (stat, p))\n",
        "if p > 0.05:\n",
        " print('Probably the same distribution')\n",
        "else:\n",
        " print('Probably different distributions')"
      ],
      "metadata": {
        "colab": {
          "base_uri": "https://localhost:8080/"
        },
        "id": "sihpufXQ3GTI",
        "outputId": "dac5c42c-677e-40ef-c9c2-854e67156c8c"
      },
      "execution_count": 55,
      "outputs": [
        {
          "output_type": "stream",
          "name": "stdout",
          "text": [
            "stat=195.105, p=0.000\n",
            "Probably different distributions\n"
          ]
        }
      ]
    },
    {
      "cell_type": "code",
      "source": [
        "plt.figure(figsize=(10, 6))\n",
        "sns.kdeplot(data=data1, color='blue', label='xG', fill=True)\n",
        "sns.kdeplot(data=data2, color='green', label='GF', fill=True)\n",
        "sns.kdeplot(data=data3, color='red', label='W', fill=True)\n",
        "\n",
        "# Etiquetas y título\n",
        "plt.xlabel('Valor')\n",
        "plt.ylabel('Densidad')\n",
        "plt.title('Distribución de xG, GF y W')\n",
        "plt.legend()\n",
        "\n",
        "plt.show()\n"
      ],
      "metadata": {
        "colab": {
          "base_uri": "https://localhost:8080/",
          "height": 565
        },
        "id": "yTeGW2vE7s9d",
        "outputId": "052fc38f-8972-4c9e-84c3-bca1ebba38b2"
      },
      "execution_count": 58,
      "outputs": [
        {
          "output_type": "display_data",
          "data": {
            "text/plain": [
              "<Figure size 1000x600 with 1 Axes>"
            ],
            "image/png": "[encoded data removed]"
          },
          "metadata": {}
        }
      ]
    },
    {
      "cell_type": "markdown",
      "source": [
        "Comparant les variables de gols a favor, gols esperats i victòries a través del test de Kruskal-Wallis, un test no paramètric per a més de 3 variables amb distribucions desconegudes, s'obté un resultat que indica que hi ha suficient evidència per rebutjar la hipòtesi nul·la que totes les mostres provenen de la mateixa distribució. En altres paraules, les distribucions d'aquestes tres variables són diferents i hi ha diferències significatives entre elles. Analitzant gràficament, es pot observar que les variables de gols a favor i gols esperats tenen una distribució semblant, però són diferents de la variable victòria.\n",
        "\n",
        "Comparando las variables de goles a favor, goles esperados y victorias a través deltest de kruskal wallis, test no paramétrico para más de 3 variables con distribuciones desconocidas, este devuelve un resultado que  indica que hay suficiente evidencia para rechazar la hipótesis nula de que todas las muestras provienen de la misma distribución. En otras palabras, las distribuciones de estas tres variables son diferentes y existen diferencias significativas entre ellas.\n",
        "Analizando gráficamente, se puede observar que las variables de goles a favor y goles esperados si tienen un distribución parecida pero son distintas de la variable victoria.\n",
        "\n",
        "Comparing the variables of goals scored, expected goals, and wins through the Kruskal-Wallis test, a non-parametric test for more than 3 variables with unknown distributions, the test returns a result that indicates there is enough evidence to reject the null hypothesis that all samples come from the same distribution. In other words, the distributions of these three variables are different, and there are significant differences between them. Analyzing graphically, it can be observed that the variables of goals scored and expected goals have a similar distribution but are different from the variable wins.\n",
        "\n"
      ],
      "metadata": {
        "id": "cv0mds3UCxIj"
      }
    }
  ],
  "metadata": {
    "colab": {
      "provenance": []
    },
    "kernelspec": {
      "display_name": "Python 3",
      "name": "python3"
    },
    "language_info": {
      "name": "python"
    }
  },
  "nbformat": 4,
  "nbformat_minor": 0
}