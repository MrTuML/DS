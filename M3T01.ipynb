{
 "cells": [
  {
   "attachments": {},
   "cell_type": "markdown",
   "metadata": {},
   "source": [
    "# Exercicis de programació numèrica.\n",
    "# Ejercicios de programacion numerica.\n",
    "# Numerical programming exercises.\n",
    "\n"
   ]
  },
  {
   "attachments": {},
   "cell_type": "markdown",
   "metadata": {},
   "source": [
    "- Exercici 1\n",
    "\n",
    "Crea una funció que donat un Array d’una dimensió, et faci un resum estadístic bàsic de les dades. Si detecta que l’array té més d’una dimensió, ha de mostrar un missatge d’error.\n",
    "\n",
    "- Ejercicio 1\n",
    "\n",
    "Crea una función que dado un Array de una dimensión, te haga un resumen estadístico básico de los datos. Si detecta que el array tiene más de una dimensión, debe mostrar un mensaje de error.\n",
    "\n",
    "- Exercise 1\n",
    "\n",
    "Create a function that, given an Array of one dimension, will give you a basic statistical summary of the data. If it detects that the array has more than one dimension, it should display an error message."
   ]
  },
  {
   "cell_type": "code",
   "execution_count": 1,
   "metadata": {},
   "outputs": [],
   "source": [
    "import numpy as np\n",
    "\n",
    "def resum_estadistic(array):\n",
    "    if np.ndim(array) > 1:\n",
    "        print(\"Error: L'array té més d'una dimensió.\")\n",
    "        return\n",
    "    \n",
    "    resum = {\n",
    "        'Mínim': np.min(array),\n",
    "        'Màxim': np.max(array),\n",
    "        'Mitjana': np.mean(array),\n",
    "        'Mediana': np.median(array),\n",
    "        'Desviació estàndard': np.std(array)\n",
    "    }\n",
    "    \n",
    "    return resum"
   ]
  },
  {
   "cell_type": "code",
   "execution_count": 7,
   "metadata": {},
   "outputs": [
    {
     "name": "stdout",
     "output_type": "stream",
     "text": [
      "{'Mínim': 1, 'Màxim': 5, 'Mitjana': 3.0, 'Mediana': 3.0, 'Desviació estàndard': 1.4142135623730951}\n"
     ]
    }
   ],
   "source": [
    "array_prova = [1, 2, 3, 4, 5]\n",
    "resum = resum_estadistic(array_prova)\n",
    "print(resum)"
   ]
  },
  {
   "cell_type": "code",
   "execution_count": 4,
   "metadata": {},
   "outputs": [
    {
     "name": "stdout",
     "output_type": "stream",
     "text": [
      "Error: L'array té més d'una dimensió.\n"
     ]
    }
   ],
   "source": [
    "array_prova_2D = [[1, 2, 3], [4, 5, 6]]\n",
    "resum_2D = resum_estadistic(array_prova_2D)"
   ]
  },
  {
   "attachments": {},
   "cell_type": "markdown",
   "metadata": {},
   "source": [
    "- Exercici 2\n",
    "\n",
    "Crea una funció que et generi un quadrat NxN de nombres aleatoris entre el 0 i el 100.\n",
    "\n",
    "- Ejercicio 2\n",
    "\n",
    "Crea una función que genere un cuadrado NxN de números aleatorios entre el 0 y el 100.\n",
    "\n",
    "- Exercise 2\n",
    "\n",
    "Create a function that generates an NxN square of random numbers between 0 and 100.\n",
    "\n"
   ]
  },
  {
   "cell_type": "code",
   "execution_count": 2,
   "metadata": {},
   "outputs": [],
   "source": [
    "import numpy as np\n",
    "\n",
    "def generar_quadrat_aleatori(N):\n",
    "    quadrat = np.random.randint(0, 101, size=(N, N))\n",
    "    return quadrat"
   ]
  },
  {
   "cell_type": "code",
   "execution_count": 3,
   "metadata": {},
   "outputs": [
    {
     "data": {
      "text/plain": [
       "array([[ 88,  80,  96,  51,  25],\n",
       "       [ 80,  60,  89,  79,  21],\n",
       "       [ 10,  62,  33, 100,  47],\n",
       "       [ 37,   1,  45,  60,  95],\n",
       "       [ 23,  22,  53,   2,  42]])"
      ]
     },
     "execution_count": 3,
     "metadata": {},
     "output_type": "execute_result"
    }
   ],
   "source": [
    "generar_quadrat_aleatori(5)"
   ]
  },
  {
   "attachments": {},
   "cell_type": "markdown",
   "metadata": {},
   "source": [
    "- Exercici 3\n",
    "\n",
    "Crea una funció que donada una taula de dues dimensions (NxM), et calculi els totals per fila i els totals per columna.\n",
    "\n",
    "- Ejercicio 3\n",
    "\n",
    "Crea una función que dada una tabla de dos dimensiones (NxM), te calcule los totales por fila y los totales por columna.\n",
    "\n",
    "- Exercise 3\n",
    "\n",
    "Create a function that, given a two-dimensional table (NxM), calculates the totals per row and the totals per column."
   ]
  },
  {
   "cell_type": "code",
   "execution_count": 8,
   "metadata": {},
   "outputs": [],
   "source": [
    "import numpy as np\n",
    "\n",
    "def calcular_totals(taula):\n",
    "    totals_fila = np.sum(taula, axis=1)\n",
    "    totals_columna = np.sum(taula, axis=0)\n",
    "    return totals_fila, totals_columna"
   ]
  },
  {
   "cell_type": "code",
   "execution_count": 9,
   "metadata": {},
   "outputs": [
    {
     "name": "stdout",
     "output_type": "stream",
     "text": [
      "Totals per fila: [ 6 15 24]\n",
      "Totals per columna: [12 15 18]\n"
     ]
    }
   ],
   "source": [
    "taula = np.array([[1, 2, 3], [4, 5, 6], [7, 8, 9]])\n",
    "totals_fila, totals_columna = calcular_totals(taula)\n",
    "print(\"Totals per fila:\", totals_fila)\n",
    "print(\"Totals per columna:\", totals_columna)"
   ]
  },
  {
   "attachments": {},
   "cell_type": "markdown",
   "metadata": {},
   "source": [
    "- Exercici 4\n",
    "\n",
    "Implementa manualment una funció que calculi el coeficient de correlació. Informa-te'n sobre els seus usos i interpretació.\n",
    "\n",
    "- Ejercicio 4\n",
    "\n",
    "Implementa manualmente una función que calcule el coeficiente de correlación. Infórmate sobre sus usos e interpretación.\n",
    "\n",
    "- Exercise 4\n",
    "\n",
    "Manually implement a function that calculates the correlation coefficient. Find out about its uses and interpretation.\n",
    "\n"
   ]
  },
  {
   "cell_type": "code",
   "execution_count": 26,
   "metadata": {},
   "outputs": [
    {
     "name": "stdout",
     "output_type": "stream",
     "text": [
      "Coeficient de correlació manual: 1.0\n"
     ]
    }
   ],
   "source": [
    "def coeficient_correlacio(x, y):\n",
    "    n = len(x)\n",
    "    sum_x = sum(x)\n",
    "    sum_y = sum(y)\n",
    "    sum_xy = sum([xi * yi for xi, yi in zip(x, y)])\n",
    "    sum_x_squared = sum([xi ** 2 for xi in x])\n",
    "    sum_y_squared = sum([yi ** 2 for yi in y])\n",
    "\n",
    "    numerador = (n * sum_xy) - (sum_x * sum_y)\n",
    "    denominador = math.sqrt((n * sum_x_squared - sum_x ** 2) * (n * sum_y_squared - sum_y ** 2))\n",
    "\n",
    "    coeficient = numerador / denominador\n",
    "    return coeficient\n",
    "\n",
    "coeficient_manual = coeficient_correlacio(x, y)\n",
    "print(\"Coeficient de correlació manual:\", coeficient_manual)"
   ]
  },
  {
   "cell_type": "code",
   "execution_count": 27,
   "metadata": {},
   "outputs": [],
   "source": [
    "def coeficiente_correlacion(variable1, variable2):\n",
    "    def media(m):\n",
    "        c = 0\n",
    "        for i in range(len(m)):\n",
    "            c += m[i]\n",
    "        return c / len(m)\n",
    "\n",
    "    def co(m, n):\n",
    "        c = 0\n",
    "        for i in range(len(m)):\n",
    "            c += (m[i] - media(m)) * (n[i] - media(n))\n",
    "        return c\n",
    "\n",
    "    def v(m):\n",
    "        c = 0\n",
    "        for i in range(len(m)):\n",
    "            c += (m[i] - media(m)) ** 2\n",
    "        return c\n",
    "\n",
    "    numerador = co(variable1, variable2)\n",
    "    denominador = math.sqrt(v(variable1) * v(variable2))\n",
    "    coeficiente = numerador / denominador\n",
    "\n",
    "    return coeficiente"
   ]
  },
  {
   "cell_type": "code",
   "execution_count": 28,
   "metadata": {},
   "outputs": [
    {
     "name": "stdout",
     "output_type": "stream",
     "text": [
      "Coeficient de correlació manual: 1.0\n",
      "Coeficient de correlació manual2: 1.0\n",
      "Coeficient de correlació predefinit: 0.9999999999999999\n"
     ]
    }
   ],
   "source": [
    "x = [1, 2, 3, 4, 5]\n",
    "y = [2, 4, 6, 8, 10]\n",
    "\n",
    "coeficient_manual = coeficient_correlacio(x, y)\n",
    "print(\"Coeficient de correlació manual:\", coeficient_manual)\n",
    "\n",
    "coeficiente_correlacion = coeficiente_correlacion(x,y)\n",
    "print(\"Coeficient de correlació manual2:\", coeficiente_correlacion)\n",
    "\n",
    "# Càlcul del coeficient de correlació amb la funció predefinida\n",
    "coeficient_predefinit = np.corrcoef(x, y)[0, 1]\n",
    "print(\"Coeficient de correlació predefinit:\", coeficient_predefinit)"
   ]
  }
 ],
 "metadata": {
  "kernelspec": {
   "display_name": "Python 3",
   "language": "python",
   "name": "python3"
  },
  "language_info": {
   "codemirror_mode": {
    "name": "ipython",
    "version": 3
   },
   "file_extension": ".py",
   "mimetype": "text/x-python",
   "name": "python",
   "nbconvert_exporter": "python",
   "pygments_lexer": "ipython3",
   "version": "3.10.1"
  },
  "orig_nbformat": 4
 },
 "nbformat": 4,
 "nbformat_minor": 2
}
