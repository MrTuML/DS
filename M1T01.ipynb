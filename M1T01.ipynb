{
 "cells": [
  {
   "attachments": {},
   "cell_type": "markdown",
   "metadata": {},
   "source": [
    "#Exercicis amb MySQL.\n",
    "#Ejercicios con MySQL.\n",
    "#Exercises with MySQL."
   ]
  },
  {
   "attachments": {},
   "cell_type": "markdown",
   "metadata": {},
   "source": [
    "- Exercici 1\n",
    "\n",
    "A partir dels documents adjunts (estructura i dades), crea una base de dades amb MySQL. Mostra les característiques principals de l'esquema creat i explica les diferents taules i variables que hi ha.\n",
    "\n",
    "- Ejercicio 1\n",
    "\n",
    "A partir de los documentos adjuntos (estructura y datos), crea una base de datos con MySQL. Muestra las principales características del esquema creado y explica las diferentes tablas y variables existentes.\n",
    "\n",
    "- Exercise 1\n",
    "\n",
    "From the attached documents (structure and data), create a database with MySQL. It shows the main features of the created schema and explains the different tables and variables in it."
   ]
  },
  {
   "cell_type": "code",
   "execution_count": 3,
   "metadata": {},
   "outputs": [],
   "source": [
    "import mysql.connector\n",
    "from mysql.connector import Error"
   ]
  },
  {
   "cell_type": "code",
   "execution_count": 71,
   "metadata": {},
   "outputs": [],
   "source": [
    "mydb = mysql.connector.connect(\n",
    "  host=\"localhost\",\n",
    "  user=\"root\",\n",
    "  password=\"...\",\n",
    "  db=\"movies\"\n",
    ")\n",
    "\n",
    "cursor = mydb.cursor()"
   ]
  },
  {
   "cell_type": "code",
   "execution_count": 3,
   "metadata": {},
   "outputs": [],
   "source": [
    "cursor.execute(\"CREATE SCHEMA IF NOT EXISTS movies\")"
   ]
  },
  {
   "cell_type": "code",
   "execution_count": 4,
   "metadata": {},
   "outputs": [],
   "source": [
    "cursor.execute(\"\"\"CREATE TABLE IF NOT EXISTS movies.tb_genre (\n",
    "    genre_id         INTEGER NOT NULL ,\n",
    "    genre_name       CHARACTER VARYING(40) NOT NULL ,\n",
    "    created_by_user  CHARACTER VARYING(10) NOT NULL DEFAULT 'OS_SGAD' ,\n",
    "    created_date     DATE ,\n",
    "    updated_date     DATE ,\n",
    "    CONSTRAINT pk_genre PRIMARY KEY (genre_id))\"\"\"\n",
    "    )"
   ]
  },
  {
   "cell_type": "code",
   "execution_count": 5,
   "metadata": {},
   "outputs": [],
   "source": [
    "tmoviestbmovie = \"\"\"CREATE TABLE  IF NOT EXISTS movies.tb_movie ( \n",
    "    movie_id         INTEGER NOT NULL ,  \n",
    "    movie_title      CHARACTER VARYING(100) NOT NULL ,\n",
    "    movie_date       DATE ,\n",
    "    movie_format     CHARACTER VARYING(50) ,\n",
    "    movie_genre_id   INTEGER ,\n",
    "    created_by_user  CHARACTER VARYING(10) NOT NULL DEFAULT 'OS_SGAD' ,\n",
    "    created_date     DATE ,\n",
    "    updated_date     DATE ,\n",
    "    CONSTRAINT pk_movie PRIMARY KEY (movie_id) ,\n",
    "    CONSTRAINT fk_movie_genre FOREIGN KEY (movie_genre_id) REFERENCES movies.tb_genre (genre_id))\"\"\""
   ]
  },
  {
   "cell_type": "code",
   "execution_count": 6,
   "metadata": {},
   "outputs": [],
   "source": [
    "cursor.execute(tmoviestbmovie)"
   ]
  },
  {
   "cell_type": "code",
   "execution_count": 7,
   "metadata": {},
   "outputs": [],
   "source": [
    "Tmoviestb_role = \"\"\"CREATE TABLE IF NOT EXISTS movies.tb_role (\n",
    "  role_id          INTEGER NOT NULL ,\n",
    "  role_name        CHARACTER VARYING(60) NOT NULL ,\n",
    "  created_by_user  CHARACTER VARYING(10) NOT NULL DEFAULT 'OS_SGAD' ,\n",
    "  created_date     DATE ,\n",
    "  updated_date     DATE ,\n",
    "  CONSTRAINT pk_role PRIMARY KEY (role_id))\"\"\""
   ]
  },
  {
   "cell_type": "code",
   "execution_count": 8,
   "metadata": {},
   "outputs": [],
   "source": [
    "cursor.execute(Tmoviestb_role)"
   ]
  },
  {
   "cell_type": "code",
   "execution_count": 9,
   "metadata": {},
   "outputs": [],
   "source": [
    "tmoviestb_person = \"\"\"CREATE TABLE IF NOT EXISTS movies.tb_person (\n",
    "  person_id        INTEGER NOT NULL ,\n",
    "  person_name      CHARACTER VARYING(100) NOT NULL ,\n",
    "  person_country   CHARACTER VARYING(40) , \n",
    "  person_dob       DATE NOT NULL ,\n",
    "  person_dod       DATE ,\n",
    "  person_parent_id INTEGER ,\n",
    "  created_by_user  CHARACTER VARYING(10) NOT NULL DEFAULT 'OS_SGAD' ,\n",
    "  created_date     DATE ,\n",
    "  updated_date     DATE ,\n",
    "  CONSTRAINT pk_person PRIMARY KEY (person_id) ,\n",
    "  CONSTRAINT fk_person_parent FOREIGN KEY (person_parent_id) REFERENCES movies.tb_person (person_id))\"\"\""
   ]
  },
  {
   "cell_type": "code",
   "execution_count": 10,
   "metadata": {},
   "outputs": [],
   "source": [
    "cursor.execute(tmoviestb_person)"
   ]
  },
  {
   "cell_type": "code",
   "execution_count": 11,
   "metadata": {},
   "outputs": [],
   "source": [
    "tmoviestb_movie_person = \"\"\"CREATE TABLE IF NOT EXISTS movies.tb_movie_person (\n",
    "  movie_id         INTEGER NOT NULL ,\n",
    "  person_id        INTEGER NOT NULL ,\n",
    "  role_id          INTEGER NOT NULL ,\n",
    "  movie_award_ind  CHAR(1) NOT NULL ,\n",
    "  created_by_user  CHARACTER VARYING(10) NOT NULL DEFAULT 'OS_SGAD' ,\n",
    "  created_date     DATE ,\n",
    "  updated_date     DATE ,\n",
    "  CONSTRAINT pk_movper PRIMARY KEY (movie_id, person_id, role_id) ,\n",
    "  CONSTRAINT fk_movper_movie FOREIGN KEY (movie_id) REFERENCES movies.tb_movie (movie_id) ,\n",
    "  CONSTRAINT fk_movper_person FOREIGN KEY (person_id) REFERENCES movies.tb_person (person_id) ,\n",
    "  CONSTRAINT fk_movper_role FOREIGN KEY (role_id) REFERENCES movies.tb_role (role_id)\n",
    "  )\"\"\""
   ]
  },
  {
   "cell_type": "code",
   "execution_count": 12,
   "metadata": {},
   "outputs": [],
   "source": [
    "cursor.execute(tmoviestb_movie_person)"
   ]
  },
  {
   "cell_type": "code",
   "execution_count": 22,
   "metadata": {},
   "outputs": [],
   "source": [
    "Datatb_genre = \"\"\"\n",
    "INSERT INTO movies.tb_genre (genre_id, genre_name) VALUES ( 1, 'Acción');\\\n",
    "INSERT INTO movies.tb_genre (genre_id, genre_name) VALUES ( 2, 'Ciencia Ficción');\\\n",
    "INSERT INTO movies.tb_genre (genre_id, genre_name) VALUES ( 3, 'Comedia');\\\n",
    "INSERT INTO movies.tb_genre (genre_id, genre_name) VALUES ( 4, 'Drama');\\\n",
    "INSERT INTO movies.tb_genre (genre_id, genre_name, created_by_user) VALUES ( 5, 'Fantasía', 'apermag');\\\n",
    "INSERT INTO movies.tb_genre (genre_id, genre_name, created_by_user, created_date, updated_date) VALUES ( 6, 'Melodrama', 'apermag', '2018-09-01', '2018-09-27');\\\n",
    "INSERT INTO movies.tb_genre (genre_id, genre_name) VALUES ( 7, 'Musical');\\\n",
    "INSERT INTO movies.tb_genre (genre_id, genre_name) VALUES ( 8, 'Romance');\\\n",
    "INSERT INTO movies.tb_genre (genre_id, genre_name) VALUES ( 9, 'Suspense');\\\n",
    "INSERT INTO movies.tb_genre (genre_id, genre_name) VALUES (10, 'Terror');\\\n",
    "INSERT INTO movies.tb_genre (genre_id, genre_name) VALUES (11, 'Bélico');\n",
    "\"\"\""
   ]
  },
  {
   "cell_type": "code",
   "execution_count": 25,
   "metadata": {},
   "outputs": [],
   "source": [
    "sql = \"DELETE FROM movies.tb_genre\"\n",
    "cursor.execute(sql)\n",
    "\n",
    "# Guardar los cambios \n",
    "mydb.commit()"
   ]
  },
  {
   "cell_type": "code",
   "execution_count": 26,
   "metadata": {},
   "outputs": [
    {
     "name": "stdout",
     "output_type": "stream",
     "text": [
      "Number of rows affected by statement 'INSERT INTO movies.tb_genre (genre_id, genre_name) VALUES ( 1, 'Acción')': 1\n",
      "Number of rows affected by statement 'INSERT INTO movies.tb_genre (genre_id, genre_name) VALUES ( 2, 'Ciencia Ficción')': 1\n",
      "Number of rows affected by statement 'INSERT INTO movies.tb_genre (genre_id, genre_name) VALUES ( 3, 'Comedia')': 1\n",
      "Number of rows affected by statement 'INSERT INTO movies.tb_genre (genre_id, genre_name) VALUES ( 4, 'Drama')': 1\n",
      "Number of rows affected by statement 'INSERT INTO movies.tb_genre (genre_id, genre_name, created_by_user) VALUES ( 5, 'Fantasía', 'apermag')': 1\n",
      "Number of rows affected by statement 'INSERT INTO movies.tb_genre (genre_id, genre_name, created_by_user, created_date, updated_date) VALUES ( 6, 'Melodrama', 'apermag', '2018-09-01', '2018-09-27')': 1\n",
      "Number of rows affected by statement 'INSERT INTO movies.tb_genre (genre_id, genre_name) VALUES ( 7, 'Musical')': 1\n",
      "Number of rows affected by statement 'INSERT INTO movies.tb_genre (genre_id, genre_name) VALUES ( 8, 'Romance')': 1\n",
      "Number of rows affected by statement 'INSERT INTO movies.tb_genre (genre_id, genre_name) VALUES ( 9, 'Suspense')': 1\n",
      "Number of rows affected by statement 'INSERT INTO movies.tb_genre (genre_id, genre_name) VALUES (10, 'Terror')': 1\n",
      "Number of rows affected by statement 'INSERT INTO movies.tb_genre (genre_id, genre_name) VALUES (11, 'Bélico')': 1\n"
     ]
    }
   ],
   "source": [
    "for result in cursor.execute(Datatb_genre, multi=True):\n",
    "  if result.with_rows:\n",
    "    print(\"Rows produced by statement '{}':\".format(result.statement))\n",
    "    print(result.fetchall())\n",
    "  else:\n",
    "    print(\"Number of rows affected by statement '{}': {}\".format(result.statement, result.rowcount))\n",
    "\n",
    "\n",
    "mydb.commit()\n"
   ]
  },
  {
   "cell_type": "code",
   "execution_count": 27,
   "metadata": {},
   "outputs": [],
   "source": [
    "Datatb_movie = \"\"\"\n",
    "INSERT INTO movies.tb_movie (movie_id, movie_title, movie_date, movie_format, movie_genre_id) VALUES ( 1, 'Apocalypse Now', '1979-05-10', 'Film', 11);\n",
    "INSERT INTO movies.tb_movie (movie_id, movie_title, movie_date, movie_format, movie_genre_id) VALUES ( 2, 'Star Wars:Episode IV - A New Hope', '1977-05-25', 'Film', 2);\n",
    "INSERT INTO movies.tb_movie (movie_id, movie_title, movie_date, movie_format, movie_genre_id) VALUES ( 3, 'Indiana Jones and the Temple of Doom', '1984-05-08', 'Film', 1);\n",
    "INSERT INTO movies.tb_movie (movie_id, movie_title, movie_date, movie_format, movie_genre_id) VALUES ( 4, 'The Terminal', '2004-06-18', 'Digital', 3);\n",
    "INSERT INTO movies.tb_movie (movie_id, movie_title, movie_date, movie_format, movie_genre_id) VALUES ( 5, 'Jaws', '1975-01-01', 'Film', 10);\n",
    "INSERT INTO movies.tb_movie (movie_id, movie_title, movie_date, movie_format, movie_genre_id) VALUES ( 6, 'ET The Extraterrestrial', '1982-07-25', 'Film', 5);\n",
    "INSERT INTO movies.tb_movie (movie_id, movie_title, movie_date, movie_format, movie_genre_id) VALUES ( 7, 'Psycho', '1960-05-06', 'Film', 9);\n",
    "INSERT INTO movies.tb_movie (movie_id, movie_title, movie_date, movie_format, movie_genre_id) VALUES ( 8, 'Ocho Apellidos Vascos', '2014-03-14', 'Digital', 3);\n",
    "INSERT INTO movies.tb_movie (movie_id, movie_title, movie_date, movie_format, movie_genre_id) VALUES ( 9, 'Ocho Apellidos Catalanes', '2016-06-09', 'Digital', 8);\n",
    "INSERT INTO movies.tb_movie (movie_id, movie_title, movie_date, movie_format, movie_genre_id) VALUES (10, 'El otro lado de la cama', '2002-09-04', 'Digital', 8);\n",
    "INSERT INTO movies.tb_movie (movie_id, movie_title, movie_date, movie_format, movie_genre_id) VALUES (11, 'La Gran Familia Española', '2012-10-15', 'Digital', 3);\n",
    "INSERT INTO movies.tb_movie (movie_id, movie_title, movie_date, movie_format, movie_genre_id) VALUES (12, 'El dia de la bestia', '1994-12-25', 'Film', 1);\n",
    "INSERT INTO movies.tb_movie (movie_id, movie_title, movie_date, movie_format, movie_genre_id) VALUES (13, 'Braveheart', '1995-08-08', 'Film', 4);\n",
    "INSERT INTO movies.tb_movie (movie_id, movie_title, movie_date, movie_format, movie_genre_id) VALUES (14, 'The Shawshank Redemption', '1992-01-07', 'Film', 4);\n",
    "INSERT INTO movies.tb_movie (movie_id, movie_title, movie_date, movie_format, movie_genre_id) VALUES (15, 'Las brujas de Zugarramurdi', '2009-10-07', 'Digital', 9);\n",
    "INSERT INTO movies.tb_movie (movie_id, movie_title, movie_date, movie_format, movie_genre_id) VALUES (16, 'Blade Runner', '1982-12-25', 'Digital', 2)\"\"\""
   ]
  },
  {
   "cell_type": "code",
   "execution_count": 28,
   "metadata": {},
   "outputs": [
    {
     "name": "stdout",
     "output_type": "stream",
     "text": [
      "Number of rows affected by statement 'INSERT INTO movies.tb_movie (movie_id, movie_title, movie_date, movie_format, movie_genre_id) VALUES ( 1, 'Apocalypse Now', '1979-05-10', 'Film', 11)': 1\n",
      "Number of rows affected by statement 'INSERT INTO movies.tb_movie (movie_id, movie_title, movie_date, movie_format, movie_genre_id) VALUES ( 2, 'Star Wars:Episode IV - A New Hope', '1977-05-25', 'Film', 2)': 1\n",
      "Number of rows affected by statement 'INSERT INTO movies.tb_movie (movie_id, movie_title, movie_date, movie_format, movie_genre_id) VALUES ( 3, 'Indiana Jones and the Temple of Doom', '1984-05-08', 'Film', 1)': 1\n",
      "Number of rows affected by statement 'INSERT INTO movies.tb_movie (movie_id, movie_title, movie_date, movie_format, movie_genre_id) VALUES ( 4, 'The Terminal', '2004-06-18', 'Digital', 3)': 1\n",
      "Number of rows affected by statement 'INSERT INTO movies.tb_movie (movie_id, movie_title, movie_date, movie_format, movie_genre_id) VALUES ( 5, 'Jaws', '1975-01-01', 'Film', 10)': 1\n",
      "Number of rows affected by statement 'INSERT INTO movies.tb_movie (movie_id, movie_title, movie_date, movie_format, movie_genre_id) VALUES ( 6, 'ET The Extraterrestrial', '1982-07-25', 'Film', 5)': 1\n",
      "Number of rows affected by statement 'INSERT INTO movies.tb_movie (movie_id, movie_title, movie_date, movie_format, movie_genre_id) VALUES ( 7, 'Psycho', '1960-05-06', 'Film', 9)': 1\n",
      "Number of rows affected by statement 'INSERT INTO movies.tb_movie (movie_id, movie_title, movie_date, movie_format, movie_genre_id) VALUES ( 8, 'Ocho Apellidos Vascos', '2014-03-14', 'Digital', 3)': 1\n",
      "Number of rows affected by statement 'INSERT INTO movies.tb_movie (movie_id, movie_title, movie_date, movie_format, movie_genre_id) VALUES ( 9, 'Ocho Apellidos Catalanes', '2016-06-09', 'Digital', 8)': 1\n",
      "Number of rows affected by statement 'INSERT INTO movies.tb_movie (movie_id, movie_title, movie_date, movie_format, movie_genre_id) VALUES (10, 'El otro lado de la cama', '2002-09-04', 'Digital', 8)': 1\n",
      "Number of rows affected by statement 'INSERT INTO movies.tb_movie (movie_id, movie_title, movie_date, movie_format, movie_genre_id) VALUES (11, 'La Gran Familia Española', '2012-10-15', 'Digital', 3)': 1\n",
      "Number of rows affected by statement 'INSERT INTO movies.tb_movie (movie_id, movie_title, movie_date, movie_format, movie_genre_id) VALUES (12, 'El dia de la bestia', '1994-12-25', 'Film', 1)': 1\n",
      "Number of rows affected by statement 'INSERT INTO movies.tb_movie (movie_id, movie_title, movie_date, movie_format, movie_genre_id) VALUES (13, 'Braveheart', '1995-08-08', 'Film', 4)': 1\n",
      "Number of rows affected by statement 'INSERT INTO movies.tb_movie (movie_id, movie_title, movie_date, movie_format, movie_genre_id) VALUES (14, 'The Shawshank Redemption', '1992-01-07', 'Film', 4)': 1\n",
      "Number of rows affected by statement 'INSERT INTO movies.tb_movie (movie_id, movie_title, movie_date, movie_format, movie_genre_id) VALUES (15, 'Las brujas de Zugarramurdi', '2009-10-07', 'Digital', 9)': 1\n",
      "Number of rows affected by statement 'INSERT INTO movies.tb_movie (movie_id, movie_title, movie_date, movie_format, movie_genre_id) VALUES (16, 'Blade Runner', '1982-12-25', 'Digital', 2)': 1\n"
     ]
    }
   ],
   "source": [
    "for result in cursor.execute(Datatb_movie, multi=True):\n",
    "  if result.with_rows:\n",
    "    print(\"Rows produced by statement '{}':\".format(result.statement))\n",
    "    print(result.fetchall())\n",
    "  else:\n",
    "    print(\"Number of rows affected by statement '{}': {}\".format(result.statement, result.rowcount))\n",
    "\n",
    "\n",
    "mydb.commit()"
   ]
  },
  {
   "cell_type": "code",
   "execution_count": 29,
   "metadata": {},
   "outputs": [],
   "source": [
    "Datatb_role = \"\"\"\n",
    "INSERT INTO movies.tb_role (role_id, role_name) VALUES ( 1, 'Actor');\n",
    "INSERT INTO movies.tb_role (role_id, role_name) VALUES ( 2, 'Director');\n",
    "INSERT INTO movies.tb_role (role_id, role_name) VALUES ( 3, 'Productor');\n",
    "INSERT INTO movies.tb_role (role_id, role_name) VALUES ( 4, 'Guionista');\n",
    "INSERT INTO movies.tb_role (role_id, role_name) VALUES ( 5, 'Música');\n",
    "\"\"\""
   ]
  },
  {
   "cell_type": "code",
   "execution_count": 30,
   "metadata": {},
   "outputs": [
    {
     "name": "stdout",
     "output_type": "stream",
     "text": [
      "Number of rows affected by statement 'INSERT INTO movies.tb_role (role_id, role_name) VALUES ( 1, 'Actor')': 1\n",
      "Number of rows affected by statement 'INSERT INTO movies.tb_role (role_id, role_name) VALUES ( 2, 'Director')': 1\n",
      "Number of rows affected by statement 'INSERT INTO movies.tb_role (role_id, role_name) VALUES ( 3, 'Productor')': 1\n",
      "Number of rows affected by statement 'INSERT INTO movies.tb_role (role_id, role_name) VALUES ( 4, 'Guionista')': 1\n",
      "Number of rows affected by statement 'INSERT INTO movies.tb_role (role_id, role_name) VALUES ( 5, 'Música')': 1\n"
     ]
    }
   ],
   "source": [
    "for result in cursor.execute(Datatb_role, multi=True):\n",
    "  if result.with_rows:\n",
    "    print(\"Rows produced by statement '{}':\".format(result.statement))\n",
    "    print(result.fetchall())\n",
    "  else:\n",
    "    print(\"Number of rows affected by statement '{}': {}\".format(result.statement, result.rowcount))\n",
    "\n",
    "\n",
    "mydb.commit()"
   ]
  },
  {
   "cell_type": "code",
   "execution_count": 32,
   "metadata": {},
   "outputs": [],
   "source": [
    "Datatb_person = \"\"\"\n",
    "INSERT INTO movies.tb_person (person_id, person_name, person_country, person_dob, person_dod, person_parent_id) VALUES ( 1, 'Francis Ford Coppola', 'United States', '1939-04-07', NULL, NULL);\n",
    "INSERT INTO movies.tb_person (person_id, person_name, person_country, person_dob, person_dod, person_parent_id) VALUES ( 2, 'Carmine Coppola', 'United States', '1945-07-08', NULL, NULL);\n",
    "INSERT INTO movies.tb_person (person_id, person_name, person_country, person_dob, person_dod, person_parent_id) VALUES ( 3, 'Marlon Brando', 'United States', '1924-04-03', '2004-07-01', NULL);\n",
    "INSERT INTO movies.tb_person (person_id, person_name, person_country, person_dob, person_dod, person_parent_id) VALUES ( 4, 'Robert Duvall', 'United States', '1931-01-05', NULL, NULL);\n",
    "INSERT INTO movies.tb_person (person_id, person_name, person_country, person_dob, person_dod, person_parent_id) VALUES ( 5, 'Martin Sheen', 'United States', '1940-08-03', NULL, NULL);\n",
    "INSERT INTO movies.tb_person (person_id, person_name, person_country, person_dob, person_dod, person_parent_id) VALUES ( 6, 'Harrison Ford', 'United States', '1942-07-13', NULL, NULL);\n",
    "INSERT INTO movies.tb_person (person_id, person_name, person_country, person_dob, person_dod, person_parent_id) VALUES ( 7, 'George Lucas', 'United States', '1944-05-14', NULL, NULL);\n",
    "INSERT INTO movies.tb_person (person_id, person_name, person_country, person_dob, person_dod, person_parent_id) VALUES ( 8, 'Gary Kurtz', 'United States', '1940-07-27', NULL, NULL);\n",
    "INSERT INTO movies.tb_person (person_id, person_name, person_country, person_dob, person_dod, person_parent_id) VALUES ( 9, 'Steven Spielberg', 'United States', '1946-12-18', NULL, NULL);\n",
    "INSERT INTO movies.tb_person (person_id, person_name, person_country, person_dob, person_dod, person_parent_id) VALUES (10, 'John Williams', 'United States', '1928-08-08', NULL, NULL);\n",
    "INSERT INTO movies.tb_person (person_id, person_name, person_country, person_dob, person_dod, person_parent_id) VALUES (11, 'Tom Hanks', 'United States', '1956-07-09', NULL, NULL);\n",
    "INSERT INTO movies.tb_person (person_id, person_name, person_country, person_dob, person_dod, person_parent_id) VALUES (12, 'Catherine Zeta-Jones', 'Wales', '1969-09-25', NULL, NULL);\n",
    "INSERT INTO movies.tb_person (person_id, person_name, person_country, person_dob, person_dod, person_parent_id) VALUES (13, 'Alfred Joseph Hitchcock', 'United Kingdom', '1899-08-13', '1980-04-29', NULL);\n",
    "INSERT INTO movies.tb_person (person_id, person_name, person_country, person_dob, person_dod, person_parent_id) VALUES (14, 'Anthony Perkins', 'United States', '1934-04-04', '1992-09-08', NULL);\n",
    "INSERT INTO movies.tb_person (person_id, person_name, person_country, person_dob, person_dod, person_parent_id) VALUES (15, 'Vera Miles', 'United States', '1929-08-23', NULL, NULL);\n",
    "INSERT INTO movies.tb_person (person_id, person_name, person_country, person_dob, person_dod, person_parent_id) VALUES (16, 'Emilio Martinez Lazaro', 'Spain', '1956-09-09', NULL, NULL);\n",
    "INSERT INTO movies.tb_person (person_id, person_name, person_country, person_dob, person_dod, person_parent_id) VALUES (17, 'Dani Rovira', 'Spain', '1984-07-01', NULL, NULL);\n",
    "INSERT INTO movies.tb_person (person_id, person_name, person_country, person_dob, person_dod, person_parent_id) VALUES (18, 'Clara Lago', 'Spain', '1986-04-17', NULL, NULL);\n",
    "INSERT INTO movies.tb_person (person_id, person_name, person_country, person_dob, person_dod, person_parent_id) VALUES (19, 'Carmen Machi', 'Spain', '1964-08-09', NULL, NULL);\n",
    "INSERT INTO movies.tb_person (person_id, person_name, person_country, person_dob, person_dod, person_parent_id) VALUES (20, 'Karra Elejalde', 'Spain', '1960-03-06', NULL, NULL);\n",
    "INSERT INTO movies.tb_person (person_id, person_name, person_country, person_dob, person_dod, person_parent_id) VALUES (21, 'Daniel Sanchez Arevalo', 'Spain', '1970-06-08', NULL, NULL);\n",
    "INSERT INTO movies.tb_person (person_id, person_name, person_country, person_dob, person_dod, person_parent_id) VALUES (22, 'Quim Gutierrez', 'Spain', '1981-03-27', NULL, NULL);\n",
    "INSERT INTO movies.tb_person (person_id, person_name, person_country, person_dob, person_dod, person_parent_id) VALUES (23, 'Robert Alamo', 'Spain', '1970-05-06', NULL, NULL);\n",
    "INSERT INTO movies.tb_person (person_id, person_name, person_country, person_dob, person_dod, person_parent_id) VALUES (24, 'Hector Colome', 'Spain', '1944-10-25', '2015-02-28', NULL);\n",
    "INSERT INTO movies.tb_person (person_id, person_name, person_country, person_dob, person_dod, person_parent_id) VALUES (25, 'Veronica Echegui', 'Spain', '1983-03-14', NULL, NULL);\n",
    "INSERT INTO movies.tb_person (person_id, person_name, person_country, person_dob, person_dod, person_parent_id) VALUES (26, 'Patrick Criado', 'Spain', '1995-09-23', NULL, NULL);\n",
    "INSERT INTO movies.tb_person (person_id, person_name, person_country, person_dob, person_dod, person_parent_id) VALUES (27, 'Sean Connery', 'Scotland', '1930-07-08', NULL, NULL);\n",
    "INSERT INTO movies.tb_person (person_id, person_name, person_country, person_dob, person_dod, person_parent_id) VALUES (28, 'Mel Gibson', 'Australia', '1950-08-09', NULL, NULL);\n",
    "INSERT INTO movies.tb_person (person_id, person_name, person_country, person_dob, person_dod, person_parent_id) VALUES (29, 'Morgan Freeman', 'United States', '1935-10-01', NULL, NULL);\n",
    "INSERT INTO movies.tb_person (person_id, person_name, person_country, person_dob, person_dod, person_parent_id) VALUES (30, 'Tim Robbins', 'United States', '1949-06-07', NULL, NULL);\n",
    "INSERT INTO movies.tb_person (person_id, person_name, person_country, person_dob, person_dod, person_parent_id) VALUES (41, 'Charlie Sheen', 'United States', '1965-09-03', NULL, 5);\n",
    "INSERT INTO movies.tb_person (person_id, person_name, person_country, person_dob, person_dod, person_parent_id) VALUES (42, 'Emilio Estevez', 'United States', '1962-05-12', NULL, 5);\n",
    "INSERT INTO movies.tb_person (person_id, person_name, person_country, person_dob, person_dod, person_parent_id) VALUES (43, 'Ramón Estevez', 'United States', '1963-08-07', NULL, 5);\n",
    "INSERT INTO movies.tb_person (person_id, person_name, person_country, person_dob, person_dod, person_parent_id) VALUES (44, 'Reneé Estevez', 'United States', '1967-04-02', NULL, 5);\n",
    "INSERT INTO movies.tb_person (person_id, person_name, person_country, person_dob, person_dod, person_parent_id) VALUES (45, 'Paula Speert Sheen', 'United States', '1986-01-06', NULL,41);\n",
    "INSERT INTO movies.tb_person (person_id, person_name, person_country, person_dob, person_dod, person_parent_id) VALUES (46, 'Bob Sheen', 'United States', '2009-05-01', NULL,41);\n",
    "INSERT INTO movies.tb_person (person_id, person_name, person_country, person_dob, person_dod, person_parent_id) VALUES (47, 'Max Sheen', 'United States', '2009-05-01', NULL,41);\n",
    "INSERT INTO movies.tb_person (person_id, person_name, person_country, person_dob, person_dod, person_parent_id) VALUES (48, 'Sam Sheen', 'United States', '2004-03-09', NULL,41);\n",
    "INSERT INTO movies.tb_person (person_id, person_name, person_country, person_dob, person_dod, person_parent_id) VALUES (49, 'Lola Sheen', 'United States', '2005-06-01', NULL,41);\n",
    "INSERT INTO movies.tb_person (person_id, person_name, person_country, person_dob, person_dod, person_parent_id) VALUES (50, 'Paula Jones-Sheen', 'United States', '2003-07-06', NULL,45);\n",
    "INSERT INTO movies.tb_person (person_id, person_name, person_country, person_dob, person_dod, person_parent_id) VALUES (51, 'Paloma Rae Estevez', 'United States', '1986-02-15', NULL,42);\n",
    "INSERT INTO movies.tb_person (person_id, person_name, person_country, person_dob, person_dod, person_parent_id) VALUES (52, 'Taylor Levi Estevez', 'United States', '1984-06-22', NULL,42);\n",
    "\n",
    "\"\"\""
   ]
  },
  {
   "cell_type": "code",
   "execution_count": 33,
   "metadata": {},
   "outputs": [
    {
     "name": "stdout",
     "output_type": "stream",
     "text": [
      "Number of rows affected by statement 'INSERT INTO movies.tb_person (person_id, person_name, person_country, person_dob, person_dod, person_parent_id) VALUES ( 1, 'Francis Ford Coppola', 'United States', '1939-04-07', NULL, NULL)': 1\n",
      "Number of rows affected by statement 'INSERT INTO movies.tb_person (person_id, person_name, person_country, person_dob, person_dod, person_parent_id) VALUES ( 2, 'Carmine Coppola', 'United States', '1945-07-08', NULL, NULL)': 1\n",
      "Number of rows affected by statement 'INSERT INTO movies.tb_person (person_id, person_name, person_country, person_dob, person_dod, person_parent_id) VALUES ( 3, 'Marlon Brando', 'United States', '1924-04-03', '2004-07-01', NULL)': 1\n",
      "Number of rows affected by statement 'INSERT INTO movies.tb_person (person_id, person_name, person_country, person_dob, person_dod, person_parent_id) VALUES ( 4, 'Robert Duvall', 'United States', '1931-01-05', NULL, NULL)': 1\n",
      "Number of rows affected by statement 'INSERT INTO movies.tb_person (person_id, person_name, person_country, person_dob, person_dod, person_parent_id) VALUES ( 5, 'Martin Sheen', 'United States', '1940-08-03', NULL, NULL)': 1\n",
      "Number of rows affected by statement 'INSERT INTO movies.tb_person (person_id, person_name, person_country, person_dob, person_dod, person_parent_id) VALUES ( 6, 'Harrison Ford', 'United States', '1942-07-13', NULL, NULL)': 1\n",
      "Number of rows affected by statement 'INSERT INTO movies.tb_person (person_id, person_name, person_country, person_dob, person_dod, person_parent_id) VALUES ( 7, 'George Lucas', 'United States', '1944-05-14', NULL, NULL)': 1\n",
      "Number of rows affected by statement 'INSERT INTO movies.tb_person (person_id, person_name, person_country, person_dob, person_dod, person_parent_id) VALUES ( 8, 'Gary Kurtz', 'United States', '1940-07-27', NULL, NULL)': 1\n",
      "Number of rows affected by statement 'INSERT INTO movies.tb_person (person_id, person_name, person_country, person_dob, person_dod, person_parent_id) VALUES ( 9, 'Steven Spielberg', 'United States', '1946-12-18', NULL, NULL)': 1\n",
      "Number of rows affected by statement 'INSERT INTO movies.tb_person (person_id, person_name, person_country, person_dob, person_dod, person_parent_id) VALUES (10, 'John Williams', 'United States', '1928-08-08', NULL, NULL)': 1\n",
      "Number of rows affected by statement 'INSERT INTO movies.tb_person (person_id, person_name, person_country, person_dob, person_dod, person_parent_id) VALUES (11, 'Tom Hanks', 'United States', '1956-07-09', NULL, NULL)': 1\n",
      "Number of rows affected by statement 'INSERT INTO movies.tb_person (person_id, person_name, person_country, person_dob, person_dod, person_parent_id) VALUES (12, 'Catherine Zeta-Jones', 'Wales', '1969-09-25', NULL, NULL)': 1\n",
      "Number of rows affected by statement 'INSERT INTO movies.tb_person (person_id, person_name, person_country, person_dob, person_dod, person_parent_id) VALUES (13, 'Alfred Joseph Hitchcock', 'United Kingdom', '1899-08-13', '1980-04-29', NULL)': 1\n",
      "Number of rows affected by statement 'INSERT INTO movies.tb_person (person_id, person_name, person_country, person_dob, person_dod, person_parent_id) VALUES (14, 'Anthony Perkins', 'United States', '1934-04-04', '1992-09-08', NULL)': 1\n",
      "Number of rows affected by statement 'INSERT INTO movies.tb_person (person_id, person_name, person_country, person_dob, person_dod, person_parent_id) VALUES (15, 'Vera Miles', 'United States', '1929-08-23', NULL, NULL)': 1\n",
      "Number of rows affected by statement 'INSERT INTO movies.tb_person (person_id, person_name, person_country, person_dob, person_dod, person_parent_id) VALUES (16, 'Emilio Martinez Lazaro', 'Spain', '1956-09-09', NULL, NULL)': 1\n",
      "Number of rows affected by statement 'INSERT INTO movies.tb_person (person_id, person_name, person_country, person_dob, person_dod, person_parent_id) VALUES (17, 'Dani Rovira', 'Spain', '1984-07-01', NULL, NULL)': 1\n",
      "Number of rows affected by statement 'INSERT INTO movies.tb_person (person_id, person_name, person_country, person_dob, person_dod, person_parent_id) VALUES (18, 'Clara Lago', 'Spain', '1986-04-17', NULL, NULL)': 1\n",
      "Number of rows affected by statement 'INSERT INTO movies.tb_person (person_id, person_name, person_country, person_dob, person_dod, person_parent_id) VALUES (19, 'Carmen Machi', 'Spain', '1964-08-09', NULL, NULL)': 1\n",
      "Number of rows affected by statement 'INSERT INTO movies.tb_person (person_id, person_name, person_country, person_dob, person_dod, person_parent_id) VALUES (20, 'Karra Elejalde', 'Spain', '1960-03-06', NULL, NULL)': 1\n",
      "Number of rows affected by statement 'INSERT INTO movies.tb_person (person_id, person_name, person_country, person_dob, person_dod, person_parent_id) VALUES (21, 'Daniel Sanchez Arevalo', 'Spain', '1970-06-08', NULL, NULL)': 1\n",
      "Number of rows affected by statement 'INSERT INTO movies.tb_person (person_id, person_name, person_country, person_dob, person_dod, person_parent_id) VALUES (22, 'Quim Gutierrez', 'Spain', '1981-03-27', NULL, NULL)': 1\n",
      "Number of rows affected by statement 'INSERT INTO movies.tb_person (person_id, person_name, person_country, person_dob, person_dod, person_parent_id) VALUES (23, 'Robert Alamo', 'Spain', '1970-05-06', NULL, NULL)': 1\n",
      "Number of rows affected by statement 'INSERT INTO movies.tb_person (person_id, person_name, person_country, person_dob, person_dod, person_parent_id) VALUES (24, 'Hector Colome', 'Spain', '1944-10-25', '2015-02-28', NULL)': 1\n",
      "Number of rows affected by statement 'INSERT INTO movies.tb_person (person_id, person_name, person_country, person_dob, person_dod, person_parent_id) VALUES (25, 'Veronica Echegui', 'Spain', '1983-03-14', NULL, NULL)': 1\n",
      "Number of rows affected by statement 'INSERT INTO movies.tb_person (person_id, person_name, person_country, person_dob, person_dod, person_parent_id) VALUES (26, 'Patrick Criado', 'Spain', '1995-09-23', NULL, NULL)': 1\n",
      "Number of rows affected by statement 'INSERT INTO movies.tb_person (person_id, person_name, person_country, person_dob, person_dod, person_parent_id) VALUES (27, 'Sean Connery', 'Scotland', '1930-07-08', NULL, NULL)': 1\n",
      "Number of rows affected by statement 'INSERT INTO movies.tb_person (person_id, person_name, person_country, person_dob, person_dod, person_parent_id) VALUES (28, 'Mel Gibson', 'Australia', '1950-08-09', NULL, NULL)': 1\n",
      "Number of rows affected by statement 'INSERT INTO movies.tb_person (person_id, person_name, person_country, person_dob, person_dod, person_parent_id) VALUES (29, 'Morgan Freeman', 'United States', '1935-10-01', NULL, NULL)': 1\n",
      "Number of rows affected by statement 'INSERT INTO movies.tb_person (person_id, person_name, person_country, person_dob, person_dod, person_parent_id) VALUES (30, 'Tim Robbins', 'United States', '1949-06-07', NULL, NULL)': 1\n",
      "Number of rows affected by statement 'INSERT INTO movies.tb_person (person_id, person_name, person_country, person_dob, person_dod, person_parent_id) VALUES (41, 'Charlie Sheen', 'United States', '1965-09-03', NULL, 5)': 1\n",
      "Number of rows affected by statement 'INSERT INTO movies.tb_person (person_id, person_name, person_country, person_dob, person_dod, person_parent_id) VALUES (42, 'Emilio Estevez', 'United States', '1962-05-12', NULL, 5)': 1\n",
      "Number of rows affected by statement 'INSERT INTO movies.tb_person (person_id, person_name, person_country, person_dob, person_dod, person_parent_id) VALUES (43, 'Ramón Estevez', 'United States', '1963-08-07', NULL, 5)': 1\n",
      "Number of rows affected by statement 'INSERT INTO movies.tb_person (person_id, person_name, person_country, person_dob, person_dod, person_parent_id) VALUES (44, 'Reneé Estevez', 'United States', '1967-04-02', NULL, 5)': 1\n",
      "Number of rows affected by statement 'INSERT INTO movies.tb_person (person_id, person_name, person_country, person_dob, person_dod, person_parent_id) VALUES (45, 'Paula Speert Sheen', 'United States', '1986-01-06', NULL,41)': 1\n",
      "Number of rows affected by statement 'INSERT INTO movies.tb_person (person_id, person_name, person_country, person_dob, person_dod, person_parent_id) VALUES (46, 'Bob Sheen', 'United States', '2009-05-01', NULL,41)': 1\n",
      "Number of rows affected by statement 'INSERT INTO movies.tb_person (person_id, person_name, person_country, person_dob, person_dod, person_parent_id) VALUES (47, 'Max Sheen', 'United States', '2009-05-01', NULL,41)': 1\n",
      "Number of rows affected by statement 'INSERT INTO movies.tb_person (person_id, person_name, person_country, person_dob, person_dod, person_parent_id) VALUES (48, 'Sam Sheen', 'United States', '2004-03-09', NULL,41)': 1\n",
      "Number of rows affected by statement 'INSERT INTO movies.tb_person (person_id, person_name, person_country, person_dob, person_dod, person_parent_id) VALUES (49, 'Lola Sheen', 'United States', '2005-06-01', NULL,41)': 1\n",
      "Number of rows affected by statement 'INSERT INTO movies.tb_person (person_id, person_name, person_country, person_dob, person_dod, person_parent_id) VALUES (50, 'Paula Jones-Sheen', 'United States', '2003-07-06', NULL,45)': 1\n",
      "Number of rows affected by statement 'INSERT INTO movies.tb_person (person_id, person_name, person_country, person_dob, person_dod, person_parent_id) VALUES (51, 'Paloma Rae Estevez', 'United States', '1986-02-15', NULL,42)': 1\n",
      "Number of rows affected by statement 'INSERT INTO movies.tb_person (person_id, person_name, person_country, person_dob, person_dod, person_parent_id) VALUES (52, 'Taylor Levi Estevez', 'United States', '1984-06-22', NULL,42)': 1\n"
     ]
    }
   ],
   "source": [
    "for result in cursor.execute(Datatb_person, multi=True):\n",
    "  if result.with_rows:\n",
    "    print(\"Rows produced by statement '{}':\".format(result.statement))\n",
    "    print(result.fetchall())\n",
    "  else:\n",
    "    print(\"Number of rows affected by statement '{}': {}\".format(result.statement, result.rowcount))\n",
    "\n",
    "\n",
    "mydb.commit()"
   ]
  },
  {
   "cell_type": "code",
   "execution_count": 34,
   "metadata": {},
   "outputs": [],
   "source": [
    "Datatb_movie_person = \"\"\"\n",
    "INSERT INTO movies.tb_movie_person (movie_id, person_id, role_id, movie_award_ind) VALUES ( 1, 1, 2, 'Y');\n",
    "INSERT INTO movies.tb_movie_person (movie_id, person_id, role_id, movie_award_ind) VALUES ( 1, 1, 3, 'N');\n",
    "INSERT INTO movies.tb_movie_person (movie_id, person_id, role_id, movie_award_ind) VALUES ( 1, 1, 5, 'N');\n",
    "INSERT INTO movies.tb_movie_person (movie_id, person_id, role_id, movie_award_ind) VALUES ( 1, 2, 5, 'N');\n",
    "INSERT INTO movies.tb_movie_person (movie_id, person_id, role_id, movie_award_ind) VALUES ( 1, 3, 1, 'N');\n",
    "INSERT INTO movies.tb_movie_person (movie_id, person_id, role_id, movie_award_ind) VALUES ( 1, 4, 1, 'N');\n",
    "INSERT INTO movies.tb_movie_person (movie_id, person_id, role_id, movie_award_ind) VALUES ( 1, 5, 1, 'Y');\n",
    "INSERT INTO movies.tb_movie_person (movie_id, person_id, role_id, movie_award_ind) VALUES ( 1,41, 1, 'N');\n",
    "INSERT INTO movies.tb_movie_person (movie_id, person_id, role_id, movie_award_ind) VALUES ( 1, 6, 1, 'N');\n",
    "INSERT INTO movies.tb_movie_person (movie_id, person_id, role_id, movie_award_ind) VALUES ( 2, 6, 1, 'N');\n",
    "INSERT INTO movies.tb_movie_person (movie_id, person_id, role_id, movie_award_ind) VALUES ( 2, 7, 2, 'Y');\n",
    "INSERT INTO movies.tb_movie_person (movie_id, person_id, role_id, movie_award_ind) VALUES ( 2, 8, 3, 'N');\n",
    "INSERT INTO movies.tb_movie_person (movie_id, person_id, role_id, movie_award_ind) VALUES ( 3, 6, 1, 'N');\n",
    "INSERT INTO movies.tb_movie_person (movie_id, person_id, role_id, movie_award_ind) VALUES ( 3, 7, 4, 'N');\n",
    "INSERT INTO movies.tb_movie_person (movie_id, person_id, role_id, movie_award_ind) VALUES ( 3, 9, 2, 'N');\n",
    "INSERT INTO movies.tb_movie_person (movie_id, person_id, role_id, movie_award_ind) VALUES ( 3,10, 5, 'N');\n",
    "INSERT INTO movies.tb_movie_person (movie_id, person_id, role_id, movie_award_ind) VALUES ( 4, 9, 2, 'N');\n",
    "INSERT INTO movies.tb_movie_person (movie_id, person_id, role_id, movie_award_ind) VALUES ( 4, 9, 3, 'N');\n",
    "INSERT INTO movies.tb_movie_person (movie_id, person_id, role_id, movie_award_ind) VALUES ( 4,11, 1, 'N');\n",
    "INSERT INTO movies.tb_movie_person (movie_id, person_id, role_id, movie_award_ind) VALUES ( 4,12, 1, 'N');\n",
    "INSERT INTO movies.tb_movie_person (movie_id, person_id, role_id, movie_award_ind) VALUES ( 5, 9, 2, 'N');\n",
    "INSERT INTO movies.tb_movie_person (movie_id, person_id, role_id, movie_award_ind) VALUES ( 6, 9, 2, 'N');\n",
    "INSERT INTO movies.tb_movie_person (movie_id, person_id, role_id, movie_award_ind) VALUES ( 7,13, 1, 'N');\n",
    "INSERT INTO movies.tb_movie_person (movie_id, person_id, role_id, movie_award_ind) VALUES ( 7,13, 2, 'N');\n",
    "INSERT INTO movies.tb_movie_person (movie_id, person_id, role_id, movie_award_ind) VALUES ( 7,13, 3, 'N');\n",
    "INSERT INTO movies.tb_movie_person (movie_id, person_id, role_id, movie_award_ind) VALUES ( 7,14, 2, 'N');\n",
    "INSERT INTO movies.tb_movie_person (movie_id, person_id, role_id, movie_award_ind) VALUES ( 7,15, 2, 'N');\n",
    "INSERT INTO movies.tb_movie_person (movie_id, person_id, role_id, movie_award_ind) VALUES ( 3, 7, 1, 'N');\n",
    "INSERT INTO movies.tb_movie_person (movie_id, person_id, role_id, movie_award_ind) VALUES ( 8,16, 2, 'N');\n",
    "INSERT INTO movies.tb_movie_person (movie_id, person_id, role_id, movie_award_ind) VALUES ( 9,16, 2, 'N');\n",
    "INSERT INTO movies.tb_movie_person (movie_id, person_id, role_id, movie_award_ind) VALUES ( 8,17, 1, 'N');\n",
    "INSERT INTO movies.tb_movie_person (movie_id, person_id, role_id, movie_award_ind) VALUES ( 8,18, 1, 'N');\n",
    "INSERT INTO movies.tb_movie_person (movie_id, person_id, role_id, movie_award_ind) VALUES ( 8,19, 1, 'N');\n",
    "INSERT INTO movies.tb_movie_person (movie_id, person_id, role_id, movie_award_ind) VALUES ( 8,20, 1, 'N');\n",
    "INSERT INTO movies.tb_movie_person (movie_id, person_id, role_id, movie_award_ind) VALUES ( 9,17, 1, 'N');\n",
    "INSERT INTO movies.tb_movie_person (movie_id, person_id, role_id, movie_award_ind) VALUES ( 9,18, 1, 'N');\n",
    "INSERT INTO movies.tb_movie_person (movie_id, person_id, role_id, movie_award_ind) VALUES ( 9,19, 1, 'N');\n",
    "INSERT INTO movies.tb_movie_person (movie_id, person_id, role_id, movie_award_ind) VALUES ( 9,20, 1, 'N');\n",
    "INSERT INTO movies.tb_movie_person (movie_id, person_id, role_id, movie_award_ind) VALUES (10,16, 2, 'N');\n",
    "INSERT INTO movies.tb_movie_person (movie_id, person_id, role_id, movie_award_ind) VALUES (11,21, 2, 'N');\n",
    "INSERT INTO movies.tb_movie_person (movie_id, person_id, role_id, movie_award_ind) VALUES (11,21, 4, 'N');\n",
    "INSERT INTO movies.tb_movie_person (movie_id, person_id, role_id, movie_award_ind) VALUES (11,22, 1, 'N');\n",
    "INSERT INTO movies.tb_movie_person (movie_id, person_id, role_id, movie_award_ind) VALUES (11,23, 1, 'N');\n",
    "INSERT INTO movies.tb_movie_person (movie_id, person_id, role_id, movie_award_ind) VALUES (11,24, 1, 'N');\n",
    "INSERT INTO movies.tb_movie_person (movie_id, person_id, role_id, movie_award_ind) VALUES (11,25, 1, 'N');\n",
    "INSERT INTO movies.tb_movie_person (movie_id, person_id, role_id, movie_award_ind) VALUES (11,26, 1, 'N');\n",
    "INSERT INTO movies.tb_movie_person (movie_id, person_id, role_id, movie_award_ind) VALUES (13,28, 1, 'Y');\n",
    "INSERT INTO movies.tb_movie_person (movie_id, person_id, role_id, movie_award_ind) VALUES (13,28, 2, 'N');\n",
    "INSERT INTO movies.tb_movie_person (movie_id, person_id, role_id, movie_award_ind) VALUES (14,29, 1, 'N');\n",
    "INSERT INTO movies.tb_movie_person (movie_id, person_id, role_id, movie_award_ind) VALUES (14,30, 1, 'N');\n",
    "\"\"\""
   ]
  },
  {
   "cell_type": "code",
   "execution_count": 35,
   "metadata": {},
   "outputs": [
    {
     "name": "stdout",
     "output_type": "stream",
     "text": [
      "Number of rows affected by statement 'INSERT INTO movies.tb_movie_person (movie_id, person_id, role_id, movie_award_ind) VALUES ( 1, 1, 2, 'Y')': 1\n",
      "Number of rows affected by statement 'INSERT INTO movies.tb_movie_person (movie_id, person_id, role_id, movie_award_ind) VALUES ( 1, 1, 3, 'N')': 1\n",
      "Number of rows affected by statement 'INSERT INTO movies.tb_movie_person (movie_id, person_id, role_id, movie_award_ind) VALUES ( 1, 1, 5, 'N')': 1\n",
      "Number of rows affected by statement 'INSERT INTO movies.tb_movie_person (movie_id, person_id, role_id, movie_award_ind) VALUES ( 1, 2, 5, 'N')': 1\n",
      "Number of rows affected by statement 'INSERT INTO movies.tb_movie_person (movie_id, person_id, role_id, movie_award_ind) VALUES ( 1, 3, 1, 'N')': 1\n",
      "Number of rows affected by statement 'INSERT INTO movies.tb_movie_person (movie_id, person_id, role_id, movie_award_ind) VALUES ( 1, 4, 1, 'N')': 1\n",
      "Number of rows affected by statement 'INSERT INTO movies.tb_movie_person (movie_id, person_id, role_id, movie_award_ind) VALUES ( 1, 5, 1, 'Y')': 1\n",
      "Number of rows affected by statement 'INSERT INTO movies.tb_movie_person (movie_id, person_id, role_id, movie_award_ind) VALUES ( 1,41, 1, 'N')': 1\n",
      "Number of rows affected by statement 'INSERT INTO movies.tb_movie_person (movie_id, person_id, role_id, movie_award_ind) VALUES ( 1, 6, 1, 'N')': 1\n",
      "Number of rows affected by statement 'INSERT INTO movies.tb_movie_person (movie_id, person_id, role_id, movie_award_ind) VALUES ( 2, 6, 1, 'N')': 1\n",
      "Number of rows affected by statement 'INSERT INTO movies.tb_movie_person (movie_id, person_id, role_id, movie_award_ind) VALUES ( 2, 7, 2, 'Y')': 1\n",
      "Number of rows affected by statement 'INSERT INTO movies.tb_movie_person (movie_id, person_id, role_id, movie_award_ind) VALUES ( 2, 8, 3, 'N')': 1\n",
      "Number of rows affected by statement 'INSERT INTO movies.tb_movie_person (movie_id, person_id, role_id, movie_award_ind) VALUES ( 3, 6, 1, 'N')': 1\n",
      "Number of rows affected by statement 'INSERT INTO movies.tb_movie_person (movie_id, person_id, role_id, movie_award_ind) VALUES ( 3, 7, 4, 'N')': 1\n",
      "Number of rows affected by statement 'INSERT INTO movies.tb_movie_person (movie_id, person_id, role_id, movie_award_ind) VALUES ( 3, 9, 2, 'N')': 1\n",
      "Number of rows affected by statement 'INSERT INTO movies.tb_movie_person (movie_id, person_id, role_id, movie_award_ind) VALUES ( 3,10, 5, 'N')': 1\n",
      "Number of rows affected by statement 'INSERT INTO movies.tb_movie_person (movie_id, person_id, role_id, movie_award_ind) VALUES ( 4, 9, 2, 'N')': 1\n",
      "Number of rows affected by statement 'INSERT INTO movies.tb_movie_person (movie_id, person_id, role_id, movie_award_ind) VALUES ( 4, 9, 3, 'N')': 1\n",
      "Number of rows affected by statement 'INSERT INTO movies.tb_movie_person (movie_id, person_id, role_id, movie_award_ind) VALUES ( 4,11, 1, 'N')': 1\n",
      "Number of rows affected by statement 'INSERT INTO movies.tb_movie_person (movie_id, person_id, role_id, movie_award_ind) VALUES ( 4,12, 1, 'N')': 1\n",
      "Number of rows affected by statement 'INSERT INTO movies.tb_movie_person (movie_id, person_id, role_id, movie_award_ind) VALUES ( 5, 9, 2, 'N')': 1\n",
      "Number of rows affected by statement 'INSERT INTO movies.tb_movie_person (movie_id, person_id, role_id, movie_award_ind) VALUES ( 6, 9, 2, 'N')': 1\n",
      "Number of rows affected by statement 'INSERT INTO movies.tb_movie_person (movie_id, person_id, role_id, movie_award_ind) VALUES ( 7,13, 1, 'N')': 1\n",
      "Number of rows affected by statement 'INSERT INTO movies.tb_movie_person (movie_id, person_id, role_id, movie_award_ind) VALUES ( 7,13, 2, 'N')': 1\n",
      "Number of rows affected by statement 'INSERT INTO movies.tb_movie_person (movie_id, person_id, role_id, movie_award_ind) VALUES ( 7,13, 3, 'N')': 1\n",
      "Number of rows affected by statement 'INSERT INTO movies.tb_movie_person (movie_id, person_id, role_id, movie_award_ind) VALUES ( 7,14, 2, 'N')': 1\n",
      "Number of rows affected by statement 'INSERT INTO movies.tb_movie_person (movie_id, person_id, role_id, movie_award_ind) VALUES ( 7,15, 2, 'N')': 1\n",
      "Number of rows affected by statement 'INSERT INTO movies.tb_movie_person (movie_id, person_id, role_id, movie_award_ind) VALUES ( 3, 7, 1, 'N')': 1\n",
      "Number of rows affected by statement 'INSERT INTO movies.tb_movie_person (movie_id, person_id, role_id, movie_award_ind) VALUES ( 8,16, 2, 'N')': 1\n",
      "Number of rows affected by statement 'INSERT INTO movies.tb_movie_person (movie_id, person_id, role_id, movie_award_ind) VALUES ( 9,16, 2, 'N')': 1\n",
      "Number of rows affected by statement 'INSERT INTO movies.tb_movie_person (movie_id, person_id, role_id, movie_award_ind) VALUES ( 8,17, 1, 'N')': 1\n",
      "Number of rows affected by statement 'INSERT INTO movies.tb_movie_person (movie_id, person_id, role_id, movie_award_ind) VALUES ( 8,18, 1, 'N')': 1\n",
      "Number of rows affected by statement 'INSERT INTO movies.tb_movie_person (movie_id, person_id, role_id, movie_award_ind) VALUES ( 8,19, 1, 'N')': 1\n",
      "Number of rows affected by statement 'INSERT INTO movies.tb_movie_person (movie_id, person_id, role_id, movie_award_ind) VALUES ( 8,20, 1, 'N')': 1\n",
      "Number of rows affected by statement 'INSERT INTO movies.tb_movie_person (movie_id, person_id, role_id, movie_award_ind) VALUES ( 9,17, 1, 'N')': 1\n",
      "Number of rows affected by statement 'INSERT INTO movies.tb_movie_person (movie_id, person_id, role_id, movie_award_ind) VALUES ( 9,18, 1, 'N')': 1\n",
      "Number of rows affected by statement 'INSERT INTO movies.tb_movie_person (movie_id, person_id, role_id, movie_award_ind) VALUES ( 9,19, 1, 'N')': 1\n",
      "Number of rows affected by statement 'INSERT INTO movies.tb_movie_person (movie_id, person_id, role_id, movie_award_ind) VALUES ( 9,20, 1, 'N')': 1\n",
      "Number of rows affected by statement 'INSERT INTO movies.tb_movie_person (movie_id, person_id, role_id, movie_award_ind) VALUES (10,16, 2, 'N')': 1\n",
      "Number of rows affected by statement 'INSERT INTO movies.tb_movie_person (movie_id, person_id, role_id, movie_award_ind) VALUES (11,21, 2, 'N')': 1\n",
      "Number of rows affected by statement 'INSERT INTO movies.tb_movie_person (movie_id, person_id, role_id, movie_award_ind) VALUES (11,21, 4, 'N')': 1\n",
      "Number of rows affected by statement 'INSERT INTO movies.tb_movie_person (movie_id, person_id, role_id, movie_award_ind) VALUES (11,22, 1, 'N')': 1\n",
      "Number of rows affected by statement 'INSERT INTO movies.tb_movie_person (movie_id, person_id, role_id, movie_award_ind) VALUES (11,23, 1, 'N')': 1\n",
      "Number of rows affected by statement 'INSERT INTO movies.tb_movie_person (movie_id, person_id, role_id, movie_award_ind) VALUES (11,24, 1, 'N')': 1\n",
      "Number of rows affected by statement 'INSERT INTO movies.tb_movie_person (movie_id, person_id, role_id, movie_award_ind) VALUES (11,25, 1, 'N')': 1\n",
      "Number of rows affected by statement 'INSERT INTO movies.tb_movie_person (movie_id, person_id, role_id, movie_award_ind) VALUES (11,26, 1, 'N')': 1\n",
      "Number of rows affected by statement 'INSERT INTO movies.tb_movie_person (movie_id, person_id, role_id, movie_award_ind) VALUES (13,28, 1, 'Y')': 1\n",
      "Number of rows affected by statement 'INSERT INTO movies.tb_movie_person (movie_id, person_id, role_id, movie_award_ind) VALUES (13,28, 2, 'N')': 1\n",
      "Number of rows affected by statement 'INSERT INTO movies.tb_movie_person (movie_id, person_id, role_id, movie_award_ind) VALUES (14,29, 1, 'N')': 1\n",
      "Number of rows affected by statement 'INSERT INTO movies.tb_movie_person (movie_id, person_id, role_id, movie_award_ind) VALUES (14,30, 1, 'N')': 1\n"
     ]
    }
   ],
   "source": [
    "for result in cursor.execute(Datatb_movie_person, multi=True):\n",
    "  if result.with_rows:\n",
    "    print(\"Rows produced by statement '{}':\".format(result.statement))\n",
    "    print(result.fetchall())\n",
    "  else:\n",
    "    print(\"Number of rows affected by statement '{}': {}\".format(result.statement, result.rowcount))\n",
    "\n",
    "\n",
    "mydb.commit()"
   ]
  },
  {
   "attachments": {},
   "cell_type": "markdown",
   "metadata": {},
   "source": [
    "L'esquema creat té diverses taules que s'utilitzen per emmagatzemar informació relacionada amb pel·lícules, gèneres, persones i rols. A continuació, t'explico les principals característiques de l'esquema i les diferents taules i variables existents:\n",
    "\n",
    "1. Taula \"tb_genre\":\n",
    "   - Característiques:\n",
    "     - Nom de la taula: tb_genre\n",
    "     - Columnes: genre_id, genre_name, created_by_user, created_date, updated_date\n",
    "     - Restriccions:\n",
    "       - Clau primària (pk_genre) a la columna genre_id\n",
    "\n",
    "   Aquesta taula s'utilitza per emmagatzemar informació sobre els gèneres de les pel·lícules. Cada gènere té un identificador únic (genre_id) i un nom (genre_name). També s'enregistra qui ha creat el registre (created_by_user), així com les dates de creació (created_date) i actualització (updated_date) del registre.\n",
    "\n",
    "2. Taula \"tb_movie\":\n",
    "   - Característiques:\n",
    "     - Nom de la taula: tb_movie\n",
    "     - Columnes: movie_id, movie_title, movie_date, movie_format, movie_genre_id, created_by_user, created_date, updated_date\n",
    "     - Restriccions:\n",
    "       - Clau primària (pk_movie) a la columna movie_id\n",
    "       - Clau externa (fk_movie_genre) a la columna movie_genre_id que fa referència a la taula tb_genre (columna genre_id)\n",
    "\n",
    "   Aquesta taula s'utilitza per emmagatzemar informació sobre les pel·lícules. Cada pel·lícula té un identificador únic (movie_id), títol (movie_title), data de publicació (movie_date), format (movie_format) i gènere (movie_genre_id). El camp created_by_user enregistra qui ha creat el registre, i les dates created_date i updated_date indiquen quan es va crear i actualitzar el registre, respectivament.\n",
    "\n",
    "3. Taula \"tb_role\":\n",
    "   - Característiques:\n",
    "     - Nom de la taula: tb_role\n",
    "     - Columnes: role_id, role_name, created_by_user, created_date, updated_date\n",
    "     - Restriccions:\n",
    "       - Clau primària (pk_role) a la columna role_id\n",
    "\n",
    "   Aquesta taula emmagatzema informació sobre els rols a les pel·lícules. Cada rol té un identificador únic (role_id) i un nom (role_name). Com en les altres taules, s'enregistra qui ha creat el registre (created_by_user), així com les dates de creació (created_date) i actualització (updated_date).\n",
    "\n",
    "4. Taula \"tb_person\":\n",
    "   - Característiques:\n",
    "     - Nom de la taula: tb_person\n",
    "     - Columnes: person_id, person_name, person_country, person_dob, person_dod, person_parent_id, created_by_user, created_date, updated_date\n",
    "     - Restriccions:\n",
    "       - Clau primària (pk_person) a la columna person_id\n",
    "- Clau externa (fk_person_parent) a la columna person_parent_id que fa referència a la taula tb_person (columna person_id)\n",
    "\n",
    "Aquesta taula s'utilitza per emmagatzemar informació sobre les persones involucrades en les pel·lícules. Cada persona té un identificador únic (person_id), nom (person_name), país (person_country), data de naixement (person_dob) i data de defunció (person_dod). A més, hi ha una columna person_parent_id que estableix una relació jeràrquica entre les persones, on una persona pot tenir un pare/mare representat per un altre registre a la mateixa taula. Al igual que en les altres taules, s'enregistra qui ha creat el registre (created_by_user), així com les dates de creació (created_date) i actualització (updated_date) del registre.\n",
    "\n",
    "--------------------------------------------------------------------\n",
    "\n",
    "El esquema creado tiene varias tablas que se utilizan para almacenar información relacionada con películas, géneros, personas y roles. A continuación, te mostraré las principales características del esquema y explicaré las diferentes tablas y variables existentes:\n",
    "\n",
    "1. Tabla \"tb_genre\":\n",
    "   - Características:\n",
    "     - Nombre de la tabla: tb_genre\n",
    "     - Columnas: genre_id, genre_name, created_by_user, created_date, updated_date\n",
    "     - Restricciones:\n",
    "       - Clave primaria (pk_genre) en la columna genre_id\n",
    "\n",
    "   Esta tabla se utiliza para almacenar información sobre los géneros de las películas. Cada género tiene un identificador único (genre_id) y un nombre (genre_name). También se registra quién creó el registro (created_by_user) y las fechas de creación (created_date) y actualización (updated_date) del registro.\n",
    "\n",
    "2. Tabla \"tb_movie\":\n",
    "   - Características:\n",
    "     - Nombre de la tabla: tb_movie\n",
    "     - Columnas: movie_id, movie_title, movie_date, movie_format, movie_genre_id, created_by_user, created_date, updated_date\n",
    "     - Restricciones:\n",
    "       - Clave primaria (pk_movie) en la columna movie_id\n",
    "       - Clave externa (fk_movie_genre) en la columna movie_genre_id que referencia a la tabla tb_genre (columna genre_id)\n",
    "\n",
    "   Esta tabla se utiliza para almacenar información sobre las películas. Cada película tiene un identificador único (movie_id), título (movie_title), fecha de lanzamiento (movie_date), formato (movie_format) y género (movie_genre_id). El campo created_by_user registra quién creó el registro, y las fechas created_date y updated_date indican cuándo se creó y actualizó el registro respectivamente.\n",
    "\n",
    "3. Tabla \"tb_role\":\n",
    "   - Características:\n",
    "     - Nombre de la tabla: tb_role\n",
    "     - Columnas: role_id, role_name, created_by_user, created_date, updated_date\n",
    "     - Restricciones:\n",
    "       - Clave primaria (pk_role) en la columna role_id\n",
    "\n",
    "   Esta tabla almacena información sobre los roles en las películas. Cada rol tiene un identificador único (role_id) y un nombre (role_name). Al igual que en las otras tablas, se registra quién creó el registro (created_by_user) y las fechas de creación (created_date) y actualización (updated_date).\n",
    "\n",
    "4. Tabla \"tb_person\":\n",
    "   - Características:\n",
    "     - Nombre de la tabla: tb_person\n",
    "     - Columnas: person_id, person_name, person_country, person_dob, person_dod, person_parent_id, created_by_user, created_date, updated_date\n",
    "     - Restricciones:\n",
    "       - Clave primaria (pk_person) en la columna person_id\n",
    "       - Clave externa (fk_person_parent) en la columna person_parent_id que referencia a la tabla tb_person (columna person_id)\n",
    "\n",
    "   Esta tabla se utiliza para almacenar información sobre las personas involucradas en las películas. Cada persona tiene un identificador único (person_id), nombre (person_name), país (person_country), fecha de nacimiento (person_dob) y fecha de fallecimiento (person_dod). Además, hay una columna person_parent_id que establece una relación jerárquica entre las personas, donde una persona puede tener un padre/madre representado por otro registro en la misma tabla. Al igual que en las otras, se registra quién creó el registro (created_by_user), así como las fechas de creación (created_date) y actualización (updated_date) del registro.\n",
    "\n",
    "   ------------------------------------------------------------\n",
    "\n",
    "   The created schema has several tables that are used to store information related to movies, genres, people, and roles. I will now show you the main features of the schema and explain the different tables and variables present:\n",
    "\n",
    "1. Table \"tb_genre\":\n",
    "   - Features:\n",
    "     - Table name: tb_genre\n",
    "     - Columns: genre_id, genre_name, created_by_user, created_date, updated_date\n",
    "     - Constraints:\n",
    "       - Primary key (pk_genre) on the genre_id column\n",
    "\n",
    "   This table is used to store information about movie genres. Each genre has a unique identifier (genre_id) and a name (genre_name). The creator of the record is also recorded (created_by_user), along with the creation date (created_date) and update date (updated_date) of the record.\n",
    "\n",
    "2. Table \"tb_movie\":\n",
    "   - Features:\n",
    "     - Table name: tb_movie\n",
    "     - Columns: movie_id, movie_title, movie_date, movie_format, movie_genre_id, created_by_user, created_date, updated_date\n",
    "     - Constraints:\n",
    "       - Primary key (pk_movie) on the movie_id column\n",
    "       - Foreign key (fk_movie_genre) on the movie_genre_id column referencing the tb_genre table (genre_id column)\n",
    "\n",
    "   This table is used to store information about movies. Each movie has a unique identifier (movie_id), title (movie_title), release date (movie_date), format (movie_format), and genre (movie_genre_id). The created_by_user field records who created the record, and the created_date and updated_date fields indicate when the record was created and updated, respectively.\n",
    "\n",
    "3. Table \"tb_role\":\n",
    "   - Features:\n",
    "     - Table name: tb_role\n",
    "     - Columns: role_id, role_name, created_by_user, created_date, updated_date\n",
    "     - Constraints:\n",
    "       - Primary key (pk_role) on the role_id column\n",
    "\n",
    "   This table stores information about roles in movies. Each role has a unique identifier (role_id) and a name (role_name). Similar to the other tables, the creator of the record is recorded (created_by_user), and the creation date (created_date) and update date (updated_date) are also stored.\n",
    "\n",
    "4. Table \"tb_person\":\n",
    "   - Features:\n",
    "     - Table name: tb_person\n",
    "     - Columns: person_id, person_name, person_country, person_dob, person_dod, person_parent_id, created_by_user, created_date, updated_date\n",
    "     - Constraints:\n",
    "       - Primary key (pk_person) on the person_id column\n",
    "       - Foreign key (fk_person_parent) on the person_parent_id column referencing the tb_person table (person_id column)\n",
    "\n",
    "   This table is used to store information about people involved in movies. Each person has a unique identifier (person_id), name (person_name), country (person_country), date of birth (person_dob), and date of death (person_dod). Additionally, there is a person_parent_id column that establishes a hierarchical relationship between people, where a person can have a parent represented by another record in the same table. Similar to the other tables, the creator of the record is recorded (created_by_user), and the creation date (created_date) and update date (updated_date) are also stored."
   ]
  },
  {
   "attachments": {},
   "cell_type": "markdown",
   "metadata": {},
   "source": [
    "![D](Diagram.png 'Diagram')"
   ]
  },
  {
   "attachments": {},
   "cell_type": "markdown",
   "metadata": {},
   "source": [
    "\n",
    "- Exercici 2\n",
    "\n",
    "Realitza la següent consulta sobre la base de dades acabada de crear: \n",
    "\n",
    "Has d'obtenir el nom, el país i la data de naixement d'aquelles persones per les quals no consti una data de mort i ordenar les dades de la persona més vella a la persona més jove.\n",
    "\n",
    "- Ejercicio 2\n",
    "\n",
    "Realiza la siguiente consulta sobre la recién creada base de datos:\n",
    "\n",
    "Tienes que obtener el nombre, el país y la fecha de nacimiento de aquellas personas por las que no conste una fecha de muerte y ordenar los datos de la persona más vieja a la persona más joven.\n",
    "\n",
    "- Exercise 2\n",
    "\n",
    "Run the following query on the newly created database:\n",
    "\n",
    "You must obtain the name, country and date of birth of those persons for whom there is no date of death and order the data from the oldest person to the youngest person.\n",
    "\n"
   ]
  },
  {
   "cell_type": "code",
   "execution_count": 41,
   "metadata": {},
   "outputs": [],
   "source": [
    "ex2 = \"\"\"SELECT person_name, person_country, person_dob\n",
    "FROM movies.tb_person\n",
    "WHERE person_dod IS NULL\n",
    "ORDER BY person_dob ASC;\"\"\""
   ]
  },
  {
   "cell_type": "code",
   "execution_count": 47,
   "metadata": {},
   "outputs": [
    {
     "name": "stdout",
     "output_type": "stream",
     "text": [
      "Nombre: John Williams, País: United States, Fecha de nacimiento: 1928-08-08\n",
      "Nombre: Vera Miles, País: United States, Fecha de nacimiento: 1929-08-23\n",
      "Nombre: Sean Connery, País: Scotland, Fecha de nacimiento: 1930-07-08\n",
      "Nombre: Robert Duvall, País: United States, Fecha de nacimiento: 1931-01-05\n",
      "Nombre: Morgan Freeman, País: United States, Fecha de nacimiento: 1935-10-01\n",
      "Nombre: Francis Ford Coppola, País: United States, Fecha de nacimiento: 1939-04-07\n",
      "Nombre: Gary Kurtz, País: United States, Fecha de nacimiento: 1940-07-27\n",
      "Nombre: Martin Sheen, País: United States, Fecha de nacimiento: 1940-08-03\n",
      "Nombre: Harrison Ford, País: United States, Fecha de nacimiento: 1942-07-13\n",
      "Nombre: George Lucas, País: United States, Fecha de nacimiento: 1944-05-14\n",
      "Nombre: Carmine Coppola, País: United States, Fecha de nacimiento: 1945-07-08\n",
      "Nombre: Steven Spielberg, País: United States, Fecha de nacimiento: 1946-12-18\n",
      "Nombre: Tim Robbins, País: United States, Fecha de nacimiento: 1949-06-07\n",
      "Nombre: Mel Gibson, País: Australia, Fecha de nacimiento: 1950-08-09\n",
      "Nombre: Tom Hanks, País: United States, Fecha de nacimiento: 1956-07-09\n",
      "Nombre: Emilio Martinez Lazaro, País: Spain, Fecha de nacimiento: 1956-09-09\n",
      "Nombre: Karra Elejalde, País: Spain, Fecha de nacimiento: 1960-03-06\n",
      "Nombre: Emilio Estevez, País: United States, Fecha de nacimiento: 1962-05-12\n",
      "Nombre: Ramón Estevez, País: United States, Fecha de nacimiento: 1963-08-07\n",
      "Nombre: Carmen Machi, País: Spain, Fecha de nacimiento: 1964-08-09\n",
      "Nombre: Charlie Sheen, País: United States, Fecha de nacimiento: 1965-09-03\n",
      "Nombre: Reneé Estevez, País: United States, Fecha de nacimiento: 1967-04-02\n",
      "Nombre: Catherine Zeta-Jones, País: Wales, Fecha de nacimiento: 1969-09-25\n",
      "Nombre: Robert Alamo, País: Spain, Fecha de nacimiento: 1970-05-06\n",
      "Nombre: Daniel Sanchez Arevalo, País: Spain, Fecha de nacimiento: 1970-06-08\n",
      "Nombre: Quim Gutierrez, País: Spain, Fecha de nacimiento: 1981-03-27\n",
      "Nombre: Veronica Echegui, País: Spain, Fecha de nacimiento: 1983-03-14\n",
      "Nombre: Taylor Levi Estevez, País: United States, Fecha de nacimiento: 1984-06-22\n",
      "Nombre: Dani Rovira, País: Spain, Fecha de nacimiento: 1984-07-01\n",
      "Nombre: Paula Speert Sheen, País: United States, Fecha de nacimiento: 1986-01-06\n",
      "Nombre: Paloma Rae Estevez, País: United States, Fecha de nacimiento: 1986-02-15\n",
      "Nombre: Clara Lago, País: Spain, Fecha de nacimiento: 1986-04-17\n",
      "Nombre: Patrick Criado, País: Spain, Fecha de nacimiento: 1995-09-23\n",
      "Nombre: Paula Jones-Sheen, País: United States, Fecha de nacimiento: 2003-07-06\n",
      "Nombre: Sam Sheen, País: United States, Fecha de nacimiento: 2004-03-09\n",
      "Nombre: Lola Sheen, País: United States, Fecha de nacimiento: 2005-06-01\n",
      "Nombre: Bob Sheen, País: United States, Fecha de nacimiento: 2009-05-01\n",
      "Nombre: Max Sheen, País: United States, Fecha de nacimiento: 2009-05-01\n"
     ]
    }
   ],
   "source": [
    "cursor.execute(ex2)\n",
    "resultados = cursor.fetchall()\n",
    "\n",
    "# Imprimir los resultados\n",
    "for resultado in resultados:\n",
    "    nombre = resultado[0]\n",
    "    pais = resultado[1]\n",
    "    fecha_nacimiento = resultado[2]\n",
    "    print(f\"Nombre: {nombre}, País: {pais}, Fecha de nacimiento: {fecha_nacimiento}\")\n"
   ]
  },
  {
   "attachments": {},
   "cell_type": "markdown",
   "metadata": {},
   "source": [
    "- Exercici 3\n",
    "\n",
    "Realitza la següent consulta sobre la base de dades acabada de crear: \n",
    "\n",
    "Has d'obtenir el nom del gènere i el nombre total de pel·lícules d'aquest gènere i ordenar-ho per ordre descendent de nombre total de pel·lícules.  \n",
    "\n",
    "- Ejercicio 3\n",
    "\n",
    "Realiza la siguiente consulta sobre la recién creada base de datos:\n",
    "\n",
    "Tienes que obtener el nombre del género y el número total de películas de ese género y ordenarlo por orden descendente de número total de películas.\n",
    "\n",
    "- Exercise 3\n",
    "\n",
    "Run the following query on the newly created database:\n",
    "\n",
    "You need to get the genre name and the total number of movies in that genre and sort it in descending order of total number of movies.\n",
    "\n"
   ]
  },
  {
   "cell_type": "code",
   "execution_count": 57,
   "metadata": {},
   "outputs": [],
   "source": [
    "ex3 =\"\"\"SELECT COUNT(genre_name) AS gn_count, genre_name FROM tb_movie \\\n",
    "       INNER JOIN tb_genre WHERE tb_genre.genre_id = tb_movie.movie_genre_id \\\n",
    "       GROUP BY genre_name \\\n",
    "       ORDER BY gn_count DESC\"\"\""
   ]
  },
  {
   "cell_type": "code",
   "execution_count": 59,
   "metadata": {},
   "outputs": [
    {
     "name": "stdout",
     "output_type": "stream",
     "text": [
      "Género: Comedia, Total de películas: 3\n",
      "Género: Acción, Total de películas: 2\n",
      "Género: Ciencia Ficción, Total de películas: 2\n",
      "Género: Drama, Total de películas: 2\n",
      "Género: Romance, Total de películas: 2\n",
      "Género: Suspense, Total de películas: 2\n",
      "Género: Fantasía, Total de películas: 1\n",
      "Género: Terror, Total de películas: 1\n",
      "Género: Bélico, Total de películas: 1\n"
     ]
    }
   ],
   "source": [
    "cursor.execute(ex3)\n",
    "resultados = cursor.fetchall()\n",
    "\n",
    "for resultado in resultados:\n",
    "    genero = resultado[1]\n",
    "    total_peliculas = resultado[0]\n",
    "    print(f\"Género: {genero}, Total de películas: {total_peliculas}\")"
   ]
  },
  {
   "attachments": {},
   "cell_type": "markdown",
   "metadata": {},
   "source": [
    "- Exercici 4\n",
    "\n",
    "Realitza la següent consulta sobre la base de dades acabada de crear: \n",
    "\n",
    "Has d'obtenir, per a cada persona, el seu nom i el nombre màxim de rols diferents que ha tingut en una mateixa pel·lícula. \n",
    "\n",
    "Posteriorment, mostra únicament aquelles persones que hagin assumit més d'un rol en una mateixa pel·lícula.\n",
    "\n",
    "- Ejercicio 4\n",
    "\n",
    "Realiza la siguiente consulta sobre la recién creada base de datos:\n",
    "\n",
    "Tienes que obtener, para cada persona, su nombre y el número máximo de roles distintos que ha tenido en una misma película.\n",
    "\n",
    "Posteriormente, muestra únicamente a aquellas personas que hayan asumido más de un rol en una misma película.\n",
    "\n",
    "- Exercise 4\n",
    "\n",
    "Run the following query on the newly created database:\n",
    "\n",
    "You need to get, for each person, their name and the maximum number of different roles they have had in the same movie.\n",
    "\n",
    "Subsequently, it only shows those people who have assumed more than one role in the same film.\n"
   ]
  },
  {
   "cell_type": "code",
   "execution_count": 75,
   "metadata": {},
   "outputs": [],
   "source": [
    "ex4 = \"\"\"SELECT p.person_name, MAX(role_count) AS max_roles\n",
    "FROM (\n",
    "    SELECT mp.person_id, COUNT(DISTINCT mp.role_id) AS role_count\n",
    "    FROM movies.tb_movie_person mp\n",
    "    GROUP BY mp.person_id, mp.movie_id\n",
    "    HAVING COUNT(DISTINCT mp.role_id) > 1\n",
    ") AS subquery\n",
    "JOIN movies.tb_person p ON subquery.person_id = p.person_id\n",
    "GROUP BY p.person_name\n",
    "HAVING MAX(role_count) > 1\n",
    "ORDER BY max_roles DESC;\"\"\""
   ]
  },
  {
   "cell_type": "code",
   "execution_count": 77,
   "metadata": {},
   "outputs": [
    {
     "name": "stdout",
     "output_type": "stream",
     "text": [
      "Persona: Francis Ford Coppola, Roles máximos en una película: 3\n",
      "Persona: Alfred Joseph Hitchcock, Roles máximos en una película: 3\n",
      "Persona: George Lucas, Roles máximos en una película: 2\n",
      "Persona: Steven Spielberg, Roles máximos en una película: 2\n",
      "Persona: Daniel Sanchez Arevalo, Roles máximos en una película: 2\n",
      "Persona: Mel Gibson, Roles máximos en una película: 2\n"
     ]
    }
   ],
   "source": [
    "cursor.execute(ex4)\n",
    "resultados = cursor.fetchall()\n",
    "\n",
    "# Imprimir los resultados\n",
    "for resultado in resultados:\n",
    "    person_name = resultado[0]\n",
    "    max_roles = resultado[1]\n",
    "    #movie_title = resultado[2]\n",
    "    print(f\"Persona: {person_name}, Roles máximos en una película: {max_roles}\")\n"
   ]
  },
  {
   "cell_type": "code",
   "execution_count": 90,
   "metadata": {},
   "outputs": [],
   "source": [
    "ex44 = \"\"\"SELECT p.person_name, m.movie_title, MAX(role_count) AS max_roles\n",
    "FROM (\n",
    "    SELECT mp.person_id, mp.movie_id, COUNT(DISTINCT mp.role_id) AS role_count\n",
    "    FROM movies.tb_movie_person mp\n",
    "    GROUP BY mp.person_id, mp.movie_id\n",
    "    HAVING COUNT(DISTINCT mp.role_id) > 1\n",
    ") AS subquery\n",
    "JOIN movies.tb_person p ON subquery.person_id = p.person_id\n",
    "JOIN movies.tb_movie m ON subquery.movie_id = m.movie_id\n",
    "GROUP BY p.person_name, m.movie_title\n",
    "HAVING MAX(role_count) > 1\n",
    "ORDER BY max_roles DESC;\"\"\""
   ]
  },
  {
   "cell_type": "code",
   "execution_count": 92,
   "metadata": {},
   "outputs": [
    {
     "name": "stdout",
     "output_type": "stream",
     "text": [
      "Persona: Francis Ford Coppola, Película: Apocalypse Now, Máximo de roles: 3\n",
      "Persona: Alfred Joseph Hitchcock, Película: Psycho, Máximo de roles: 3\n",
      "Persona: George Lucas, Película: Indiana Jones and the Temple of Doom, Máximo de roles: 2\n",
      "Persona: Steven Spielberg, Película: The Terminal, Máximo de roles: 2\n",
      "Persona: Daniel Sanchez Arevalo, Película: La Gran Familia Española, Máximo de roles: 2\n",
      "Persona: Mel Gibson, Película: Braveheart, Máximo de roles: 2\n"
     ]
    }
   ],
   "source": [
    "cursor.execute(ex44)\n",
    "resultados = cursor.fetchall()\n",
    "for row in resultados:\n",
    "    person_name = row[0]\n",
    "    movie_title = row[1]\n",
    "    max_roles = row[2]\n",
    "    print(f\"Persona: {person_name}, Película: {movie_title}, Máximo de roles: {max_roles}\")\n"
   ]
  },
  {
   "attachments": {},
   "cell_type": "markdown",
   "metadata": {},
   "source": [
    "- Exercici 5\n",
    "\n",
    "Realitza la següent operació sobre la base de dades acabada de crear: \n",
    "\n",
    "Has de crear un nou gènere anomenat \"Documental\" el qual tingui com a identificador el nombre 69.\n",
    "\n",
    "- Ejercicio 5\n",
    "\n",
    "Realiza la siguiente operación sobre la base de datos recién creada:\n",
    "\n",
    "Debes crear un nuevo género llamado \"Documental\" que tenga como identificador el número 69.\n",
    "\n",
    "- Exercise 5\n",
    "\n",
    "Perform the following operation on the newly created database:\n",
    "\n",
    "You must create a new genre called \"Documentary\" which has the number 69 as its identifier.\n",
    "\n"
   ]
  },
  {
   "cell_type": "code",
   "execution_count": 4,
   "metadata": {},
   "outputs": [],
   "source": [
    "ex5=\"\"\"INSERT INTO movies.tb_genre (genre_id, genre_name)\n",
    "VALUES (69, 'Documental');\"\"\""
   ]
  },
  {
   "cell_type": "code",
   "execution_count": null,
   "metadata": {},
   "outputs": [],
   "source": [
    "cursor.execute(ex5)"
   ]
  },
  {
   "cell_type": "code",
   "execution_count": 25,
   "metadata": {},
   "outputs": [],
   "source": [
    "ex55 = \"\"\"SELECT * FROM tb_genre WHERE genre_id = 69;\"\"\""
   ]
  },
  {
   "cell_type": "code",
   "execution_count": 26,
   "metadata": {},
   "outputs": [
    {
     "name": "stdout",
     "output_type": "stream",
     "text": [
      "[(69, 'Documental', 'OS_SGAD', None, None)]\n"
     ]
    }
   ],
   "source": [
    "cursor.execute(ex55)\n",
    "#result = cursor.fetchall()\n",
    "results = [x for x in cursor.fetchall()]\n",
    "print(results)"
   ]
  },
  {
   "attachments": {},
   "cell_type": "markdown",
   "metadata": {},
   "source": [
    "- Exercici 6\n",
    "\n",
    "Fes la següent operació sobre la base de dades acabada de crear:  \n",
    "\n",
    "Elimina la pel·lícula \"La Gran Familia Española\" de la base de dades.\n",
    "\n",
    "- Ejercicio 6\n",
    "\n",
    "Realiza la siguiente operación sobre la base de datos recién creada:\n",
    "\n",
    "Elimina la película \"La Gran Familia Española\" de la base de datos.\n",
    "\n",
    "- Exercise 6\n",
    "\n",
    "Do the following operation on the newly created database:\n",
    "\n",
    "Remove the movie \"La Gran Familia Española\" from the database.\n"
   ]
  },
  {
   "cell_type": "code",
   "execution_count": 36,
   "metadata": {},
   "outputs": [
    {
     "name": "stdout",
     "output_type": "stream",
     "text": [
      "[(11, 'La Gran Familia Española', datetime.date(2012, 10, 15), 'Digital', 3, 'OS_SGAD', None, None)]\n"
     ]
    }
   ],
   "source": [
    "ex6 =\"\"\"SELECT * FROM movies.tb_movie WHERE movie_title = 'La Gran Familia Española'\"\"\"\n",
    "cursor.execute(ex6)\n",
    "#result = cursor.fetchall()\n",
    "results = [x for x in cursor.fetchall()]\n",
    "print(results)"
   ]
  },
  {
   "cell_type": "code",
   "execution_count": 43,
   "metadata": {},
   "outputs": [],
   "source": [
    "ex666 =\"\"\"DELETE FROM tb_movie WHERE movie_title = 'La Gran Familia Española'\"\"\"\n",
    "cursor.execute(ex666)"
   ]
  },
  {
   "cell_type": "code",
   "execution_count": 44,
   "metadata": {},
   "outputs": [
    {
     "name": "stdout",
     "output_type": "stream",
     "text": [
      "[(1, 'Apocalypse Now', datetime.date(1979, 5, 10), 'Film', 11, 'OS_SGAD', None, None), (2, 'Star Wars:Episode IV - A New Hope', datetime.date(1977, 5, 25), 'Film', 2, 'OS_SGAD', None, None), (3, 'Indiana Jones and the Temple of Doom', datetime.date(1984, 5, 8), 'Film', 1, 'OS_SGAD', None, None), (4, 'The Terminal', datetime.date(2004, 6, 18), 'Digital', 3, 'OS_SGAD', None, None), (5, 'Jaws', datetime.date(1975, 1, 1), 'Film', 10, 'OS_SGAD', None, None), (6, 'ET The Extraterrestrial', datetime.date(1982, 7, 25), 'Film', 5, 'OS_SGAD', None, None), (7, 'Psycho', datetime.date(1960, 5, 6), 'Film', 9, 'OS_SGAD', None, None), (8, 'Ocho Apellidos Vascos', datetime.date(2014, 3, 14), 'Digital', 3, 'OS_SGAD', None, None), (9, 'Ocho Apellidos Catalanes', datetime.date(2016, 6, 9), 'Digital', 8, 'OS_SGAD', None, None), (10, 'El otro lado de la cama', datetime.date(2002, 9, 4), 'Digital', 8, 'OS_SGAD', None, None), (12, 'El dia de la bestia', datetime.date(1994, 12, 25), 'Film', 1, 'OS_SGAD', None, None), (13, 'Braveheart', datetime.date(1995, 8, 8), 'Film', 4, 'OS_SGAD', None, None), (14, 'The Shawshank Redemption', datetime.date(1992, 1, 7), 'Film', 4, 'OS_SGAD', None, None), (15, 'Las brujas de Zugarramurdi', datetime.date(2009, 10, 7), 'Digital', 9, 'OS_SGAD', None, None), (16, 'Blade Runner', datetime.date(1982, 12, 25), 'Digital', 2, 'OS_SGAD', None, None)]\n"
     ]
    }
   ],
   "source": [
    "ex6666=\"\"\"SELECT * FROM tb_movie;\"\"\"\n",
    "cursor.execute(ex6666)\n",
    "#result = cursor.fetchall()\n",
    "results = [x for x in cursor.fetchall()]\n",
    "print(results)"
   ]
  },
  {
   "cell_type": "code",
   "execution_count": 46,
   "metadata": {},
   "outputs": [
    {
     "name": "stdout",
     "output_type": "stream",
     "text": [
      "El registro no existe\n"
     ]
    }
   ],
   "source": [
    "sql = \"SELECT COUNT(*) FROM tb_movie WHERE movie_title = 'La Gran Familia Española'\"\n",
    "cursor.execute(sql)\n",
    "\n",
    "# Obtener el resultado de la consulta\n",
    "result = cursor.fetchone()\n",
    "\n",
    "# Comprobar si existe un registro\n",
    "if result[0] > 0:\n",
    "    print(\"El registro existe\")\n",
    "else:\n",
    "    print(\"El registro no existe\")\n"
   ]
  },
  {
   "attachments": {},
   "cell_type": "markdown",
   "metadata": {},
   "source": [
    "- Exercici 7\n",
    "\n",
    "Realitza la següent operació sobre la base de dades acabada de crear: \n",
    "\n",
    "Canvia el gènere de la pel·lícula \"Ocho apellidos catalanes\" perquè consti com a comèdia i no com a romàntica.\n",
    "\n",
    "- Ejercicio 7\n",
    "\n",
    "Realiza la siguiente operación sobre la base de datos recién creada:\n",
    "\n",
    "Cambia el género de la película \"Ocho apellidos catalanes\" para que conste como comedia y no como romántica.\n",
    "\n",
    "- Exercise 7\n",
    "\n",
    "Perform the following operation on the newly created database:\n",
    "\n",
    "Change the genre of the film \"Ocho apellidos catalanes\" so that it is recorded as a comedy and not as a romance.\n"
   ]
  },
  {
   "cell_type": "code",
   "execution_count": 66,
   "metadata": {},
   "outputs": [],
   "source": [
    "sql = \"\"\"UPDATE tb_genre, tb_movie \n",
    "         SET genre_name = 'Comedia', movie_genre_id = 3 \n",
    "         WHERE movie_title = 'Ocho Apellidos Catalanes';\"\"\"\n",
    "cursor.execute(sql)"
   ]
  },
  {
   "cell_type": "code",
   "execution_count": 69,
   "metadata": {},
   "outputs": [
    {
     "name": "stdout",
     "output_type": "stream",
     "text": [
      "[9, 'Ocho Apellidos Catalanes', datetime.date(2016, 6, 9), 'Digital', 3, 'OS_SGAD', None, None, 1, 'Comedia', 'OS_SGAD', None, None]\n"
     ]
    }
   ],
   "source": [
    "sql = \"\"\"SELECT * FROM tb_movie, tb_genre\n",
    "       WHERE movie_title = 'Ocho Apellidos Catalanes';\"\"\"\n",
    "cursor.execute(sql)\n",
    "results = [x for x in cursor.fetchone()]\n",
    "print(results)"
   ]
  },
  {
   "cell_type": "code",
   "execution_count": 72,
   "metadata": {},
   "outputs": [],
   "source": [
    "mydb.commit()\n",
    "mydb.close()"
   ]
  }
 ],
 "metadata": {
  "kernelspec": {
   "display_name": "Python 3",
   "language": "python",
   "name": "python3"
  },
  "language_info": {
   "codemirror_mode": {
    "name": "ipython",
    "version": 3
   },
   "file_extension": ".py",
   "mimetype": "text/x-python",
   "name": "python",
   "nbconvert_exporter": "python",
   "pygments_lexer": "ipython3",
   "version": "3.10.1 (tags/v3.10.1:2cd268a, Dec  6 2021, 19:10:37) [MSC v.1929 64 bit (AMD64)]"
  },
  "orig_nbformat": 4,
  "vscode": {
   "interpreter": {
    "hash": "af153e239d61b5c0d363f35fe8a0509d492506f382d017c98fa3fb49fce70a72"
   }
  }
 },
 "nbformat": 4,
 "nbformat_minor": 2
}
